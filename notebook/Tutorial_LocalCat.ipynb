{
 "cells": [
  {
   "cell_type": "markdown",
   "id": "b699bd94-4bde-4062-b08e-956646f4bbc5",
   "metadata": {
    "tags": []
   },
   "source": [
    "- **Title: Tutorial of LocalCat**\n",
    "- **Author**: Ewen Wang (ewang1@volvocars.com)\n",
    "- **Last Update**: March 4, 2024\n",
    "\n",
    "This tutorial will guide you through the process of using **LocalCat** to load pre-trained LLMs and fine-tune them with domain data.\n",
    "\n",
    "# Load Pre-trained LLMs\n",
    "\n",
    "**LocalCat** simplifies the process of loading pre-trained LLMs.\n",
    "\n",
    "## Load Packages"
   ]
  },
  {
   "cell_type": "code",
   "execution_count": null,
   "id": "9dfb827c-ba15-4c21-89ee-d57327eb36e7",
   "metadata": {},
   "outputs": [],
   "source": [
    "# pip install -r requirements.txt"
   ]
  },
  {
   "cell_type": "code",
   "execution_count": null,
   "id": "aa8172c5-432a-46ba-a68f-208673aa5fdb",
   "metadata": {},
   "outputs": [],
   "source": [
    "import pandas as pd\n",
    "\n",
    "from LocalCat.Translate import Translate\n",
    "from LocalCat.Translate import Local"
   ]
  },
  {
   "cell_type": "code",
   "execution_count": null,
   "id": "adec01df-e733-4c2c-9374-ac44626190c6",
   "metadata": {},
   "outputs": [],
   "source": [
    "model_mbart = \"facebook/mbart-large-50-many-to-many-mmt\"\n",
    "\n",
    "trans = Translate(model_name_or_path=model_mbart,\n",
    "                  src_lang='zh_CN',\n",
    "                  tgt_lang='en_XX')"
   ]
  },
  {
   "cell_type": "markdown",
   "id": "677f055c-073a-4029-b5d3-37ec6f378397",
   "metadata": {},
   "source": [
    "**Note:**\n",
    "\n",
    "For AI engineers in China, you may use hugging face mirror sites, such as [hf-mirror.com](https://hf-mirror.com/). \n",
    "    \n",
    "``` bash\n",
    "HF_ENDPOINT=https://hf-mirror.com python3 download_model.py\n",
    "```"
   ]
  },
  {
   "cell_type": "markdown",
   "id": "c504b32e-644d-431b-8c23-f424f9914027",
   "metadata": {},
   "source": [
    "## Translate by Case"
   ]
  },
  {
   "cell_type": "code",
   "execution_count": null,
   "id": "4ad6ca13-66a5-4e27-82ad-f1721dcf307f",
   "metadata": {},
   "outputs": [],
   "source": [
    "text = \"开空调的情况下，续航掉的太快了，特别是冬天天气冷的时候，不开空调不行，天气一冻，续航就掉的更快\"\n",
    "print(trans.translator(text=text))"
   ]
  },
  {
   "cell_type": "markdown",
   "id": "2021dad1-2c07-4b56-a502-e347d9cf6576",
   "metadata": {},
   "source": [
    "## Translate on Batch\n",
    "\n",
    "**LocalCat** also supports batch translation. All you need to do is to load the data and call the `translator_batch` method.\n",
    "\n",
    "The data should be in the form of a `pandas` DataFrame."
   ]
  },
  {
   "cell_type": "code",
   "execution_count": null,
   "id": "fe30601c-46ce-4c94-9d0d-f5a5ab940e0c",
   "metadata": {},
   "outputs": [],
   "source": [
    "file_inference = \"../data/trans/INFERENCE_SAMPLE.csv\"\n",
    "\n",
    "df = pd.read_csv(file_inference)\n",
    "df.head()"
   ]
  },
  {
   "cell_type": "code",
   "execution_count": null,
   "id": "a050a2b6-f480-4a53-aa63-0608e8c43e7a",
   "metadata": {},
   "outputs": [],
   "source": [
    "df = trans.translator_batch(df=df, \n",
    "                            col_src='Chinese', \n",
    "                            col_tgt=\"English\")"
   ]
  },
  {
   "cell_type": "code",
   "execution_count": null,
   "id": "0ebe497c-b67b-44a0-a04e-2b1ed0458651",
   "metadata": {},
   "outputs": [],
   "source": [
    "df.head()"
   ]
  },
  {
   "cell_type": "markdown",
   "id": "6ceadba2-ccb3-42e5-9912-e01ba263d66b",
   "metadata": {},
   "source": [
    "# Fine-tune LLMs with Domain Data\n",
    "\n",
    "**LocalCat** also supports fine-tuning pre-trained LLMs with domain data.\n",
    "\n",
    "![](../images/finetune.png)\n",
    "\n",
    "## Fine-tune LLM\n",
    "\n",
    "To fine-tune a LLM, you need some labelled data. Here we simplify it as a `pandas` dataframe. \n",
    "\n",
    "For translation task, spicificly, you need the source text and target text to train the model."
   ]
  },
  {
   "cell_type": "code",
   "execution_count": null,
   "id": "83ab7745-9eb8-4ab8-8337-96e74c946c4e",
   "metadata": {},
   "outputs": [],
   "source": [
    "file_training = \"../data/trans/PROC-NCVQS-2023.csv\"\n",
    "\n",
    "df = pd.read_csv(file_training)"
   ]
  },
  {
   "cell_type": "code",
   "execution_count": null,
   "id": "ff54f656-d527-4144-aecb-cf52b4192f62",
   "metadata": {},
   "outputs": [],
   "source": [
    "df.head()"
   ]
  },
  {
   "cell_type": "code",
   "execution_count": null,
   "id": "911f90d0-c488-4c4e-8995-f3aaa365c712",
   "metadata": {},
   "outputs": [],
   "source": [
    "# model_mbart = \"facebook/mbart-large-50-many-to-many-mmt\"\n",
    "# trans = Translate(model_mbart)\n",
    "\n",
    "finetuned_model_path = \"../models/mbart-finetuned-cn-to-en-auto-2023\"\n",
    "\n",
    "trans.finetune(df=df, \n",
    "               finetuned_model_path=finetuned_model_path,\n",
    "               train_size=0.98, \n",
    "               batch_size=4,\n",
    "               learning_rate=2e-5,\n",
    "               num_train_epochs=1)"
   ]
  },
  {
   "cell_type": "code",
   "execution_count": null,
   "id": "625fc0ab-c812-419e-8b0f-52be3c941ec9",
   "metadata": {},
   "outputs": [],
   "source": [
    "finetuned_model_path = \"../models/mbart-finetuned-cn-to-en-auto-2023\"\n",
    "\n",
    "text = \"开空调的情况下，续航掉的太快了，特别是冬天天气冷的时候，不开空调不行，天气一冻，续航就掉的更快\"\n",
    "\n",
    "trans = Translate(model_name_or_path=finetuned_model_path)\n",
    "print(trans.translator(text=text))"
   ]
  },
  {
   "cell_type": "markdown",
   "id": "ed809bc8-43a2-4759-b046-e4fa0ec3f019",
   "metadata": {},
   "source": [
    "# Deploy the LLM\n",
    "\n",
    "**LocalCat** also supports deploying LLMs on the cloud (AWS Sagemaker Endpoint). \n",
    "\n",
    "![](../images/aws_llm.png)\n",
    "\n",
    "Deploying the model contains the following steps:\n",
    "\n",
    "1. Push the model to S3\n",
    "2. Deploy the model as an endpoint\n",
    "3. Test the endpoint"
   ]
  },
  {
   "cell_type": "code",
   "execution_count": null,
   "id": "e6b6d642-8fda-4b2c-9ac2-cb53071a1b3a",
   "metadata": {},
   "outputs": [],
   "source": [
    "model_path = \"../models/\"\n",
    "model_finetuned = \"mbart-finetuned-cn-to-en-auto-2023\""
   ]
  },
  {
   "cell_type": "markdown",
   "id": "68267569-2719-49b8-8f3e-0d8525b02666",
   "metadata": {},
   "source": [
    "## Step 1: Push the model to S3"
   ]
  },
  {
   "cell_type": "code",
   "execution_count": null,
   "id": "a363fc77-24f6-48f7-bdf1-8ea50654e8f8",
   "metadata": {},
   "outputs": [],
   "source": [
    "bucket = \"ai\"\n",
    "prefix = \"llm\"\n",
    "\n",
    "local = Local(model_name=model_finetuned, model_path=model_path)\n",
    "local.push_to_s3(bucket=bucket, prefix=prefix)"
   ]
  },
  {
   "cell_type": "markdown",
   "id": "484fc763-8e9a-4922-b61b-8f84fbccc121",
   "metadata": {},
   "source": [
    "## Step2: Deploy the model as an endpoint"
   ]
  },
  {
   "cell_type": "code",
   "execution_count": null,
   "id": "4ae2f37a-16d1-424f-8ea6-842c511aeb7c",
   "metadata": {},
   "outputs": [],
   "source": [
    "local.deploy(instance_type='ml.g4dn.4xlarge',\n",
    "             transformers_version='4.37.0', \n",
    "             pytorch_version='2.1.0', \n",
    "             py_version='py310')"
   ]
  },
  {
   "cell_type": "markdown",
   "id": "dcaea51b-91a2-4bed-a668-cd74e6e452d9",
   "metadata": {},
   "source": [
    "## Step 3: Test the endpoint\n",
    "\n",
    "Check the endpoint name in the AWS Sagemaker Console, say `MBART-20240226-024324`."
   ]
  },
  {
   "cell_type": "code",
   "execution_count": null,
   "id": "a36e02d4-4a98-47c1-b2c7-aaa62737d377",
   "metadata": {},
   "outputs": [],
   "source": [
    "local = Local()\n",
    "local.endpoint_name = \"MBART-20240226-024324\" \n",
    "\n",
    "text = \"开空调的情况下，续航掉的太快了，特别是冬天天气冷的时候，不开空调不行，天气一冻，续航就掉的更快\"\n",
    "result = local.translator(text=text)\n",
    "print(result)"
   ]
  }
 ],
 "metadata": {
  "kernelspec": {
   "display_name": "Python 3 (ipykernel)",
   "language": "python",
   "name": "python3"
  },
  "language_info": {
   "codemirror_mode": {
    "name": "ipython",
    "version": 3
   },
   "file_extension": ".py",
   "mimetype": "text/x-python",
   "name": "python",
   "nbconvert_exporter": "python",
   "pygments_lexer": "ipython3",
   "version": "3.8.8"
  },
  "toc-autonumbering": true,
  "toc-showmarkdowntxt": false
 },
 "nbformat": 4,
 "nbformat_minor": 5
}
