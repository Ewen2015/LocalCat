{
 "cells": [
  {
   "cell_type": "markdown",
   "id": "b699bd94-4bde-4062-b08e-956646f4bbc5",
   "metadata": {
    "tags": []
   },
   "source": [
    "- **Title: Tutorial of LocalCat**\n",
    "- **Author**: Ewen Wang (ewang1@volvocars.com)\n",
    "- **Last Update**: March 4, 2024\n",
    "\n",
    "This tutorial will guide you through the process of using **LocalCat** to load pre-trained LLMs and fine-tune them with domain data.\n",
    "\n",
    "# Load Pre-trained LLMs\n",
    "\n",
    "**LocalCat** simplifies the process of loading pre-trained LLMs.\n",
    "\n",
    "## Load Packages"
   ]
  },
  {
   "cell_type": "code",
   "execution_count": 1,
   "id": "9dfb827c-ba15-4c21-89ee-d57327eb36e7",
   "metadata": {},
   "outputs": [],
   "source": [
    "# pip install -r requirements.txt"
   ]
  },
  {
   "cell_type": "code",
   "execution_count": 2,
   "id": "aa8172c5-432a-46ba-a68f-208673aa5fdb",
   "metadata": {},
   "outputs": [
    {
     "name": "stdout",
     "output_type": "stream",
     "text": [
      "sagemaker.config INFO - Not applying SDK defaults from location: /etc/xdg/sagemaker/config.yaml\n",
      "sagemaker.config INFO - Not applying SDK defaults from location: /home/jovyan/.config/sagemaker/config.yaml\n"
     ]
    }
   ],
   "source": [
    "import pandas as pd\n",
    "\n",
    "from LocalCat.Translate import Translate\n",
    "from LocalCat.Translate import Local"
   ]
  },
  {
   "cell_type": "code",
   "execution_count": 3,
   "id": "adec01df-e733-4c2c-9374-ac44626190c6",
   "metadata": {},
   "outputs": [],
   "source": [
    "model_mbart = \"facebook/mbart-large-50-many-to-many-mmt\"\n",
    "\n",
    "trans = Translate(model_name_or_path=model_mbart,\n",
    "                  src_lang='zh_CN',\n",
    "                  tgt_lang='en_XX')"
   ]
  },
  {
   "cell_type": "markdown",
   "id": "677f055c-073a-4029-b5d3-37ec6f378397",
   "metadata": {},
   "source": [
    "**Note:**\n",
    "\n",
    "For AI engineers in China, you may use hugging face mirror sites, such as [hf-mirror.com](https://hf-mirror.com/). \n",
    "    \n",
    "``` bash\n",
    "HF_ENDPOINT=https://hf-mirror.com python3 download_model.py\n",
    "```"
   ]
  },
  {
   "cell_type": "markdown",
   "id": "c504b32e-644d-431b-8c23-f424f9914027",
   "metadata": {},
   "source": [
    "## Translate by Case"
   ]
  },
  {
   "cell_type": "code",
   "execution_count": 4,
   "id": "4ad6ca13-66a5-4e27-82ad-f1721dcf307f",
   "metadata": {},
   "outputs": [
    {
     "name": "stdout",
     "output_type": "stream",
     "text": [
      "It's too fast to resume air-conditioning, especially when it's cold in winter. No air-conditioning is not possible. If it's freezing, it's faster to resume\n"
     ]
    }
   ],
   "source": [
    "text = \"开空调的情况下，续航掉的太快了，特别是冬天天气冷的时候，不开空调不行，天气一冻，续航就掉的更快\"\n",
    "print(trans.translator(text=text))"
   ]
  },
  {
   "cell_type": "markdown",
   "id": "2021dad1-2c07-4b56-a502-e347d9cf6576",
   "metadata": {},
   "source": [
    "## Translate on Batch\n",
    "\n",
    "**LocalCat** also supports batch translation. All you need to do is to load the data and call the `translator_batch` method.\n",
    "\n",
    "The data should be in the form of a `pandas` DataFrame."
   ]
  },
  {
   "cell_type": "code",
   "execution_count": 5,
   "id": "fe30601c-46ce-4c94-9d0d-f5a5ab940e0c",
   "metadata": {},
   "outputs": [
    {
     "data": {
      "text/html": [
       "<div>\n",
       "<style scoped>\n",
       "    .dataframe tbody tr th:only-of-type {\n",
       "        vertical-align: middle;\n",
       "    }\n",
       "\n",
       "    .dataframe tbody tr th {\n",
       "        vertical-align: top;\n",
       "    }\n",
       "\n",
       "    .dataframe thead th {\n",
       "        text-align: right;\n",
       "    }\n",
       "</style>\n",
       "<table border=\"1\" class=\"dataframe\">\n",
       "  <thead>\n",
       "    <tr style=\"text-align: right;\">\n",
       "      <th></th>\n",
       "      <th>Chinese</th>\n",
       "    </tr>\n",
       "  </thead>\n",
       "  <tbody>\n",
       "    <tr>\n",
       "      <th>0</th>\n",
       "      <td>第二排的舒适性不太理想，减震有点硬，平时有坎时感觉咣当一下，不是很舒服，选择舒适性</td>\n",
       "    </tr>\n",
       "    <tr>\n",
       "      <th>1</th>\n",
       "      <td>减震硬，路况不好的地方不太舒服，选择舒适性（在路况不好，沟沟坎坎比较多时候，车内晃动大）</td>\n",
       "    </tr>\n",
       "    <tr>\n",
       "      <th>2</th>\n",
       "      <td>车内的网络连接不稳定（自带的车联网，通过流量卡连接的互联网，有时使用中会突然没有网，在使用任何APP时都有发生几率，不知是什么原因）</td>\n",
       "    </tr>\n",
       "    <tr>\n",
       "      <th>3</th>\n",
       "      <td>开空调时车内有潮气的味道，开热风冷风都会有，问了问，有人说是滤芯的气味，不是很重（新车，没有更换过空气滤波器）</td>\n",
       "    </tr>\n",
       "    <tr>\n",
       "      <th>4</th>\n",
       "      <td>第二排两侧的车门关门时声音咚咚的，声音很沉，感觉车门有点重，听上去没有质感，不是什么大问题，设计的问题</td>\n",
       "    </tr>\n",
       "  </tbody>\n",
       "</table>\n",
       "</div>"
      ],
      "text/plain": [
       "                                                              Chinese\n",
       "0                           第二排的舒适性不太理想，减震有点硬，平时有坎时感觉咣当一下，不是很舒服，选择舒适性\n",
       "1                        减震硬，路况不好的地方不太舒服，选择舒适性（在路况不好，沟沟坎坎比较多时候，车内晃动大）\n",
       "2  车内的网络连接不稳定（自带的车联网，通过流量卡连接的互联网，有时使用中会突然没有网，在使用任何APP时都有发生几率，不知是什么原因）\n",
       "3             开空调时车内有潮气的味道，开热风冷风都会有，问了问，有人说是滤芯的气味，不是很重（新车，没有更换过空气滤波器）\n",
       "4                 第二排两侧的车门关门时声音咚咚的，声音很沉，感觉车门有点重，听上去没有质感，不是什么大问题，设计的问题"
      ]
     },
     "execution_count": 5,
     "metadata": {},
     "output_type": "execute_result"
    }
   ],
   "source": [
    "file_inference = \"../data/trans/PROC-SAMPLE-INFERENCE.csv\"\n",
    "\n",
    "df = pd.read_csv(file_inference)\n",
    "df.head()"
   ]
  },
  {
   "cell_type": "code",
   "execution_count": 6,
   "id": "a050a2b6-f480-4a53-aa63-0608e8c43e7a",
   "metadata": {},
   "outputs": [
    {
     "name": "stderr",
     "output_type": "stream",
     "text": [
      "100%|██████████| 5/5 [00:05<00:00,  1.14s/it]\n"
     ]
    }
   ],
   "source": [
    "df = trans.translator_batch(df=df, \n",
    "                            col_src='Chinese', \n",
    "                            col_tgt=\"English\")"
   ]
  },
  {
   "cell_type": "code",
   "execution_count": 7,
   "id": "0ebe497c-b67b-44a0-a04e-2b1ed0458651",
   "metadata": {},
   "outputs": [
    {
     "data": {
      "text/html": [
       "<div>\n",
       "<style scoped>\n",
       "    .dataframe tbody tr th:only-of-type {\n",
       "        vertical-align: middle;\n",
       "    }\n",
       "\n",
       "    .dataframe tbody tr th {\n",
       "        vertical-align: top;\n",
       "    }\n",
       "\n",
       "    .dataframe thead th {\n",
       "        text-align: right;\n",
       "    }\n",
       "</style>\n",
       "<table border=\"1\" class=\"dataframe\">\n",
       "  <thead>\n",
       "    <tr style=\"text-align: right;\">\n",
       "      <th></th>\n",
       "      <th>Chinese</th>\n",
       "      <th>English</th>\n",
       "    </tr>\n",
       "  </thead>\n",
       "  <tbody>\n",
       "    <tr>\n",
       "      <th>0</th>\n",
       "      <td>第二排的舒适性不太理想，减震有点硬，平时有坎时感觉咣当一下，不是很舒服，选择舒适性</td>\n",
       "      <td>The comfort of the second row is not ideal, the shock reduction is a bit hard, normally when there is a can feel a bit, not comfortable, choose comfort</td>\n",
       "    </tr>\n",
       "    <tr>\n",
       "      <th>1</th>\n",
       "      <td>减震硬，路况不好的地方不太舒服，选择舒适性（在路况不好，沟沟坎坎比较多时候，车内晃动大）</td>\n",
       "      <td>Reduce shaking, where bad road conditions are uncomfortable, choose comfort (in bad road conditions, ditch ditch ditch ditch more time, the car shakes big)</td>\n",
       "    </tr>\n",
       "    <tr>\n",
       "      <th>2</th>\n",
       "      <td>车内的网络连接不稳定（自带的车联网，通过流量卡连接的互联网，有时使用中会突然没有网，在使用任何APP时都有发生几率，不知是什么原因）</td>\n",
       "      <td>Unstable network connections in the car (self-contained networks, networks connected via traffic cards, sometimes without a network when in use, and most likely when using any APP, for whatever reason)</td>\n",
       "    </tr>\n",
       "    <tr>\n",
       "      <th>3</th>\n",
       "      <td>开空调时车内有潮气的味道，开热风冷风都会有，问了问，有人说是滤芯的气味，不是很重（新车，没有更换过空气滤波器）</td>\n",
       "      <td>When you turn on the air conditioner, there's a smell of moisture in the car, and when you turn on the hot air, there's a cold air. Some people say it's a filtered air, and it's not very heavy. (New car, no air filter has been replaced)</td>\n",
       "    </tr>\n",
       "    <tr>\n",
       "      <th>4</th>\n",
       "      <td>第二排两侧的车门关门时声音咚咚的，声音很沉，感觉车门有点重，听上去没有质感，不是什么大问题，设计的问题</td>\n",
       "      <td>When the doors on both sides of the second row were closed, the sound was loud, and it felt like the doors were a bit heavy, and it didn't sound good. It wasn't a big problem, it was a design problem</td>\n",
       "    </tr>\n",
       "  </tbody>\n",
       "</table>\n",
       "</div>"
      ],
      "text/plain": [
       "                                                              Chinese  \\\n",
       "0                           第二排的舒适性不太理想，减震有点硬，平时有坎时感觉咣当一下，不是很舒服，选择舒适性   \n",
       "1                        减震硬，路况不好的地方不太舒服，选择舒适性（在路况不好，沟沟坎坎比较多时候，车内晃动大）   \n",
       "2  车内的网络连接不稳定（自带的车联网，通过流量卡连接的互联网，有时使用中会突然没有网，在使用任何APP时都有发生几率，不知是什么原因）   \n",
       "3             开空调时车内有潮气的味道，开热风冷风都会有，问了问，有人说是滤芯的气味，不是很重（新车，没有更换过空气滤波器）   \n",
       "4                 第二排两侧的车门关门时声音咚咚的，声音很沉，感觉车门有点重，听上去没有质感，不是什么大问题，设计的问题   \n",
       "\n",
       "                                                                                                                                                                                                                                        English  \n",
       "0                                                                                       The comfort of the second row is not ideal, the shock reduction is a bit hard, normally when there is a can feel a bit, not comfortable, choose comfort  \n",
       "1                                                                                   Reduce shaking, where bad road conditions are uncomfortable, choose comfort (in bad road conditions, ditch ditch ditch ditch more time, the car shakes big)  \n",
       "2                                     Unstable network connections in the car (self-contained networks, networks connected via traffic cards, sometimes without a network when in use, and most likely when using any APP, for whatever reason)  \n",
       "3  When you turn on the air conditioner, there's a smell of moisture in the car, and when you turn on the hot air, there's a cold air. Some people say it's a filtered air, and it's not very heavy. (New car, no air filter has been replaced)  \n",
       "4                                       When the doors on both sides of the second row were closed, the sound was loud, and it felt like the doors were a bit heavy, and it didn't sound good. It wasn't a big problem, it was a design problem  "
      ]
     },
     "execution_count": 7,
     "metadata": {},
     "output_type": "execute_result"
    }
   ],
   "source": [
    "df.head()"
   ]
  },
  {
   "cell_type": "markdown",
   "id": "6ceadba2-ccb3-42e5-9912-e01ba263d66b",
   "metadata": {},
   "source": [
    "# Fine-tune LLMs with Domain Data\n",
    "\n",
    "**LocalCat** also supports fine-tuning pre-trained LLMs with domain data.\n",
    "\n",
    "![](../images/finetune.png)\n",
    "\n",
    "## Fine-tune LLM\n",
    "\n",
    "To fine-tune a LLM, you need some labelled data. Here we simplify it as a `pandas` dataframe. \n",
    "\n",
    "For translation task, spicificly, you need the source text and target text to train the model."
   ]
  },
  {
   "cell_type": "code",
   "execution_count": 8,
   "id": "83ab7745-9eb8-4ab8-8337-96e74c946c4e",
   "metadata": {},
   "outputs": [],
   "source": [
    "file_training = \"../data/trans/PROC-NCVQS-2023.csv\"\n",
    "\n",
    "df = pd.read_csv(file_training)"
   ]
  },
  {
   "cell_type": "code",
   "execution_count": 9,
   "id": "ff54f656-d527-4144-aecb-cf52b4192f62",
   "metadata": {},
   "outputs": [
    {
     "data": {
      "text/html": [
       "<div>\n",
       "<style scoped>\n",
       "    .dataframe tbody tr th:only-of-type {\n",
       "        vertical-align: middle;\n",
       "    }\n",
       "\n",
       "    .dataframe tbody tr th {\n",
       "        vertical-align: top;\n",
       "    }\n",
       "\n",
       "    .dataframe thead th {\n",
       "        text-align: right;\n",
       "    }\n",
       "</style>\n",
       "<table border=\"1\" class=\"dataframe\">\n",
       "  <thead>\n",
       "    <tr style=\"text-align: right;\">\n",
       "      <th></th>\n",
       "      <th>Chinese</th>\n",
       "      <th>English</th>\n",
       "    </tr>\n",
       "  </thead>\n",
       "  <tbody>\n",
       "    <tr>\n",
       "      <th>0</th>\n",
       "      <td>开空调的情况下，续航掉的太快了，特别是冬天天气冷的时候，不开空调不行，天气一冻，续航就掉的更快</td>\n",
       "      <td>In the case of turning on the air conditioner, the electric range drops too fast, especially when the weather is cold in winter, if you don't turn on the air conditioner, the weather freezes, the battery life will fall faster.</td>\n",
       "    </tr>\n",
       "    <tr>\n",
       "      <th>1</th>\n",
       "      <td>车机流畅度差，容易卡死机，车机系统，启动载入很慢，换挡杆前的车机，使用任何功能都有概率死机，发生过3-4次</td>\n",
       "      <td>The smoothness of the IHU is poor, easy to jam, the car machine system, the start loading is very slow, the car machine before the gear lever, using any function has a probability of crashing, which has occurred 3-4 times.</td>\n",
       "    </tr>\n",
       "    <tr>\n",
       "      <th>2</th>\n",
       "      <td>整车的悬架系统，在过减速带时，速度在20码以下，但是车身的抖动还是很厉害，舒适性为第一的，美系车相比，差距还是比较大的</td>\n",
       "      <td>The suspension system of the whole car, when crossing the speed bump, the speed is below 20km/h, but the shaking of the body is still very strong, the comfort is the first, compared with the American car, the gap is still relatively large.</td>\n",
       "    </tr>\n",
       "    <tr>\n",
       "      <th>3</th>\n",
       "      <td>大众车的通病，车子的隔音效果不太理想，车速在90码以上，车内的胎噪声就很明显了，必须把音量调大，才能缓解一点（是原厂轮胎，车窗关闭）</td>\n",
       "      <td>The common problem of Volkswagen, the sound insulation of the car is not ideal, the speed is above 90km/h, the tire noise in the car is obvious, the volume must be turned up, in order to alleviate a little (is the original tires, the windows are closed.</td>\n",
       "    </tr>\n",
       "    <tr>\n",
       "      <th>4</th>\n",
       "      <td>车辆外观很不错，但是车标在晚上不能发亮，要是可以发亮的话会更拉风一点</td>\n",
       "      <td>The appearance of the vehicle is very good, but the logo cannot be shiny at night, if it can be bright, it will be more stunning.</td>\n",
       "    </tr>\n",
       "  </tbody>\n",
       "</table>\n",
       "</div>"
      ],
      "text/plain": [
       "                                                              Chinese  \\\n",
       "0                     开空调的情况下，续航掉的太快了，特别是冬天天气冷的时候，不开空调不行，天气一冻，续航就掉的更快   \n",
       "1               车机流畅度差，容易卡死机，车机系统，启动载入很慢，换挡杆前的车机，使用任何功能都有概率死机，发生过3-4次   \n",
       "2         整车的悬架系统，在过减速带时，速度在20码以下，但是车身的抖动还是很厉害，舒适性为第一的，美系车相比，差距还是比较大的   \n",
       "3  大众车的通病，车子的隔音效果不太理想，车速在90码以上，车内的胎噪声就很明显了，必须把音量调大，才能缓解一点（是原厂轮胎，车窗关闭）   \n",
       "4                                  车辆外观很不错，但是车标在晚上不能发亮，要是可以发亮的话会更拉风一点   \n",
       "\n",
       "                                                                                                                                                                                                                                                         English  \n",
       "0                             In the case of turning on the air conditioner, the electric range drops too fast, especially when the weather is cold in winter, if you don't turn on the air conditioner, the weather freezes, the battery life will fall faster.  \n",
       "1                                 The smoothness of the IHU is poor, easy to jam, the car machine system, the start loading is very slow, the car machine before the gear lever, using any function has a probability of crashing, which has occurred 3-4 times.  \n",
       "2                The suspension system of the whole car, when crossing the speed bump, the speed is below 20km/h, but the shaking of the body is still very strong, the comfort is the first, compared with the American car, the gap is still relatively large.  \n",
       "3  The common problem of Volkswagen, the sound insulation of the car is not ideal, the speed is above 90km/h, the tire noise in the car is obvious, the volume must be turned up, in order to alleviate a little (is the original tires, the windows are closed.  \n",
       "4                                                                                                                              The appearance of the vehicle is very good, but the logo cannot be shiny at night, if it can be bright, it will be more stunning.  "
      ]
     },
     "execution_count": 9,
     "metadata": {},
     "output_type": "execute_result"
    }
   ],
   "source": [
    "df.head()"
   ]
  },
  {
   "cell_type": "code",
   "execution_count": 10,
   "id": "911f90d0-c488-4c4e-8995-f3aaa365c712",
   "metadata": {},
   "outputs": [
    {
     "data": {
      "application/vnd.jupyter.widget-view+json": {
       "model_id": "a824db5e3a484583a2970b6817d01dac",
       "version_major": 2,
       "version_minor": 0
      },
      "text/plain": [
       "Map:   0%|          | 0/438 [00:00<?, ? examples/s]"
      ]
     },
     "metadata": {},
     "output_type": "display_data"
    },
    {
     "data": {
      "application/vnd.jupyter.widget-view+json": {
       "model_id": "7b2a28c096fa4f61adc14704777dbc83",
       "version_major": 2,
       "version_minor": 0
      },
      "text/plain": [
       "Map:   0%|          | 0/5 [00:00<?, ? examples/s]"
      ]
     },
     "metadata": {},
     "output_type": "display_data"
    },
    {
     "data": {
      "application/vnd.jupyter.widget-view+json": {
       "model_id": "64a3b497afae4c04a16b9e832eeac87c",
       "version_major": 2,
       "version_minor": 0
      },
      "text/plain": [
       "Map:   0%|          | 0/4 [00:00<?, ? examples/s]"
      ]
     },
     "metadata": {},
     "output_type": "display_data"
    },
    {
     "name": "stderr",
     "output_type": "stream",
     "text": [
      "/opt/conda/lib/python3.8/site-packages/transformers/optimization.py:411: FutureWarning: This implementation of AdamW is deprecated and will be removed in a future version. Use the PyTorch implementation torch.optim.AdamW instead, or set `no_deprecation_warning=True` to disable this warning\n",
      "  warnings.warn(\n",
      "You're using a MBart50TokenizerFast tokenizer. Please note that with a fast tokenizer, using the `__call__` method is faster than using a method to encode the text followed by a call to the `pad` method to get a padded encoding.\n"
     ]
    },
    {
     "data": {
      "text/html": [
       "\n",
       "    <div>\n",
       "      \n",
       "      <progress value='440' max='440' style='width:300px; height:20px; vertical-align: middle;'></progress>\n",
       "      [440/440 04:36, Epoch 4/4]\n",
       "    </div>\n",
       "    <table border=\"1\" class=\"dataframe\">\n",
       "  <thead>\n",
       " <tr style=\"text-align: left;\">\n",
       "      <th>Epoch</th>\n",
       "      <th>Training Loss</th>\n",
       "      <th>Validation Loss</th>\n",
       "      <th>Bleu</th>\n",
       "      <th>Gen Len</th>\n",
       "      <th>Meteor</th>\n",
       "    </tr>\n",
       "  </thead>\n",
       "  <tbody>\n",
       "    <tr>\n",
       "      <td>1</td>\n",
       "      <td>No log</td>\n",
       "      <td>0.719982</td>\n",
       "      <td>65.375100</td>\n",
       "      <td>53.500000</td>\n",
       "      <td>0.838900</td>\n",
       "    </tr>\n",
       "    <tr>\n",
       "      <td>2</td>\n",
       "      <td>No log</td>\n",
       "      <td>0.738425</td>\n",
       "      <td>59.841300</td>\n",
       "      <td>54.750000</td>\n",
       "      <td>0.859200</td>\n",
       "    </tr>\n",
       "    <tr>\n",
       "      <td>3</td>\n",
       "      <td>No log</td>\n",
       "      <td>0.765242</td>\n",
       "      <td>57.793100</td>\n",
       "      <td>51.250000</td>\n",
       "      <td>0.801400</td>\n",
       "    </tr>\n",
       "    <tr>\n",
       "      <td>4</td>\n",
       "      <td>No log</td>\n",
       "      <td>0.832858</td>\n",
       "      <td>55.942900</td>\n",
       "      <td>52.000000</td>\n",
       "      <td>0.806300</td>\n",
       "    </tr>\n",
       "  </tbody>\n",
       "</table><p>"
      ],
      "text/plain": [
       "<IPython.core.display.HTML object>"
      ]
     },
     "metadata": {},
     "output_type": "display_data"
    },
    {
     "name": "stderr",
     "output_type": "stream",
     "text": [
      "[nltk_data] Downloading package wordnet to /home/jovyan/nltk_data...\n",
      "[nltk_data]   Package wordnet is already up-to-date!\n",
      "[nltk_data] Downloading package punkt to /home/jovyan/nltk_data...\n",
      "[nltk_data]   Package punkt is already up-to-date!\n",
      "[nltk_data] Downloading package omw-1.4 to /home/jovyan/nltk_data...\n",
      "[nltk_data]   Package omw-1.4 is already up-to-date!\n",
      "[nltk_data] Downloading package wordnet to /home/jovyan/nltk_data...\n",
      "[nltk_data]   Package wordnet is already up-to-date!\n",
      "[nltk_data] Downloading package punkt to /home/jovyan/nltk_data...\n",
      "[nltk_data]   Package punkt is already up-to-date!\n",
      "[nltk_data] Downloading package omw-1.4 to /home/jovyan/nltk_data...\n",
      "[nltk_data]   Package omw-1.4 is already up-to-date!\n",
      "[nltk_data] Downloading package wordnet to /home/jovyan/nltk_data...\n",
      "[nltk_data]   Package wordnet is already up-to-date!\n",
      "[nltk_data] Downloading package punkt to /home/jovyan/nltk_data...\n",
      "[nltk_data]   Package punkt is already up-to-date!\n",
      "[nltk_data] Downloading package omw-1.4 to /home/jovyan/nltk_data...\n",
      "[nltk_data]   Package omw-1.4 is already up-to-date!\n",
      "[nltk_data] Downloading package wordnet to /home/jovyan/nltk_data...\n",
      "[nltk_data]   Package wordnet is already up-to-date!\n",
      "[nltk_data] Downloading package punkt to /home/jovyan/nltk_data...\n",
      "[nltk_data]   Package punkt is already up-to-date!\n",
      "[nltk_data] Downloading package omw-1.4 to /home/jovyan/nltk_data...\n",
      "[nltk_data]   Package omw-1.4 is already up-to-date!\n"
     ]
    },
    {
     "data": {
      "text/html": [
       "\n",
       "    <div>\n",
       "      \n",
       "      <progress value='2' max='2' style='width:300px; height:20px; vertical-align: middle;'></progress>\n",
       "      [2/2 00:01]\n",
       "    </div>\n",
       "    "
      ],
      "text/plain": [
       "<IPython.core.display.HTML object>"
      ]
     },
     "metadata": {},
     "output_type": "display_data"
    },
    {
     "name": "stdout",
     "output_type": "stream",
     "text": [
      "{'eval_loss': 0.6715749502182007, 'eval_bleu': 44.7421, 'eval_gen_len': 53.2, 'eval_meteor': 0.7686, 'eval_runtime': 3.255, 'eval_samples_per_second': 1.536, 'eval_steps_per_second': 0.614, 'epoch': 4.0}\n"
     ]
    },
    {
     "name": "stderr",
     "output_type": "stream",
     "text": [
      "[nltk_data] Downloading package wordnet to /home/jovyan/nltk_data...\n",
      "[nltk_data]   Package wordnet is already up-to-date!\n",
      "[nltk_data] Downloading package punkt to /home/jovyan/nltk_data...\n",
      "[nltk_data]   Package punkt is already up-to-date!\n",
      "[nltk_data] Downloading package omw-1.4 to /home/jovyan/nltk_data...\n",
      "[nltk_data]   Package omw-1.4 is already up-to-date!\n"
     ]
    }
   ],
   "source": [
    "# model_mbart = \"facebook/mbart-large-50-many-to-many-mmt\"\n",
    "# trans = Translate(model_mbart)\n",
    "\n",
    "finetuned_model_path = \"../models/mbart-finetuned-cn-to-en-auto-sample\"\n",
    "\n",
    "trans.finetune(df=df, \n",
    "               finetuned_model_path=finetuned_model_path,\n",
    "               train_size=0.98, \n",
    "               batch_size=4,\n",
    "               learning_rate=2e-5,\n",
    "               num_train_epochs=4)"
   ]
  },
  {
   "cell_type": "code",
   "execution_count": 11,
   "id": "625fc0ab-c812-419e-8b0f-52be3c941ec9",
   "metadata": {},
   "outputs": [
    {
     "name": "stdout",
     "output_type": "stream",
     "text": [
      "In the case of turning on the air conditioner, the electric range drops too fast, especially when the weather is cold in winter, if you don't turn on the air conditioner, the weather freezes, the electric range will fall faster.\n"
     ]
    }
   ],
   "source": [
    "finetuned_model_path = \"../models/mbart-finetuned-cn-to-en-auto-sample\"\n",
    "\n",
    "text = \"开空调的情况下，续航掉的太快了，特别是冬天天气冷的时候，不开空调不行，天气一冻，续航就掉的更快\"\n",
    "\n",
    "trans = Translate(model_name_or_path=finetuned_model_path)\n",
    "print(trans.translator(text=text))"
   ]
  },
  {
   "cell_type": "markdown",
   "id": "a39a0ebd-84ee-4cc4-b294-4fdcb7245197",
   "metadata": {},
   "source": [
    "> **MBart:** It's too fast to resume air-conditioning, especially when it's cold in winter. No air-conditioning is not possible. If it's freezing, it's faster to resume"
   ]
  },
  {
   "cell_type": "code",
   "execution_count": 13,
   "id": "1d8a4c97-e1aa-4b05-b879-e73efe76cb3e",
   "metadata": {},
   "outputs": [],
   "source": [
    "# stop"
   ]
  },
  {
   "cell_type": "markdown",
   "id": "ed809bc8-43a2-4759-b046-e4fa0ec3f019",
   "metadata": {},
   "source": [
    "# Deploy the LLM\n",
    "\n",
    "**LocalCat** also supports deploying LLMs on the cloud (AWS Sagemaker Endpoint). \n",
    "\n",
    "![](../images/aws_llm.png)\n",
    "\n",
    "Deploying the model contains the following steps:\n",
    "\n",
    "1. Push the model to S3\n",
    "2. Deploy the model as an endpoint\n",
    "3. Test the endpoint"
   ]
  },
  {
   "cell_type": "code",
   "execution_count": null,
   "id": "e6b6d642-8fda-4b2c-9ac2-cb53071a1b3a",
   "metadata": {},
   "outputs": [],
   "source": [
    "model_path = \"../models/\"\n",
    "model_finetuned = \"mbart-finetuned-cn-to-en-auto-sample\""
   ]
  },
  {
   "cell_type": "markdown",
   "id": "68267569-2719-49b8-8f3e-0d8525b02666",
   "metadata": {},
   "source": [
    "## Step 1: Push the model to S3"
   ]
  },
  {
   "cell_type": "code",
   "execution_count": null,
   "id": "a363fc77-24f6-48f7-bdf1-8ea50654e8f8",
   "metadata": {},
   "outputs": [],
   "source": [
    "bucket = \"ai\"\n",
    "prefix = \"llm\"\n",
    "\n",
    "local = Local(model_name=model_finetuned, model_path=model_path)\n",
    "local.push_to_s3(bucket=bucket, prefix=prefix)"
   ]
  },
  {
   "cell_type": "markdown",
   "id": "484fc763-8e9a-4922-b61b-8f84fbccc121",
   "metadata": {},
   "source": [
    "## Step2: Deploy the model as an endpoint"
   ]
  },
  {
   "cell_type": "code",
   "execution_count": null,
   "id": "4ae2f37a-16d1-424f-8ea6-842c511aeb7c",
   "metadata": {},
   "outputs": [],
   "source": [
    "local.deploy(instance_type='ml.g4dn.4xlarge',\n",
    "             transformers_version='4.37.0', \n",
    "             pytorch_version='2.1.0', \n",
    "             py_version='py310')"
   ]
  },
  {
   "cell_type": "markdown",
   "id": "dcaea51b-91a2-4bed-a668-cd74e6e452d9",
   "metadata": {},
   "source": [
    "## Step 3: Test the endpoint\n",
    "\n",
    "Check the endpoint name in the AWS Sagemaker Console, say `MBART-20240226-024324`."
   ]
  },
  {
   "cell_type": "code",
   "execution_count": null,
   "id": "a36e02d4-4a98-47c1-b2c7-aaa62737d377",
   "metadata": {},
   "outputs": [],
   "source": [
    "local = Local()\n",
    "local.endpoint_name = \"MBART-20240226-024324\" \n",
    "\n",
    "text = \"开空调的情况下，续航掉的太快了，特别是冬天天气冷的时候，不开空调不行，天气一冻，续航就掉的更快\"\n",
    "result = local.translator(text=text)\n",
    "print(result)"
   ]
  }
 ],
 "metadata": {
  "kernelspec": {
   "display_name": "Python 3 (ipykernel)",
   "language": "python",
   "name": "python3"
  },
  "language_info": {
   "codemirror_mode": {
    "name": "ipython",
    "version": 3
   },
   "file_extension": ".py",
   "mimetype": "text/x-python",
   "name": "python",
   "nbconvert_exporter": "python",
   "pygments_lexer": "ipython3",
   "version": "3.8.8"
  },
  "toc-autonumbering": true,
  "toc-showmarkdowntxt": false
 },
 "nbformat": 4,
 "nbformat_minor": 5
}
