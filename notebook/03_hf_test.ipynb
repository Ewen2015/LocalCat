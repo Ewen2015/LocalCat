{
 "cells": [
  {
   "cell_type": "code",
   "execution_count": 18,
   "id": "73e3625a",
   "metadata": {},
   "outputs": [
    {
     "data": {
      "text/plain": [
       "{'REGION_NAME': 'cn-northwest-1',\n",
       " 'S3_MODEL': 's3://hugging-face/llm/falcon-7b-model.tar.gz',\n",
       " 'ENDPOINT_NAME': 'HF-FALCON-7B-MODEL-20230710-141220'}"
      ]
     },
     "execution_count": 18,
     "metadata": {},
     "output_type": "execute_result"
    }
   ],
   "source": [
    "import json\n",
    "\n",
    "with open('../config.json') as f:\n",
    "    config = json.load(f)\n",
    "\n",
    "config"
   ]
  },
  {
   "cell_type": "code",
   "execution_count": 19,
   "id": "04f05afc",
   "metadata": {},
   "outputs": [],
   "source": [
    "# pip install -r requirements.txt -U -i https://pypi.douban.com/simple"
   ]
  },
  {
   "cell_type": "code",
   "execution_count": 20,
   "id": "75b9952b",
   "metadata": {},
   "outputs": [],
   "source": [
    "import boto3\n",
    "\n",
    "# Create a low-level client representing Amazon SageMaker Runtime\n",
    "sagemaker_runtime = boto3.client(\"sagemaker-runtime\", region_name=config['REGION_NAME'])\n",
    "\n",
    "# The name of the endpoint. The name must be unique within an AWS Region in your AWS account. \n",
    "endpoint_name=config['ENDPOINT_NAME']"
   ]
  },
  {
   "cell_type": "code",
   "execution_count": 21,
   "id": "5e9aa8eb",
   "metadata": {},
   "outputs": [],
   "source": [
    "# # After you deploy a model into production using SageMaker hosting \n",
    "# # services, your client applications use this API to get inferences \n",
    "# # from the model hosted at the specified endpoint.\n",
    "# response = sagemaker_runtime.invoke_endpoint(\n",
    "#                             EndpointName=endpoint_name, \n",
    "#                             Body=bytes('{\"inputs\": \"My name is Julien and I like to\"}', 'utf-8') # Replace with your own data.\n",
    "#                             )\n",
    "\n",
    "# # Optional - Print the response body and decode it so it is human read-able.\n",
    "# print(response['Body'].read().decode('utf-8'))"
   ]
  },
  {
   "cell_type": "code",
   "execution_count": 22,
   "id": "9e3c0091",
   "metadata": {},
   "outputs": [],
   "source": [
    "from sagemaker.huggingface.model import HuggingFacePredictor\n",
    "\n",
    "predictor = HuggingFacePredictor(\n",
    "  endpoint_name=endpoint_name\n",
    ")"
   ]
  },
  {
   "cell_type": "code",
   "execution_count": 24,
   "id": "0509c033",
   "metadata": {},
   "outputs": [],
   "source": [
    "# # send request\n",
    "# predictor.predict({\n",
    "#     \"text\": \"你好，你是谁\"\n",
    "# })"
   ]
  },
  {
   "cell_type": "code",
   "execution_count": null,
   "id": "eb3067ac",
   "metadata": {},
   "outputs": [],
   "source": []
  }
 ],
 "metadata": {
  "kernelspec": {
   "display_name": "conda_pytorch_p39",
   "language": "python",
   "name": "conda_pytorch_p39"
  },
  "language_info": {
   "codemirror_mode": {
    "name": "ipython",
    "version": 3
   },
   "file_extension": ".py",
   "mimetype": "text/x-python",
   "name": "python",
   "nbconvert_exporter": "python",
   "pygments_lexer": "ipython3",
   "version": "3.9.13"
  }
 },
 "nbformat": 4,
 "nbformat_minor": 5
}
