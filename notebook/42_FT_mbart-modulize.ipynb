{
 "cells": [
  {
   "cell_type": "markdown",
   "id": "ff786306-107d-46ce-96b2-0a3084f13680",
   "metadata": {},
   "source": [
    "# Fine Tune\n",
    "\n",
    "**Reference:** https://neptune.ai/blog/hugging-face-pre-trained-models-find-the-best"
   ]
  },
  {
   "cell_type": "code",
   "execution_count": 2,
   "id": "19593727-16be-4674-aa2a-f7f6351dd9ad",
   "metadata": {
    "tags": []
   },
   "outputs": [],
   "source": [
    "# !pip install -r requirements.txt"
   ]
  },
  {
   "cell_type": "code",
   "execution_count": 1,
   "id": "19f96178-c280-42ba-9e5f-c77725f96319",
   "metadata": {},
   "outputs": [],
   "source": [
    "import warnings\n",
    "warnings.filterwarnings(\"ignore\")"
   ]
  },
  {
   "cell_type": "markdown",
   "id": "5fcd9ced-02ba-425d-860e-4086872d8cf0",
   "metadata": {},
   "source": [
    "## Load Model"
   ]
  },
  {
   "cell_type": "code",
   "execution_count": 4,
   "id": "9cc29578-9024-43ce-b50f-a12b5d2a7aaa",
   "metadata": {},
   "outputs": [
    {
     "name": "stdout",
     "output_type": "stream",
     "text": [
      "cuda\n"
     ]
    }
   ],
   "source": [
    "import torch\n",
    "from transformers import AutoTokenizer, AutoModelForSeq2SeqLM\n",
    "\n",
    "device = \"cuda\" if torch.cuda.is_available() else \"cpu\"\n",
    "print(device)"
   ]
  },
  {
   "cell_type": "code",
   "execution_count": 52,
   "id": "72045b36-4a9c-42e6-80ba-8b4aa5db435a",
   "metadata": {},
   "outputs": [],
   "source": [
    "tokenizer = AutoTokenizer.from_pretrained(\"facebook/mbart-large-50-many-to-one-mmt\")\n",
    "model = AutoModelForSeq2SeqLM.from_pretrained(\"facebook/mbart-large-50-many-to-one-mmt\").to(device)"
   ]
  },
  {
   "cell_type": "code",
   "execution_count": 5,
   "id": "78c76fb4-b36e-4c38-ba0e-f8d90ff54039",
   "metadata": {},
   "outputs": [],
   "source": [
    "model_name = f\"mbart-finetuned-cn-to-en-auto\"\n",
    "model_path = f\"../models/{model_name}\"\n",
    "\n",
    "tokenizer = AutoTokenizer.from_pretrained(model_path)\n",
    "model = AutoModelForSeq2SeqLM.from_pretrained(model_path).to(device)"
   ]
  },
  {
   "cell_type": "code",
   "execution_count": 65,
   "id": "6d5c1ec2-fea8-4129-ac4b-2b9517b2c390",
   "metadata": {},
   "outputs": [
    {
     "name": "stdout",
     "output_type": "stream",
     "text": [
      "{'input_ids': tensor([[250025,      6,   4185, 109612,  53340,      4, 100945,  15036,  14224,\n",
      "             43,   4150,   4771,    274,      4,  41178, 106460,  70871,  10359,\n",
      "           5382,      4,    562,   4185, 109612,  88467,      4,  70871,    684,\n",
      "         160127,      4, 100945,  15036,    887,  14224,     43, 155132,      2]],\n",
      "       device='cuda:0'), 'attention_mask': tensor([[1, 1, 1, 1, 1, 1, 1, 1, 1, 1, 1, 1, 1, 1, 1, 1, 1, 1, 1, 1, 1, 1, 1, 1,\n",
      "         1, 1, 1, 1, 1, 1, 1, 1, 1, 1, 1, 1]], device='cuda:0')}\n",
      "\n",
      "tensor([[     2, 250004,  14847,     70,  12944,     83,  69347,     98,      4,\n",
      "             70, 172714,   6897,  36069,      7,   5792,   4271,      4,  41866,\n",
      "           3229,     70,  92949,     83,  91097,     23,  41710,      5,   1650,\n",
      "             25,      7,    959,   4127,   2174,     70,  12944,     83,    959,\n",
      "          69347,     98,      5,   1301,  33662,    237,     70,  92949,     83,\n",
      "           1238,  70463,      4,     70, 172714,   6897,  36069,      7,   4271,\n",
      "             56,      5,      2]], device='cuda:0')\n",
      "\n",
      "When the AC is turned on, the battery life drops too fast, especially when the weather is cold in winter. It's not good if the AC is not turned on. As soon as the weather is frozen, the battery life drops faster.\n"
     ]
    }
   ],
   "source": [
    "text = \"开空调的情况下，续航掉的太快了，特别是冬天天气冷的时候，不开空调不行，天气一冻，续航就掉的更快\"\n",
    "\n",
    "tokenizer.src_lang = 'zh_CN'\n",
    "tokenizer.tgt_lang = 'en_XX'\n",
    "\n",
    "tokenized_text = tokenizer(text, return_tensors=\"pt\").to(device)\n",
    "print(tokenized_text)\n",
    "print()\n",
    "\n",
    "translation = model.generate(**tokenized_text)\n",
    "print(translation)\n",
    "print()\n",
    "\n",
    "translated_text = tokenizer.decode(translation[0], skip_special_tokens=True)\n",
    "print(translated_text)"
   ]
  },
  {
   "cell_type": "code",
   "execution_count": 6,
   "id": "d47eda7c-ef5e-49c7-8e78-9e66ea3450e4",
   "metadata": {},
   "outputs": [
    {
     "name": "stdout",
     "output_type": "stream",
     "text": [
      "If the air conditioner is on, the flight resumes too quickly, especially in winter when the weather is cold. If the air conditioner is not on, the flight resumes faster as soon as the weather is cold\n"
     ]
    }
   ],
   "source": [
    "sentence = \"开空调的情况下，续航掉的太快了，特别是冬天天气冷的时候，不开空调不行，天气一冻，续航就掉的更快\"\n",
    "\n",
    "tokenizer.src_lang = 'zh_CN'\n",
    "tokenizer.tgt_lang = 'en_XX'\n",
    "\n",
    "encoded = tokenizer(sentence, return_tensors=\"pt\").to(device)\n",
    "model = model.to(device)\n",
    "generated_tokens = model.generate(**encoded)\n",
    "decoded = tokenizer.batch_decode(generated_tokens, skip_special_tokens=True)[0]\n",
    "\n",
    "print(decoded)"
   ]
  },
  {
   "cell_type": "markdown",
   "id": "fdfad005-4e9c-41a9-9036-4295a82ba842",
   "metadata": {},
   "source": [
    "## Preprocess Data\n",
    "\n",
    "### Load Data"
   ]
  },
  {
   "cell_type": "code",
   "execution_count": 7,
   "id": "2100a9c2-b0dd-4c25-8d3e-0272215f0a8a",
   "metadata": {},
   "outputs": [],
   "source": [
    "import pandas as pd\n",
    "from datasets import Dataset"
   ]
  },
  {
   "cell_type": "code",
   "execution_count": 6,
   "id": "2f997dad-da14-4023-8ae5-79c27be23edd",
   "metadata": {},
   "outputs": [],
   "source": [
    "file_proc = \"../data/trans/PROC-NCVQS-2021-2023.csv\""
   ]
  },
  {
   "cell_type": "code",
   "execution_count": 29,
   "id": "7de586ef-b93a-4bab-936c-2ca28f11a6df",
   "metadata": {},
   "outputs": [],
   "source": [
    "df_0 = pd.read_excel('../data/trans/2021_NCVQS_text.xlsx', sheet_name = 0)\n",
    "df_1 = pd.read_excel('../data/trans/2022_NCVQS_text.xlsx', sheet_name = 0)\n",
    "df_2 = pd.read_excel('../data/trans/2023_NCVQS_text.xlsx', sheet_name = 0)\n",
    "\n",
    "colname = [\"Chinese\", \"English\"]\n",
    "df_0.columns = colname\n",
    "df_1.columns = colname\n",
    "df_2.columns = colname\n",
    "\n",
    "df_3 = pd.read_excel('../data/trans/2023_NCVQS_text.xlsx', sheet_name=1)\n",
    "\n",
    "zh_columns = df_3.columns[:4]\n",
    "en_columns = df_3.columns[4:]\n",
    "\n",
    "df_3['Chinese'] = df_3[zh_columns].apply(lambda row: ' '.join(row.dropna().astype(str)), axis=1)\n",
    "df_3['English'] = df_3[en_columns].apply(lambda row: ' '.join(row.dropna().astype(str)), axis=1)\n",
    "\n",
    "df_3.drop(columns=en_columns, inplace=True)\n",
    "df_3.drop(columns=zh_columns, inplace=True)\n",
    "\n",
    "df = pd.concat([df_0, df_1, df_2, df_3], axis=0)\n",
    "df = df.dropna()\n",
    "df.drop_duplicates(keep='first', subset='Chinese', inplace=True)"
   ]
  },
  {
   "cell_type": "code",
   "execution_count": 30,
   "id": "da8114be-8bb4-4603-b35b-376206209ad2",
   "metadata": {},
   "outputs": [
    {
     "name": "stdout",
     "output_type": "stream",
     "text": [
      "Length:  14316 \n",
      " Num of NaN:  0\n"
     ]
    }
   ],
   "source": [
    "print(\"Length: \", len(df), \"\\n Num of NaN: \", df.isna().sum().sum())"
   ]
  },
  {
   "cell_type": "code",
   "execution_count": 31,
   "id": "182a6a93-b2a5-463f-b65c-9ea3b78a881f",
   "metadata": {},
   "outputs": [
    {
     "data": {
      "text/html": [
       "<div>\n",
       "<style scoped>\n",
       "    .dataframe tbody tr th:only-of-type {\n",
       "        vertical-align: middle;\n",
       "    }\n",
       "\n",
       "    .dataframe tbody tr th {\n",
       "        vertical-align: top;\n",
       "    }\n",
       "\n",
       "    .dataframe thead th {\n",
       "        text-align: right;\n",
       "    }\n",
       "</style>\n",
       "<table border=\"1\" class=\"dataframe\">\n",
       "  <thead>\n",
       "    <tr style=\"text-align: right;\">\n",
       "      <th></th>\n",
       "      <th>Chinese</th>\n",
       "      <th>English</th>\n",
       "    </tr>\n",
       "  </thead>\n",
       "  <tbody>\n",
       "    <tr>\n",
       "      <th>0</th>\n",
       "      <td>第二排的舒适性不太理想，减震有点硬，平时有坎时感觉咣当一下，不是很舒服，选择舒适性</td>\n",
       "      <td>The comfort of the second row is not ideal, th...</td>\n",
       "    </tr>\n",
       "    <tr>\n",
       "      <th>2</th>\n",
       "      <td>减震硬，路况不好的地方不太舒服，选择舒适性（在路况不好，沟沟坎坎比较多时候，车内晃动大）</td>\n",
       "      <td>The shock absorption is hard, and riding under...</td>\n",
       "    </tr>\n",
       "    <tr>\n",
       "      <th>3</th>\n",
       "      <td>车内的网络连接不稳定（自带的车联网，通过流量卡连接的互联网，有时使用中会突然没有网，在使用任...</td>\n",
       "      <td>The network connection in the car is unstable ...</td>\n",
       "    </tr>\n",
       "    <tr>\n",
       "      <th>4</th>\n",
       "      <td>开空调时车内有潮气的味道，开热风冷风都会有，问了问，有人说是滤芯的气味，不是很重（新车，没有...</td>\n",
       "      <td>There is a smell of moisture in the car when t...</td>\n",
       "    </tr>\n",
       "    <tr>\n",
       "      <th>5</th>\n",
       "      <td>第二排两侧的车门关门时声音咚咚的，声音很沉，感觉车门有点重，听上去没有质感，不是什么大问题，...</td>\n",
       "      <td>When the doors on both sides of the second row...</td>\n",
       "    </tr>\n",
       "  </tbody>\n",
       "</table>\n",
       "</div>"
      ],
      "text/plain": [
       "                                             Chinese  \\\n",
       "0          第二排的舒适性不太理想，减震有点硬，平时有坎时感觉咣当一下，不是很舒服，选择舒适性   \n",
       "2       减震硬，路况不好的地方不太舒服，选择舒适性（在路况不好，沟沟坎坎比较多时候，车内晃动大）   \n",
       "3  车内的网络连接不稳定（自带的车联网，通过流量卡连接的互联网，有时使用中会突然没有网，在使用任...   \n",
       "4  开空调时车内有潮气的味道，开热风冷风都会有，问了问，有人说是滤芯的气味，不是很重（新车，没有...   \n",
       "5  第二排两侧的车门关门时声音咚咚的，声音很沉，感觉车门有点重，听上去没有质感，不是什么大问题，...   \n",
       "\n",
       "                                             English  \n",
       "0  The comfort of the second row is not ideal, th...  \n",
       "2  The shock absorption is hard, and riding under...  \n",
       "3  The network connection in the car is unstable ...  \n",
       "4  There is a smell of moisture in the car when t...  \n",
       "5  When the doors on both sides of the second row...  "
      ]
     },
     "execution_count": 31,
     "metadata": {},
     "output_type": "execute_result"
    }
   ],
   "source": [
    "df.head()"
   ]
  },
  {
   "cell_type": "code",
   "execution_count": 12,
   "id": "7abf6f20-f57c-40cb-9247-52769ef2ff47",
   "metadata": {},
   "outputs": [],
   "source": [
    "df.to_csv(file_proc, index=False)"
   ]
  },
  {
   "cell_type": "markdown",
   "id": "afb242a9-46ce-449d-964a-2a7c2c7a658d",
   "metadata": {},
   "source": [
    "### Load Processed Data"
   ]
  },
  {
   "cell_type": "code",
   "execution_count": 8,
   "id": "bd2cf31a-7794-4b69-af41-c72a6a7ebbb0",
   "metadata": {},
   "outputs": [],
   "source": [
    "df = pd.read_csv(file_proc)"
   ]
  },
  {
   "cell_type": "code",
   "execution_count": 9,
   "id": "522e951d-f4ea-4521-9290-badc5579bb34",
   "metadata": {},
   "outputs": [
    {
     "data": {
      "text/html": [
       "<div>\n",
       "<style scoped>\n",
       "    .dataframe tbody tr th:only-of-type {\n",
       "        vertical-align: middle;\n",
       "    }\n",
       "\n",
       "    .dataframe tbody tr th {\n",
       "        vertical-align: top;\n",
       "    }\n",
       "\n",
       "    .dataframe thead th {\n",
       "        text-align: right;\n",
       "    }\n",
       "</style>\n",
       "<table border=\"1\" class=\"dataframe\">\n",
       "  <thead>\n",
       "    <tr style=\"text-align: right;\">\n",
       "      <th></th>\n",
       "      <th>Chinese</th>\n",
       "      <th>English</th>\n",
       "    </tr>\n",
       "  </thead>\n",
       "  <tbody>\n",
       "    <tr>\n",
       "      <th>14311</th>\n",
       "      <td>外观时尚好看；安全系数高； 车漆是反光的黑色，很容易脏，有水印子； 外形好看；配置高；空间大； 无</td>\n",
       "      <td>Fashionable and good-looking appearance; High ...</td>\n",
       "    </tr>\n",
       "    <tr>\n",
       "      <th>14312</th>\n",
       "      <td>安全性好；内部空间大； 车机系统不稳定；整体车辆安全性能好； 省油；动力是提速快；安全性好，...</td>\n",
       "      <td>Good security; Large interior space; . Unstabl...</td>\n",
       "    </tr>\n",
       "    <tr>\n",
       "      <th>14313</th>\n",
       "      <td>外观时尚；内饰豪华； 冬天打火不稳定；新车，止回阀坏过2次； 品牌安全性好；内饰豪华；定速巡...</td>\n",
       "      <td>Stylish appearance; The interior is luxurious;...</td>\n",
       "    </tr>\n",
       "    <tr>\n",
       "      <th>14314</th>\n",
       "      <td>内部配置丰富；空间大；动力足； 有几个小毛病； 安全性；品牌名气；配置丰富； 小毛病比较多；</td>\n",
       "      <td>Rich internal functions; Large space; Power en...</td>\n",
       "    </tr>\n",
       "    <tr>\n",
       "      <th>14315</th>\n",
       "      <td>各方面都很均衡，外观设计符合我的审美，看上去比较大气 座椅包裹性不太好，谈不上舒服 配置丰富...</td>\n",
       "      <td>It is balanced in all aspects, the appearance ...</td>\n",
       "    </tr>\n",
       "  </tbody>\n",
       "</table>\n",
       "</div>"
      ],
      "text/plain": [
       "                                                 Chinese  \\\n",
       "14311  外观时尚好看；安全系数高； 车漆是反光的黑色，很容易脏，有水印子； 外形好看；配置高；空间大； 无   \n",
       "14312  安全性好；内部空间大； 车机系统不稳定；整体车辆安全性能好； 省油；动力是提速快；安全性好，...   \n",
       "14313  外观时尚；内饰豪华； 冬天打火不稳定；新车，止回阀坏过2次； 品牌安全性好；内饰豪华；定速巡...   \n",
       "14314     内部配置丰富；空间大；动力足； 有几个小毛病； 安全性；品牌名气；配置丰富； 小毛病比较多；   \n",
       "14315  各方面都很均衡，外观设计符合我的审美，看上去比较大气 座椅包裹性不太好，谈不上舒服 配置丰富...   \n",
       "\n",
       "                                                 English  \n",
       "14311  Fashionable and good-looking appearance; High ...  \n",
       "14312  Good security; Large interior space; . Unstabl...  \n",
       "14313  Stylish appearance; The interior is luxurious;...  \n",
       "14314  Rich internal functions; Large space; Power en...  \n",
       "14315  It is balanced in all aspects, the appearance ...  "
      ]
     },
     "execution_count": 9,
     "metadata": {},
     "output_type": "execute_result"
    }
   ],
   "source": [
    "df.tail()"
   ]
  },
  {
   "cell_type": "markdown",
   "id": "7a0fe18a-a61d-45ea-bf13-b13520adedce",
   "metadata": {},
   "source": [
    "## Batch Translate"
   ]
  },
  {
   "cell_type": "code",
   "execution_count": 10,
   "id": "fd1a8da7-0d91-4d8a-819f-a4930b117930",
   "metadata": {},
   "outputs": [
    {
     "data": {
      "text/plain": [
       "(14316, 2)"
      ]
     },
     "execution_count": 10,
     "metadata": {},
     "output_type": "execute_result"
    }
   ],
   "source": [
    "file_sample = \"../data/trans/PROC_SAMPLE.\""
   ]
  },
  {
   "cell_type": "code",
   "execution_count": null,
   "id": "3e85f159-926b-4c2a-af36-ebf297bfbe92",
   "metadata": {},
   "outputs": [],
   "source": [
    "df = df.head()\n"
   ]
  },
  {
   "cell_type": "markdown",
   "id": "b654cf7f-1640-45be-a84d-4cecf37118a7",
   "metadata": {},
   "source": [
    "## Fine-tune\n",
    "\n",
    "### Transform Data"
   ]
  },
  {
   "cell_type": "code",
   "execution_count": 20,
   "id": "dcb91519-cb27-458e-a87d-da28f854514e",
   "metadata": {},
   "outputs": [],
   "source": [
    "df = df.assign(translation=df.apply(lambda row:{'zh': row['Chinese'], 'en': row['English']}, axis=1))\n",
    "df.reset_index(inplace=True)\n",
    "df.drop(['index', 'Chinese', 'English'], axis=1, inplace=True)"
   ]
  },
  {
   "cell_type": "code",
   "execution_count": 21,
   "id": "bd86fcd1-ab07-4d9e-bc2b-af113cb1b236",
   "metadata": {},
   "outputs": [
    {
     "data": {
      "text/html": [
       "<div>\n",
       "<style scoped>\n",
       "    .dataframe tbody tr th:only-of-type {\n",
       "        vertical-align: middle;\n",
       "    }\n",
       "\n",
       "    .dataframe tbody tr th {\n",
       "        vertical-align: top;\n",
       "    }\n",
       "\n",
       "    .dataframe thead th {\n",
       "        text-align: right;\n",
       "    }\n",
       "</style>\n",
       "<table border=\"1\" class=\"dataframe\">\n",
       "  <thead>\n",
       "    <tr style=\"text-align: right;\">\n",
       "      <th></th>\n",
       "      <th>translation</th>\n",
       "    </tr>\n",
       "  </thead>\n",
       "  <tbody>\n",
       "    <tr>\n",
       "      <th>0</th>\n",
       "      <td>{'zh': '第二排的舒适性不太理想，减震有点硬，平时有坎时感觉咣当一下，不是很舒服，选择...</td>\n",
       "    </tr>\n",
       "    <tr>\n",
       "      <th>1</th>\n",
       "      <td>{'zh': '减震硬，路况不好的地方不太舒服，选择舒适性（在路况不好，沟沟坎坎比较多时候，...</td>\n",
       "    </tr>\n",
       "    <tr>\n",
       "      <th>2</th>\n",
       "      <td>{'zh': '车内的网络连接不稳定（自带的车联网，通过流量卡连接的互联网，有时使用中会突然...</td>\n",
       "    </tr>\n",
       "    <tr>\n",
       "      <th>3</th>\n",
       "      <td>{'zh': '开空调时车内有潮气的味道，开热风冷风都会有，问了问，有人说是滤芯的气味，不是...</td>\n",
       "    </tr>\n",
       "    <tr>\n",
       "      <th>4</th>\n",
       "      <td>{'zh': '第二排两侧的车门关门时声音咚咚的，声音很沉，感觉车门有点重，听上去没有质感，...</td>\n",
       "    </tr>\n",
       "  </tbody>\n",
       "</table>\n",
       "</div>"
      ],
      "text/plain": [
       "                                         translation\n",
       "0  {'zh': '第二排的舒适性不太理想，减震有点硬，平时有坎时感觉咣当一下，不是很舒服，选择...\n",
       "1  {'zh': '减震硬，路况不好的地方不太舒服，选择舒适性（在路况不好，沟沟坎坎比较多时候，...\n",
       "2  {'zh': '车内的网络连接不稳定（自带的车联网，通过流量卡连接的互联网，有时使用中会突然...\n",
       "3  {'zh': '开空调时车内有潮气的味道，开热风冷风都会有，问了问，有人说是滤芯的气味，不是...\n",
       "4  {'zh': '第二排两侧的车门关门时声音咚咚的，声音很沉，感觉车门有点重，听上去没有质感，..."
      ]
     },
     "execution_count": 21,
     "metadata": {},
     "output_type": "execute_result"
    }
   ],
   "source": [
    "df.head()"
   ]
  },
  {
   "cell_type": "code",
   "execution_count": 22,
   "id": "f872281d-cc37-4244-b34d-5a6e274cacd3",
   "metadata": {},
   "outputs": [
    {
     "data": {
      "text/plain": [
       "{'zh': '第二排的舒适性不太理想，减震有点硬，平时有坎时感觉咣当一下，不是很舒服，选择舒适性',\n",
       " 'en': 'The comfort of the second row is not ideal, the shock absorption is a bit hard, and it feels awkward when there are bumps, which is not very comfortable, and I choose comfort'}"
      ]
     },
     "execution_count": 22,
     "metadata": {},
     "output_type": "execute_result"
    }
   ],
   "source": [
    "df.iloc[0][0]"
   ]
  },
  {
   "cell_type": "code",
   "execution_count": 23,
   "id": "b7c8914f-4b06-4490-a7b1-832ad34f5b77",
   "metadata": {},
   "outputs": [
    {
     "name": "stdout",
     "output_type": "stream",
     "text": [
      "Dimension:  (14316, 1)\n"
     ]
    }
   ],
   "source": [
    "print(\"Dimension: \", df.shape)"
   ]
  },
  {
   "cell_type": "code",
   "execution_count": 24,
   "id": "9829a676-4cbd-4573-9e6c-c62a86fb6410",
   "metadata": {},
   "outputs": [],
   "source": [
    "dataset = Dataset.from_pandas(df, split='train')\n",
    "dataset = dataset.train_test_split(test_size=0.05)"
   ]
  },
  {
   "cell_type": "code",
   "execution_count": 25,
   "id": "a7ee2489-abd4-431b-8188-903da8d8ce2a",
   "metadata": {},
   "outputs": [
    {
     "name": "stdout",
     "output_type": "stream",
     "text": [
      "<class 'datasets.arrow_dataset.Dataset'>\n",
      "{'translation': [{'en': \"The new car has a very special smell, an indescribable odor, I don't know if it uses environmentally friendly materials or where it comes from, it is suspected to be from the interior, and I can't accept the smell so far, it should be removed;\", 'zh': '新车有一股很特殊的气味,没法形容的异味,是否使用了环保材料,不清楚来自于具体哪里,怀疑是内饰,购车至今不能接受气味,最好能够去掉杂味;'}]}\n"
     ]
    }
   ],
   "source": [
    "print(type(dataset['train']))\n",
    "print(dataset['train'][:1])"
   ]
  },
  {
   "cell_type": "code",
   "execution_count": 26,
   "id": "27685fef-7d91-4f47-8058-471698221e81",
   "metadata": {},
   "outputs": [
    {
     "data": {
      "text/plain": [
       "DatasetDict({\n",
       "    train: Dataset({\n",
       "        features: ['translation'],\n",
       "        num_rows: 13600\n",
       "    })\n",
       "    test: Dataset({\n",
       "        features: ['translation'],\n",
       "        num_rows: 716\n",
       "    })\n",
       "})"
      ]
     },
     "execution_count": 26,
     "metadata": {},
     "output_type": "execute_result"
    }
   ],
   "source": [
    "dataset"
   ]
  },
  {
   "cell_type": "markdown",
   "id": "ded8ca35-a367-498b-92c3-cb8dcb75c62f",
   "metadata": {},
   "source": [
    "### Tokenize Datasets"
   ]
  },
  {
   "cell_type": "code",
   "execution_count": 27,
   "id": "aae45c12-2b36-4c95-86b4-4e81ba3a2834",
   "metadata": {},
   "outputs": [
    {
     "data": {
      "application/vnd.jupyter.widget-view+json": {
       "model_id": "cb250a59456e438e8c40ada35afc7f0b",
       "version_major": 2,
       "version_minor": 0
      },
      "text/plain": [
       "Map:   0%|          | 0/13600 [00:00<?, ? examples/s]"
      ]
     },
     "metadata": {},
     "output_type": "display_data"
    },
    {
     "data": {
      "application/vnd.jupyter.widget-view+json": {
       "model_id": "715092d45ab94e07ae5e3cd5bb0e3785",
       "version_major": 2,
       "version_minor": 0
      },
      "text/plain": [
       "Map:   0%|          | 0/716 [00:00<?, ? examples/s]"
      ]
     },
     "metadata": {},
     "output_type": "display_data"
    }
   ],
   "source": [
    "prefix = \"\" #for mBART and MarianMT\n",
    "max_input_length = 512\n",
    "max_target_length = 512\n",
    "\n",
    "source_lang = \"zh\"\n",
    "target_lang = \"en\"\n",
    "\n",
    "def preprocess_function(examples):\n",
    "    inputs = [prefix + ex[source_lang] for ex in examples[\"translation\"]]\n",
    "    targets = [ex[target_lang] for ex in examples[\"translation\"]]\n",
    "    model_inputs = tokenizer(inputs, max_length=max_input_length, truncation=True)\n",
    "   \n",
    "    # Setup the tokenizer for targets\n",
    "    with tokenizer.as_target_tokenizer():\n",
    "        labels = tokenizer(targets, max_length=max_target_length, truncation=True)\n",
    "\n",
    "    model_inputs[\"labels\"] = labels[\"input_ids\"]\n",
    "    return model_inputs\n",
    "\n",
    "tokenized_datasets = dataset.map(preprocess_function, batched=True)"
   ]
  },
  {
   "cell_type": "markdown",
   "id": "875f5bd5-0a65-4b8b-ba94-559bdde3e0bc",
   "metadata": {},
   "source": [
    "## Train and Fine-tune the Model\n",
    "\n",
    "### Model Setup"
   ]
  },
  {
   "cell_type": "code",
   "execution_count": 28,
   "id": "be0f2f1d-e398-48e7-a3f2-b355b4163fd4",
   "metadata": {},
   "outputs": [],
   "source": [
    "from transformers import Seq2SeqTrainingArguments\n",
    "from transformers import DataCollatorForSeq2Seq\n",
    "from transformers import Seq2SeqTrainer\n",
    "import evaluate"
   ]
  },
  {
   "cell_type": "code",
   "execution_count": 29,
   "id": "1e3f3091-ec4b-4136-87cb-e73293356e93",
   "metadata": {},
   "outputs": [
    {
     "name": "stdout",
     "output_type": "stream",
     "text": [
      "20022024\n"
     ]
    }
   ],
   "source": [
    "from datetime import datetime\n",
    "\n",
    "# Get the current date\n",
    "today = datetime.now()\n",
    "\n",
    "# Format the date as \"DDMMYYYY\"\n",
    "formatted_date = today.strftime(\"%d%m%Y\")\n",
    "\n",
    "print(formatted_date)"
   ]
  },
  {
   "cell_type": "code",
   "execution_count": 31,
   "id": "caa560d6-c87f-4f58-b08b-dc684747ea9d",
   "metadata": {},
   "outputs": [],
   "source": [
    "model_name = f\"mbart-finetuned-cn-to-en-auto\"\n",
    "model_path = f\"../models/{model_name}\"\n",
    "\n",
    "batch_size = 4\n",
    "\n",
    "args = Seq2SeqTrainingArguments(\n",
    "   output_dir=model_path,\n",
    "   evaluation_strategy=\"epoch\",\n",
    "   learning_rate=2e-5,\n",
    "   per_device_train_batch_size=batch_size,\n",
    "   per_device_eval_batch_size=batch_size,\n",
    "   weight_decay=0.01,\n",
    "   save_total_limit=3,\n",
    "   num_train_epochs=1,\n",
    "   predict_with_generate=True,\n",
    ")"
   ]
  },
  {
   "cell_type": "code",
   "execution_count": 32,
   "id": "899b6757-3c1b-49ca-8c97-7482310b59eb",
   "metadata": {},
   "outputs": [],
   "source": [
    "data_collator = DataCollatorForSeq2Seq(tokenizer, model=model) # default setting"
   ]
  },
  {
   "cell_type": "code",
   "execution_count": 33,
   "id": "3d3df329-c8eb-42eb-b5e2-770c6fc7b9b9",
   "metadata": {},
   "outputs": [
    {
     "data": {
      "application/vnd.jupyter.widget-view+json": {
       "model_id": "d9fc0dc929d24c5cb3a52aa0988e5a02",
       "version_major": 2,
       "version_minor": 0
      },
      "text/plain": [
       "Downloading builder script:   0%|          | 0.00/8.15k [00:00<?, ?B/s]"
      ]
     },
     "metadata": {},
     "output_type": "display_data"
    },
    {
     "data": {
      "application/vnd.jupyter.widget-view+json": {
       "model_id": "3ac345b4da1141149041d1d5a723c03c",
       "version_major": 2,
       "version_minor": 0
      },
      "text/plain": [
       "Downloading builder script:   0%|          | 0.00/6.93k [00:00<?, ?B/s]"
      ]
     },
     "metadata": {},
     "output_type": "display_data"
    },
    {
     "name": "stderr",
     "output_type": "stream",
     "text": [
      "[nltk_data] Downloading package wordnet to /home/jovyan/nltk_data...\n",
      "[nltk_data] Downloading package punkt to /home/jovyan/nltk_data...\n",
      "[nltk_data]   Unzipping tokenizers/punkt.zip.\n",
      "[nltk_data] Downloading package omw-1.4 to /home/jovyan/nltk_data...\n"
     ]
    }
   ],
   "source": [
    "import numpy as np\n",
    "import evaluate\n",
    "\n",
    "metric = evaluate.load(\"sacrebleu\")\n",
    "meteor = evaluate.load('meteor')\n",
    "\n",
    "def postprocess_text(preds, labels):\n",
    "    preds = [pred.strip() for pred in preds]\n",
    "    labels = [[label.strip()] for label in labels]\n",
    "    return preds, labels\n",
    "\n",
    "def compute_metrics(eval_preds):\n",
    "    preds, labels = eval_preds\n",
    "    if isinstance(preds, tuple):\n",
    "        preds = preds[0]\n",
    "    decoded_preds = tokenizer.batch_decode(preds, skip_special_tokens=True)\n",
    "    \n",
    "    # Replace -100 in the labels as we can't decode them.\n",
    "    labels = np.where(labels != -100, labels, tokenizer.pad_token_id)\n",
    "    decoded_labels = tokenizer.batch_decode(labels, skip_special_tokens=True)\n",
    "    \n",
    "    # Some simple post-processing\n",
    "    decoded_preds, decoded_labels = postprocess_text(decoded_preds, decoded_labels)\n",
    "    result = metric.compute(predictions=decoded_preds, references=decoded_labels)\n",
    "    meteor_result = meteor.compute(predictions=decoded_preds, references=decoded_labels)\n",
    "    prediction_lens = [np.count_nonzero(pred != tokenizer.pad_token_id) for pred in preds]\n",
    "    result = {'bleu' : result['score']}\n",
    "    result[\"gen_len\"] = np.mean(prediction_lens)\n",
    "    result[\"meteor\"] = meteor_result[\"meteor\"]\n",
    "    result = {k: round(v, 4) for k, v in result.items()}\n",
    "    return result"
   ]
  },
  {
   "cell_type": "code",
   "execution_count": 34,
   "id": "65e2d2be-dd2d-4745-acb8-dccc4fc6e0c2",
   "metadata": {},
   "outputs": [],
   "source": [
    "trainer = Seq2SeqTrainer(\n",
    "    model,\n",
    "    args,\n",
    "    train_dataset=tokenized_datasets['train'],\n",
    "    eval_dataset=tokenized_datasets['test'],\n",
    "    data_collator=data_collator,\n",
    "    tokenizer=tokenizer,\n",
    "    compute_metrics=compute_metrics,\n",
    ")"
   ]
  },
  {
   "cell_type": "markdown",
   "id": "6e884133-9948-432d-aa21-f4b2e3b39dfc",
   "metadata": {},
   "source": [
    "### Train and Save the Model"
   ]
  },
  {
   "cell_type": "code",
   "execution_count": 35,
   "id": "ae60c32c-46da-4e91-963b-6cb9dc5766ba",
   "metadata": {},
   "outputs": [
    {
     "name": "stderr",
     "output_type": "stream",
     "text": [
      "You're using a MBart50TokenizerFast tokenizer. Please note that with a fast tokenizer, using the `__call__` method is faster than using a method to encode the text followed by a call to the `pad` method to get a padded encoding.\n"
     ]
    },
    {
     "data": {
      "text/html": [
       "\n",
       "    <div>\n",
       "      \n",
       "      <progress value='3400' max='3400' style='width:300px; height:20px; vertical-align: middle;'></progress>\n",
       "      [3400/3400 36:45, Epoch 1/1]\n",
       "    </div>\n",
       "    <table border=\"1\" class=\"dataframe\">\n",
       "  <thead>\n",
       " <tr style=\"text-align: left;\">\n",
       "      <th>Epoch</th>\n",
       "      <th>Training Loss</th>\n",
       "      <th>Validation Loss</th>\n",
       "      <th>Bleu</th>\n",
       "      <th>Gen Len</th>\n",
       "      <th>Meteor</th>\n",
       "    </tr>\n",
       "  </thead>\n",
       "  <tbody>\n",
       "    <tr>\n",
       "      <td>1</td>\n",
       "      <td>0.908700</td>\n",
       "      <td>0.896680</td>\n",
       "      <td>30.529900</td>\n",
       "      <td>50.604700</td>\n",
       "      <td>0.619600</td>\n",
       "    </tr>\n",
       "  </tbody>\n",
       "</table><p>"
      ],
      "text/plain": [
       "<IPython.core.display.HTML object>"
      ]
     },
     "metadata": {},
     "output_type": "display_data"
    },
    {
     "data": {
      "text/plain": [
       "TrainOutput(global_step=3400, training_loss=0.9925245846019072, metrics={'train_runtime': 2206.0199, 'train_samples_per_second': 6.165, 'train_steps_per_second': 1.541, 'total_flos': 1445687188979712.0, 'train_loss': 0.9925245846019072, 'epoch': 1.0})"
      ]
     },
     "execution_count": 35,
     "metadata": {},
     "output_type": "execute_result"
    }
   ],
   "source": [
    "trainer.train()"
   ]
  },
  {
   "cell_type": "code",
   "execution_count": 36,
   "id": "4c361087-290a-4194-86a9-102c40f3683d",
   "metadata": {},
   "outputs": [],
   "source": [
    "trainer.save_model()"
   ]
  },
  {
   "cell_type": "code",
   "execution_count": 29,
   "id": "2c8129f2-bd08-401d-8e33-2289c1af506b",
   "metadata": {},
   "outputs": [],
   "source": [
    "# trainer.push_to_hub()"
   ]
  },
  {
   "cell_type": "markdown",
   "id": "b008df14-dc52-423d-a7ee-f0d0c90d1f9e",
   "metadata": {},
   "source": [
    "### Test"
   ]
  },
  {
   "cell_type": "code",
   "execution_count": 42,
   "id": "85daf29f-7894-4030-8140-a800a4b9bafd",
   "metadata": {},
   "outputs": [],
   "source": [
    "from transformers import AutoTokenizer, AutoModelForSeq2SeqLM\n",
    "\n",
    "tokenizer = AutoTokenizer.from_pretrained(model_path)\n",
    "model = AutoModelForSeq2SeqLM.from_pretrained(model_path)"
   ]
  },
  {
   "cell_type": "code",
   "execution_count": 43,
   "id": "fe3d4526-74a3-47f9-acbb-5c59e470365b",
   "metadata": {},
   "outputs": [
    {
     "name": "stdout",
     "output_type": "stream",
     "text": [
      "When the AC is turned on, the battery life drops too fast, especially when the weather is cold in winter. It's not good if the AC is not turned on. As soon as the weather is frozen, the battery life drops faster.\n"
     ]
    }
   ],
   "source": [
    "sentence = \"开空调的情况下，续航掉的太快了，特别是冬天天气冷的时候，不开空调不行，天气一冻，续航就掉的更快\"\n",
    "\n",
    "tokenizer.src_lang = 'zh_CN'\n",
    "tokenizer.tgt_lang = 'en_XX'\n",
    "\n",
    "encoded = tokenizer(sentence, return_tensors=\"pt\").to(device)\n",
    "model = model.to(device)\n",
    "generated_tokens = model.generate(**encoded)\n",
    "decoded = tokenizer.batch_decode(generated_tokens, skip_special_tokens=True)[0]\n",
    "\n",
    "print(decoded)"
   ]
  },
  {
   "cell_type": "markdown",
   "id": "67bf7399-0978-49eb-b8ac-7413f0f4605a",
   "metadata": {},
   "source": [
    "> \"开空调的情况下，续航掉的太快了，特别是冬天天气冷的时候，不开空调不行，天气一冻，续航就掉的更快\"\n",
    "\n",
    "> **no fine-tuning** 'If the air conditioner is on, the flight resumes too quickly, especially in winter when the weather is cold. If the air conditioner is not on, the flight resumes faster as soon as the weather is cold'\n",
    "\n",
    "> **fine-tuned with data of 2023** If you turn on the air conditioner, the electric range is too fast to fall off, especially in winter when the weather is cold and cold, it is not possible to not turn on the air conditioner without turning on the air conditioner, as the weather freezes and freezes, the electric range will fall off faster."
   ]
  },
  {
   "cell_type": "code",
   "execution_count": 39,
   "id": "0b085e48-e3b1-477a-a9c2-369d1da4673e",
   "metadata": {},
   "outputs": [],
   "source": [
    "def translate(sentence):\n",
    "    encoded = tokenizer(sentence, return_tensors=\"pt\").to(device)\n",
    "    generated_tokens = model.generate(**encoded)\n",
    "    return tokenizer.batch_decode(generated_tokens, skip_special_tokens=True)[0]"
   ]
  },
  {
   "cell_type": "code",
   "execution_count": 40,
   "id": "c728828b-00b7-4492-a34b-3c5f509acf38",
   "metadata": {},
   "outputs": [
    {
     "name": "stdout",
     "output_type": "stream",
     "text": [
      "==============================\n",
      "导航准确率低，使用时路线不是很准确，没有更新过导航，不如手机导航好用，具体是什么地点不准确，时间比较久了，记不太清了，导航每周都会使用\n",
      "The navigation accuracy rate is low, the route is not very accurate when used, and the navigation has not been updated. It is not as easy to use as the mobile phone navigation. The specific location is not accurate. The problem has existed for a long time and I can’t remember clearly. The navigation will be used every week\n",
      "==========\n",
      "The accuracy of the navigation is low, the route is not very accurate when used, the navigation has not been updated, it is not as good as the mobile phone navigation, the specific location is inaccurate, the time is relatively long, the memory is not clear, the navigation will be used every week\n",
      "==============================\n",
      "续航不满意，在市区不明显，温度低，上高速时电池电量消耗明显，跑了一段里程比如10公里就看电池明显少了一大部分，室外零下，冬天不常开，没算过百公里里程，经济模式，空调通常24度，不常跑高速\n",
      "The range is not very satisfactory, not obvious in the city. The temperature is low, the battery power consumption is obvious when on the highway, run a period of mileage such as 10 kilometers to see a significant part of the battery less, outdoor sub-zero, winter not often driving, did not count 100 kilometers mileage, economy mode, air conditioning usually 24 degrees, rarely on the highway\n",
      "==========\n",
      "The battery life is unsatisfactory. It is not obvious in the urban area, the temperature is low, and the battery power consumption is obvious when driving on the highway. After driving for a distance of 10 kilometers, I can see that the battery is obviously a lot less. The outdoor temperature is below zero. I don't often drive in winter, and the mileage hasn't exceeded 100 kilometers. Economic mode. The air conditioner is usually 24 degrees. I don't often drive on the highway.\n",
      "==============================\n",
      "停车辅助有时明明有车位，识别不到，自动停车时，或者就近就有，它指挥还让往前开，偶尔发生；\n",
      "The parking assist system sometimes fails to identify the parking space. When I park the car automatically, or when the parking space is nearby, it commands to drive forward, which happens occasionally;\n",
      "==========\n",
      "The parking assistance sometimes has an obvious parking space, and it can't be recognized. When the car is parked automatically, or when it is nearby, it commands to drive forward, which happens occasionally;\n",
      "==============================\n",
      "汽车新车气味很大（来自皮革，一进车就闻到，味大感觉不舒服，新车味，不能描述）\n",
      "A strong odor could be felt from leather in the new car upon getting in. I don't know how to describe it. The strong odor makes me sick.\n",
      "==========\n",
      "The smell of the new car is very strong (from leather, I can smell it as soon as I enter the car, the smell is strong and uncomfortable, the smell of the new car, it can't be described)\n",
      "==============================\n",
      "前雨刮异响，只要使用就会有异响，胶条和前风挡摩擦的嗞嗞声音，使用时感觉不顺滑\n",
      "The front wipers produces abnormal sounds in use. The buzzing sounds of the rubber strip rubbing against the front windshield makes it unsmooth when used.\n",
      "==========\n",
      "The front wipers make abnormal noises. As long as they are used, there will be abnormal noises. The rubber strips and the front windshield rub against each other. It doesn't feel smooth when used.\n"
     ]
    }
   ],
   "source": [
    "for i in dataset['test']['translation'][:5]:\n",
    "    print(\"=\"*30)\n",
    "    print(i['zh'])\n",
    "    print(i['en'])\n",
    "    print(\"=\"*10)\n",
    "    result = translate(i['zh'])\n",
    "    print(result)"
   ]
  },
  {
   "cell_type": "code",
   "execution_count": null,
   "id": "39486ca4-9b68-4d38-ac28-772bd423091c",
   "metadata": {},
   "outputs": [],
   "source": []
  }
 ],
 "metadata": {
  "kernelspec": {
   "display_name": "Python 3 (ipykernel)",
   "language": "python",
   "name": "python3"
  },
  "language_info": {
   "codemirror_mode": {
    "name": "ipython",
    "version": 3
   },
   "file_extension": ".py",
   "mimetype": "text/x-python",
   "name": "python",
   "nbconvert_exporter": "python",
   "pygments_lexer": "ipython3",
   "version": "3.8.8"
  }
 },
 "nbformat": 4,
 "nbformat_minor": 5
}
