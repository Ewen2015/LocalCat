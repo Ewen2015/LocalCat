{
 "cells": [
  {
   "cell_type": "code",
   "execution_count": 1,
   "id": "4d60f5bc",
   "metadata": {},
   "outputs": [],
   "source": [
    "# pip install sagemaker -U -i https://pypi.douban.com/simple"
   ]
  },
  {
   "cell_type": "code",
   "execution_count": 2,
   "id": "bead0d9d",
   "metadata": {},
   "outputs": [],
   "source": [
    "# pip install -r requirements.txt -U -i https://pypi.douban.com/simple"
   ]
  },
  {
   "cell_type": "code",
   "execution_count": 1,
   "id": "110483e2",
   "metadata": {},
   "outputs": [],
   "source": [
    "config = dict()\n",
    "\n",
    "config[\"S3_MODEL\"] = \"s3://hugging-face/llm/chatglm2-6b-int4.tar.gz\"\n",
    "config['MODEL_NAME'] = \"chatglm2-6b-int4\""
   ]
  },
  {
   "cell_type": "code",
   "execution_count": 2,
   "id": "8a4e22c0",
   "metadata": {},
   "outputs": [
    {
     "name": "stderr",
     "output_type": "stream",
     "text": [
      "/home/ec2-user/anaconda3/envs/python3/lib/python3.10/site-packages/pandas/core/computation/expressions.py:21: UserWarning: Pandas requires version '2.8.0' or newer of 'numexpr' (version '2.7.3' currently installed).\n",
      "  from pandas.core.computation.check import NUMEXPR_INSTALLED\n"
     ]
    },
    {
     "name": "stdout",
     "output_type": "stream",
     "text": [
      "sagemaker.config INFO - Not applying SDK defaults from location: /etc/xdg/sagemaker/config.yaml\n",
      "sagemaker.config INFO - Not applying SDK defaults from location: /home/ec2-user/.config/sagemaker/config.yaml\n",
      "sagemaker.config INFO - Not applying SDK defaults from location: /etc/xdg/sagemaker/config.yaml\n",
      "sagemaker.config INFO - Not applying SDK defaults from location: /home/ec2-user/.config/sagemaker/config.yaml\n",
      "sagemaker.config INFO - Not applying SDK defaults from location: /etc/xdg/sagemaker/config.yaml\n",
      "sagemaker.config INFO - Not applying SDK defaults from location: /home/ec2-user/.config/sagemaker/config.yaml\n",
      "sagemaker.config INFO - Not applying SDK defaults from location: /etc/xdg/sagemaker/config.yaml\n",
      "sagemaker.config INFO - Not applying SDK defaults from location: /home/ec2-user/.config/sagemaker/config.yaml\n",
      "-----------!"
     ]
    }
   ],
   "source": [
    "import boto3  \n",
    "from sagemaker.huggingface.model import HuggingFaceModel\n",
    "import sagemaker\n",
    "from time import gmtime, strftime\n",
    "\n",
    "try:\n",
    "    role = sagemaker.get_execution_role()\n",
    "except ValueError:\n",
    "    iam = boto3.client('iam')\n",
    "    role = iam.get_role(RoleName='sagemaker_execution_role')['Role']['Arn']\n",
    "\n",
    "huggingface_model = HuggingFaceModel(\n",
    "    model_data=config[\"S3_MODEL\"],\n",
    "    role=role,\n",
    "    transformers_version='4.26',\n",
    "    pytorch_version='1.13',\n",
    "    py_version='py39',\n",
    ")\n",
    "\n",
    "predictor = huggingface_model.deploy(\n",
    "    initial_instance_count=1,\n",
    "    instance_type='ml.g4dn.4xlarge',\n",
    "    endpoint_name=config['MODEL_NAME'].upper() + strftime(\"-%Y%m%d-%H%M%S\", gmtime()),\n",
    ")"
   ]
  },
  {
   "cell_type": "code",
   "execution_count": 3,
   "id": "f80409ee-5176-4c04-b94c-dfb571331564",
   "metadata": {
    "tags": []
   },
   "outputs": [],
   "source": [
    "from sagemaker.huggingface.model import HuggingFacePredictor"
   ]
  },
  {
   "cell_type": "code",
   "execution_count": 8,
   "id": "211b8831",
   "metadata": {},
   "outputs": [
    {
     "name": "stdout",
     "output_type": "stream",
     "text": [
      "sagemaker.config INFO - Not applying SDK defaults from location: /etc/xdg/sagemaker/config.yaml\n",
      "sagemaker.config INFO - Not applying SDK defaults from location: /home/ec2-user/.config/sagemaker/config.yaml\n"
     ]
    }
   ],
   "source": [
    "predictor = HuggingFacePredictor(\n",
    "    endpoint_name='CHATGLM2-6B-INT4-20231127-084915'\n",
    ")"
   ]
  },
  {
   "cell_type": "code",
   "execution_count": 9,
   "id": "82f9480d-2291-4fe3-84ab-2303dc90d1db",
   "metadata": {
    "tags": []
   },
   "outputs": [
    {
     "name": "stdout",
     "output_type": "stream",
     "text": [
      "哥德堡是一个美丽的城市,有许多值得探索的景点和活动。以下是一些建议:\n",
      "\n",
      "1. 圣彼得教堂:圣彼得教堂是哥德堡最著名的地标之一,也是哥德堡市的一个主要景点。它是一个历史悠久的教堂,建于18世纪,是哥德堡市的重要象征。\n",
      "\n",
      "2. 战争博物馆:哥德堡战争博物馆是一个纪念二战的博物馆,它展示了二战期间的历史和影响。\n",
      "\n",
      "3. 港博物馆:港博物馆是一个展示港口文化和艺术的博物馆,它有一个引人入胜的展览,涵盖了哥德堡的海洋历史和艺术。\n",
      "\n",
      "4. 吕根岛博物馆:吕根岛博物馆是一个展示德国工业历史的博物馆,它展示了德国的机械和工业技术,以及吕根岛的贸易和经济发展。\n",
      "\n",
      "5. 圣诞市集:哥德堡的圣诞市集是一个热闹的节日活动,吸引了成千上万的游客。在这个时候,你可以品尝各种美食,欣赏装饰精美的圣诞树,还可以制作自己的圣诞卡片。\n",
      "\n",
      "6. 哥德堡灯节:哥德堡的灯光节是一个美丽的灯光展示,展示了城市的和历史。你可以沿着港漫步,欣赏灯光和音乐,或者在一个特殊的圣诞节音乐会中享受灯光和音乐。\n"
     ]
    }
   ],
   "source": [
    "# send request\n",
    "response = predictor.predict({\"input\": \"十二月份去哥德堡，有什么推荐的景点或者活动吗？\"})\n",
    "print(response)"
   ]
  },
  {
   "cell_type": "markdown",
   "id": "a40ad7c3-5329-4e97-92c8-740e6ad4ea29",
   "metadata": {},
   "source": [
    "--- \n",
    "\n",
    "**ChatGPT:** 哥德堡是瑞典的第二大城市，拥有丰富的历史和文化。十二月份是冬季，哥德堡可能会有雪，气温较低，但也是一个充满节日氛围的时候。以下是一些建议的景点和活动：\n",
    "\n",
    "1. **里维拉老城区（Haga）：** 这是哥德堡最古老、最具特色的地区之一。这里有许多独立的小店、咖啡馆和古老的建筑，是一个适合漫步的地方。\n",
    "\n",
    "2. **林德霍门（Liseberg）：** 如果你喜欢游乐园，林德霍门是北欧最大的游乐园之一。尤其是在圣诞季节，这里可能会有圣诞主题的活动和装饰。\n",
    "\n",
    "3. **哥德堡美术馆（Gothenburg Museum of Art）：** 这里收藏有许多瑞典和国际艺术家的作品，包括维多尔夫·翁德金德、安德斯·左恩和爱德华·门克。\n",
    "\n",
    "4. **哥德堡大学博物馆（University of Gothenburg Museum）：** 这个博物馆包含了来自世界各地的收藏品，展示了人类学、自然历史和文化。\n",
    "\n",
    "5. **圣路加市场（St. Lucia Market）：** 如果你在十二月份访问，很可能会遇到一些圣诞市场。这里有各种手工艺品、美食和节日活动，给人一种温馨的感觉。\n",
    "\n",
    "6. **哥德堡大教堂（Gothenburg Cathedral）：** 这座宏伟的教堂建于17世纪，是哥德堡最著名的建筑之一。在圣诞季节，教堂可能会举行特别的庆祝活动。\n",
    "\n",
    "7. **哈町（Haga）圣诞市场：** 哈町是一个具有历史氛围的地区，圣诞市场上有各种各样的手工艺品、食物和圣诞装饰品，是体验瑞典传统节日氛围的好地方。\n",
    "\n",
    "请注意，由于天气寒冷，建议穿暖和的衣物，并确保了解当地的天气情况，以便做好准备。"
   ]
  },
  {
   "cell_type": "code",
   "execution_count": 5,
   "id": "15fa2523",
   "metadata": {},
   "outputs": [
    {
     "name": "stdout",
     "output_type": "stream",
     "text": [
      "京都七月份的天气非常适宜旅游,以下是一些推荐的景点和活动:\n",
      "\n",
      "1. 京都伏見稻荷大社:这是京都最著名的神社之一,供奉着治水、农业、战功等神明,每年吸引着成千上万的游客前来祈求保佑。\n",
      "\n",
      "2. 京都市区公用水族馆:这是一个非常有名的水族馆,展示了来自世界各地的海洋生物和各种水上体验活动。\n",
      "\n",
      "3. 京都艺术祭:这个夏天,京都市将举办很多艺术展览和音乐会,包括传统的音乐和舞蹈表演以及现代艺术品展览。\n",
      "\n",
      "4. 京都城:这是京都最著名的城堡之一,也是日本最古老的城堡之一,每年夏季,城堡内将举办不同的活动和演出。\n",
      "\n",
      "5. 京都花卉:在七月份,京都市内的许多公园和花店都会举办各种各样的花卉展览和比赛,您可以欣赏到各种美丽的花卉。\n",
      "\n",
      "6. 神户牛铁板烧:京都是一家以神户牛铁板烧而著名的餐厅,如果您想品尝正宗的日本美食,不妨去尝一尝。\n",
      "\n",
      "7. 京都祇園的白川流萤:这是京都著名的萤火虫观赏地,每年夏季,大量萤火虫聚集在祇園附近的山林中,非常美丽。\n",
      "\n",
      "8. 京都市立美术馆:这是一座非常有名的美术馆,展示了来自世界各地的现代和当代艺术品,同时也有许多不同的展览和活动。\n",
      "\n",
      "这些都是京都七月份的推荐景点和活动,希望您能够享受到美好的旅行!\n"
     ]
    }
   ],
   "source": [
    "# send request\n",
    "response = predictor.predict({\"input\": \"七月份去京都，有什么推荐的景点或者活动吗？\"})\n",
    "print(response)"
   ]
  },
  {
   "cell_type": "markdown",
   "id": "abd48c71",
   "metadata": {},
   "source": [
    "---------\n",
    "\n",
    "**ChatGPT:** 如果您在七月份去京都，以下是一些推荐的景点和活动：\n",
    "\n",
    "1. 平等院：位于宇治市的平等院是一座著名的佛教寺庙，以其美丽的阿弥陀殿（净土堂）而闻名。七月份时，您可以欣赏到寺庙周围的绿叶和花朵，这是一幅宜人的景象。\n",
    "\n",
    "2. 高台寺：这座古老的佛教寺庙位于东山地区，以其美丽的苔藓庭院而著名。七月份时，苔藓更加繁茂翠绿，为寺庙增添了一份神秘的氛围。\n",
    "\n",
    "3. 京都祇园祭：每年的7月1日至7月31日期间，京都举行着著名的祇园祭，是日本三大祭典之一。期间有各种庆祝活动，包括花车巡游、传统舞蹈表演和灯笼展示等。这是京都一年中最具盛名的节日之一。\n",
    "\n",
    "4. 花灯路（Hanatouro）：在京都的嵐山地区，七月份会举行花灯路活动，将街道和景点点缀成美丽的灯光景观。您可以在夜晚欣赏到灯笼、花灯和投影等独特的艺术装置，给整个地区增添了浪漫和神秘的氛围。\n",
    "\n",
    "5. 京都御苑：这是一座美丽的皇家花园，以其壮丽的景观和古老的建筑而闻名。七月份时，您可以在花园中欣赏到各种季节性的花卉，如莲花和睡莲。这里还有许多小径和池塘，适合漫步和放松。\n",
    "\n",
    "这些只是京都众多景点和活动中的一部分。请根据您的兴趣和时间作出选择，并确保在您的行程中留出时间来探索这座美丽的古城。"
   ]
  },
  {
   "cell_type": "code",
   "execution_count": 7,
   "id": "381b5d38",
   "metadata": {},
   "outputs": [
    {
     "name": "stdout",
     "output_type": "stream",
     "text": [
      "Organizing a skip-level one-on-one meeting involves a few key steps. Here's a step-by-step guide:\n",
      "\n",
      "1. Determine the purpose: Before organizing the meeting, it's important to clarify the purpose of the meeting. Are you trying to solve a specific problem or discuss a new idea? By clarifying the purpose, you can ensure that everyone involved is on the same page.\n",
      "2. Identify the participants: Identify the individuals or teams who you want to include in the meeting. It's important to have a diverse group of participants that can provide different perspectives and ideas.\n",
      "3. Choose a date and time: Choose a date and time that is convenient for all participants. If the meeting is taking place at a fixed location, make sure to check if everyone can attend in person or if it's too far for some.\n",
      "4. Prepare materials: Prepare any necessary materials or documents that will be discussed during the meeting. This could include reports, charts, or data points.\n",
      "5. Set the agenda: Set clear expectations for the meeting by outlining the topics to be discussed and any decisions or action items that may come out of the meeting.\n",
      "6. Facilitate the meeting: As the facilitator, make sure to keep the meeting on track and allow everyone to participate. Encourage open dialogue and debate among participants.\n",
      "7. Follow up: After the meeting, make sure to follow up with participants to share any action items or decisions that were made. Update participants on the progress of the issue or project.\n",
      "\n",
      "By following these steps, you can effectively organize a skip-level one-on-one meeting to discuss important topics and make decisions that can have a significant impact.\n"
     ]
    }
   ],
   "source": [
    "response = predictor.predict({\"input\": \"how to do a skip-level one-on-one meeting?\"})\n",
    "print(response)"
   ]
  },
  {
   "cell_type": "markdown",
   "id": "ce80bf47",
   "metadata": {},
   "source": [
    "------\n",
    "\n",
    "**ChatGPT:** A skip-level one-on-one meeting is a meeting between a manager and an employee who is not their direct report but is at a lower level within the organization. This type of meeting provides an opportunity for the manager to connect directly with employees further down the hierarchy to gain insights, provide guidance, and address any concerns or issues. Here's a step-by-step guide on how to conduct a skip-level one-on-one meeting effectively:\n",
    "\n",
    "1. Schedule the meeting: Reach out to the employee and request a meeting, ensuring to provide a clear purpose and agenda for the discussion. Find a suitable time and location that works for both of you.\n",
    "\n",
    "2. Set the agenda: Prepare a structured agenda for the meeting. This may include topics such as the employee's current projects, their career aspirations, challenges they're facing, feedback on the team or management, and any other relevant subjects. Share the agenda with the employee before the meeting so they can come prepared.\n",
    "\n",
    "3. Create a comfortable environment: Foster an open and relaxed atmosphere during the meeting. Ensure privacy, choose a neutral location if possible, and make the employee feel comfortable sharing their thoughts and concerns.\n",
    "\n",
    "4. Active listening: Be an attentive listener throughout the conversation. Encourage the employee to express their thoughts, ideas, and challenges openly. Ask open-ended questions to promote discussion and gain a deeper understanding of their perspective.\n",
    "\n",
    "5. Provide feedback and guidance: Offer constructive feedback based on the employee's performance, strengths, and areas for improvement. Share specific examples to support your observations and suggestions. Provide guidance on their career development, potential growth opportunities, and actionable steps they can take to enhance their skills.\n",
    "\n",
    "6. Address concerns: Use this meeting as an opportunity to identify any issues or concerns the employee may have. Listen carefully to their feedback about the team dynamics, work environment, or any challenges they're experiencing. Take their concerns seriously and discuss possible solutions or steps to address them.\n",
    "\n",
    "7. Follow-up and action plan: Summarize the key points discussed during the meeting and mutually agree on action steps or next measures. Ensure clarity on responsibilities and deadlines for both the employee and yourself. Document the agreed-upon action plan and share it with the employee for reference.\n",
    "\n",
    "8. Maintain confidentiality: Respect the confidentiality of the conversation. Assure the employee that their feedback will be handled appropriately and that their opinions are valued.\n",
    "\n",
    "9. Regular follow-up: After the skip-level meeting, maintain regular communication with the employee to check on their progress, offer support, and address any ongoing issues or challenges. This helps to build trust and demonstrate your commitment to their growth and well-being.\n",
    "\n",
    "Remember, skip-level meetings are not a substitute for regular team meetings or one-on-one meetings with direct reports. They should complement your existing management practices and contribute to a culture of open communication and employee engagement within your organization."
   ]
  },
  {
   "cell_type": "code",
   "execution_count": null,
   "id": "0059a481",
   "metadata": {},
   "outputs": [],
   "source": []
  }
 ],
 "metadata": {
  "kernelspec": {
   "display_name": "conda_python3",
   "language": "python",
   "name": "conda_python3"
  },
  "language_info": {
   "codemirror_mode": {
    "name": "ipython",
    "version": 3
   },
   "file_extension": ".py",
   "mimetype": "text/x-python",
   "name": "python",
   "nbconvert_exporter": "python",
   "pygments_lexer": "ipython3",
   "version": "3.10.13"
  }
 },
 "nbformat": 4,
 "nbformat_minor": 5
}
