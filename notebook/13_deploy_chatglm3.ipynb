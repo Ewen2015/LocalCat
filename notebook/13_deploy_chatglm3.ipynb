{
 "cells": [
  {
   "cell_type": "code",
   "execution_count": 1,
   "id": "4d60f5bc",
   "metadata": {},
   "outputs": [],
   "source": [
    "# pip install sagemaker -U -i https://pypi.douban.com/simple"
   ]
  },
  {
   "cell_type": "code",
   "execution_count": 2,
   "id": "bead0d9d",
   "metadata": {},
   "outputs": [],
   "source": [
    "# pip install -r requirements.txt -U -i https://pypi.douban.com/simple"
   ]
  },
  {
   "cell_type": "code",
   "execution_count": 1,
   "id": "110483e2",
   "metadata": {
    "tags": []
   },
   "outputs": [],
   "source": [
    "config = dict()\n",
    "\n",
    "config[\"S3_MODEL\"] = \"s3://hugging-face/llm/chatglm3-6b.tar.gz\"\n",
    "config['MODEL_NAME'] = \"chatglm3-6b\""
   ]
  },
  {
   "cell_type": "code",
   "execution_count": 2,
   "id": "8a4e22c0",
   "metadata": {
    "tags": []
   },
   "outputs": [
    {
     "name": "stderr",
     "output_type": "stream",
     "text": [
      "/home/ec2-user/anaconda3/envs/python3/lib/python3.10/site-packages/pandas/core/computation/expressions.py:21: UserWarning: Pandas requires version '2.8.0' or newer of 'numexpr' (version '2.7.3' currently installed).\n",
      "  from pandas.core.computation.check import NUMEXPR_INSTALLED\n"
     ]
    },
    {
     "name": "stdout",
     "output_type": "stream",
     "text": [
      "sagemaker.config INFO - Not applying SDK defaults from location: /etc/xdg/sagemaker/config.yaml\n",
      "sagemaker.config INFO - Not applying SDK defaults from location: /home/ec2-user/.config/sagemaker/config.yaml\n",
      "--------------------!"
     ]
    }
   ],
   "source": [
    "import boto3  \n",
    "from sagemaker.huggingface.model import HuggingFaceModel\n",
    "import sagemaker\n",
    "from time import gmtime, strftime\n",
    "\n",
    "try:\n",
    "    role = sagemaker.get_execution_role()\n",
    "except ValueError:\n",
    "    iam = boto3.client('iam')\n",
    "    role = iam.get_role(RoleName='sagemaker_execution_role')['Role']['Arn']\n",
    "\n",
    "huggingface_model = HuggingFaceModel(\n",
    "    model_data=config[\"S3_MODEL\"],\n",
    "    role=role,\n",
    "    transformers_version='4.26',\n",
    "    pytorch_version='1.13',\n",
    "    py_version='py39',\n",
    ")\n",
    "\n",
    "endpoint_name = config['MODEL_NAME'].upper() + strftime(\"-%Y%m%d-%H%M%S\", gmtime())\n",
    "\n",
    "predictor = huggingface_model.deploy(\n",
    "    initial_instance_count=1,\n",
    "    instance_type='ml.g4dn.4xlarge',\n",
    "    endpoint_name=endpoint_name,\n",
    ")\n",
    "\n",
    "print(endpoint_name)"
   ]
  },
  {
   "cell_type": "code",
   "execution_count": 3,
   "id": "f80409ee-5176-4c04-b94c-dfb571331564",
   "metadata": {
    "tags": []
   },
   "outputs": [],
   "source": [
    "from sagemaker.huggingface.model import HuggingFacePredictor"
   ]
  },
  {
   "cell_type": "code",
   "execution_count": 6,
   "id": "211b8831",
   "metadata": {
    "tags": []
   },
   "outputs": [],
   "source": [
    "predictor = HuggingFacePredictor(\n",
    "    endpoint_name='CHATGLM3-6B-20240208-031054'\n",
    ")"
   ]
  },
  {
   "cell_type": "code",
   "execution_count": 7,
   "id": "82f9480d-2291-4fe3-84ab-2303dc90d1db",
   "metadata": {
    "tags": []
   },
   "outputs": [
    {
     "name": "stdout",
     "output_type": "stream",
     "text": [
      "4月份是春季，天气温暖宜人，正是前往澳洲旅行的好时机。以下是一些建议您在4月份参加的活动和旅游景点：\n",
      "\n",
      "1. 悉尼马拉松：4月2日（周末）\n",
      "这是澳大利亚最大的年度马拉松活动，吸引了来自世界各地的跑步爱好者。您可以在比赛前参加一系列的训练活动，感受悉尼美丽的气候和风景。\n",
      "\n",
      "2. 悉尼皇家植物园：全年开放\n",
      "皇家植物园位于悉尼市区内，拥有丰富的植物种类，您可以在这里散步、放松，欣赏美丽的植物景观。\n",
      "\n",
      "3. 大堡礁潜水：4月份是北半球的冬季，大堡礁的天气和 visibility 都相对较好，是潜水的好时机。您可以参加一次半天的潜水活动，领略大堡礁的神奇魅力。\n",
      "\n",
      "4. 黄金海岸冲浪：4月份是冲浪的好季节，黄金海岸的沙滩和海浪状况都非常适合冲浪。您可以尝试这项刺激的活动，感受澳大利亚的海浪之魅力。\n",
      "\n",
      "5. 阿德莱德动物园：全年开放\n",
      "阿德莱德动物园位于澳大利亚南部，拥有众多珍稀动物，如袋鼠、考拉、鸭嘴兽等。您可以在动物园内与动物亲密互动，感受澳大利亚的自然之美。\n",
      "\n",
      "6. 墨尔本艺术节：4月20日至5月16日\n",
      "墨尔本艺术节是澳大利亚最大的艺术盛会，吸引了来自世界各地的艺术家和观众。您可以参观各种艺术展览和现场表演，感受墨尔本的艺术氛围。\n",
      "\n",
      "7. 霍巴特采石场：4月10日至12日\n",
      "霍巴特采石场是澳大利亚著名的采石场，位于新南威尔士州。在这里，您可以参观古老的采石设备和石头作品，感受澳大利亚的采石文化。\n",
      "\n",
      "请注意，以上活动可能会受到当地天气、疫情等因素的影响，请您在出行前提前了解相关信息并做好安全准备。祝您旅途愉快！\n"
     ]
    }
   ],
   "source": [
    "# send request\n",
    "response = predictor.predict({\"input\": \"澳洲4月有什么好玩的推荐？\"})\n",
    "print(response)"
   ]
  },
  {
   "cell_type": "markdown",
   "id": "a40ad7c3-5329-4e97-92c8-740e6ad4ea29",
   "metadata": {},
   "source": [
    "--- \n",
    "\n",
    "**ChatGPT:** 澳洲4月是秋季，天气逐渐变凉，但仍然非常宜人。以下是一些澳洲4月的推荐活动和景点：\n",
    "\n",
    "1. **樱花季节：** 在澳洲的一些城市，如悉尼、墨尔本和堪培拉，4月正是樱花盛开的季节。你可以参观一些公共花园或公园，欣赏樱花的美丽。\n",
    "\n",
    "2. **大堡礁：** 4月是在昆士兰大堡礁地区游览的好时机。水温适中，适合进行浮潜和潜水，同时避开了炎热的夏季。\n",
    "\n",
    "3. **蓝山国家公园：** 位于悉尼附近的蓝山国家公园在秋季呈现出迷人的景色，有许多徒步步道和自然景点等待探索。\n",
    "\n",
    "4. **塔斯马尼亚：** 4月是探索塔斯马尼亚的好时机，尤其是在秋季，你可以欣赏到美丽的秋叶和清爽的气候。\n",
    "\n",
    "5. **悉尼：** 悉尼是澳洲最大的城市之一，拥有许多文化和娱乐活动。你可以参观悉尼歌剧院、悉尼塔等标志性建筑，同时享受城市的购物和美食。\n",
    "\n",
    "6. **节庆和活动：** 查看当地的节庆和活动安排，可能有一些独特的文化庆典、音乐节或食品活动等，增添你旅行的乐趣。\n",
    "\n",
    "在计划旅行之前，请确保查看最新的旅行和健康建议，以确保安全。"
   ]
  },
  {
   "cell_type": "code",
   "execution_count": null,
   "id": "0059a481",
   "metadata": {},
   "outputs": [],
   "source": []
  }
 ],
 "metadata": {
  "kernelspec": {
   "display_name": "conda_python3",
   "language": "python",
   "name": "conda_python3"
  },
  "language_info": {
   "codemirror_mode": {
    "name": "ipython",
    "version": 3
   },
   "file_extension": ".py",
   "mimetype": "text/x-python",
   "name": "python",
   "nbconvert_exporter": "python",
   "pygments_lexer": "ipython3",
   "version": "3.10.13"
  }
 },
 "nbformat": 4,
 "nbformat_minor": 5
}
