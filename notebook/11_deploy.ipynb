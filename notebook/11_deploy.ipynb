{
 "cells": [
  {
   "cell_type": "code",
   "execution_count": 16,
   "id": "41011571",
   "metadata": {},
   "outputs": [
    {
     "data": {
      "text/plain": [
       "{'MODEL_NAME': 'chatglm-6b',\n",
       " 'S3_MODEL': 's3://hugging-face/llm/chatglm-6b.tar.gz',\n",
       " 'ENDPOINT_NAME': 'HF-FALCON-7B-INSTRUCT-20230710-141220',\n",
       " 'REGION_NAME': 'cn-northwest-1',\n",
       " 'INSTANCE_TYPE': 'ml.g4dn.2xlarge'}"
      ]
     },
     "execution_count": 16,
     "metadata": {},
     "output_type": "execute_result"
    }
   ],
   "source": [
    "import json\n",
    "\n",
    "with open('../config.json') as f:\n",
    "    config = json.load(f)\n",
    "\n",
    "config"
   ]
  },
  {
   "cell_type": "code",
   "execution_count": 17,
   "id": "840b349a",
   "metadata": {},
   "outputs": [
    {
     "name": "stdout",
     "output_type": "stream",
     "text": [
      "--------------------!"
     ]
    }
   ],
   "source": [
    "import boto3  \n",
    "from sagemaker.huggingface.model import HuggingFaceModel\n",
    "import sagemaker\n",
    "from time import gmtime, strftime\n",
    "\n",
    "s3_model = config['S3_MODEL']\n",
    "\n",
    "try:\n",
    "    role = sagemaker.get_execution_role()\n",
    "except ValueError:\n",
    "    iam = boto3.client('iam')\n",
    "    role = iam.get_role(RoleName='sagemaker_execution_role')['Role']['Arn']\n",
    "\n",
    "huggingface_model = HuggingFaceModel(\n",
    "    model_data=s3_model,\n",
    "    role=role,\n",
    "    transformers_version='4.26',\n",
    "    pytorch_version='1.13',\n",
    "    py_version='py39',\n",
    ")\n",
    "\n",
    "predictor = huggingface_model.deploy(\n",
    "    initial_instance_count=1,\n",
    "    # instance_type='ml.m5.xlarge',\n",
    "    instance_type='ml.g4dn.2xlarge',\n",
    "    endpoint_name=config['MODEL_NAME'].upper() + strftime(\"-%Y%m%d-%H%M%S\", gmtime()),\n",
    ")"
   ]
  },
  {
   "cell_type": "code",
   "execution_count": 1,
   "id": "f7d6332a",
   "metadata": {},
   "outputs": [],
   "source": [
    "from sagemaker.huggingface.model import HuggingFacePredictor\n",
    "\n",
    "predictor = HuggingFacePredictor(\n",
    "  endpoint_name='CHATGLM-6B-20230711-080222'\n",
    ")"
   ]
  },
  {
   "cell_type": "code",
   "execution_count": 17,
   "id": "cb63a164",
   "metadata": {},
   "outputs": [
    {
     "name": "stdout",
     "output_type": "stream",
     "text": [
      "京都的七月份是一个气温适宜、风景优美的季节，以下是一些推荐的景点和活动：\n",
      "\n",
      "1. 京都塔：京都塔是京都最著名的建筑之一，是一座高塔，可以俯瞰整个京都市。在七月份，京都塔的攀登活动通常会举行，这是一个非常受欢迎的活动。\n",
      "\n",
      "2. 金阁寺：金阁寺是一座古老的佛教寺庙，建于17世纪，以其美丽的花园和壮观的建筑而闻名。在七月份，金阁寺的樱花季节即将到来，这是一个观赏樱花的好时机。\n",
      "\n",
      "3. 清水寺：清水寺是京都最古老的佛教寺庙之一，建于778年。在七月份，清水寺的樱花季节即将到来，这是一个观赏樱花的好时机。\n",
      "\n",
      "4. 祇園：祇園是京都最古老的園子之一，建于7世纪。在七月份，祇園的祇園花月活动通常会举行，这是一个观赏樱花和花月的好时机。\n",
      "\n",
      "5. 奈良公园：奈良公园是京都另一个受欢迎的公园，位于奈良山上。在七月份，奈良公园的鹿会进入季节，这是一个观赏鹿的好时机。\n",
      "\n",
      "6. 京都市场：京都有许多市场，其中一些非常有趣。例如，草津市场是一个古老的市场，建于7世纪，是一个购物和品尝当地美食的好地方。\n",
      "\n",
      "7. 京都温泉：京都有许多温泉酒店和温泉诊所，在七月份，这是一个享受温泉的好时机。\n",
      "\n",
      "希望这些推荐能帮助你计划一次愉快的京都之旅！\n"
     ]
    }
   ],
   "source": [
    "# send request\n",
    "response = predictor.predict({\"input\": \"七月份去京都，有什么推荐的景点或者活动吗？\"})\n",
    "print(response)"
   ]
  },
  {
   "cell_type": "code",
   "execution_count": null,
   "id": "7f33d7bf",
   "metadata": {},
   "outputs": [],
   "source": []
  }
 ],
 "metadata": {
  "kernelspec": {
   "display_name": "conda_pytorch_p39",
   "language": "python",
   "name": "conda_pytorch_p39"
  },
  "language_info": {
   "codemirror_mode": {
    "name": "ipython",
    "version": 3
   },
   "file_extension": ".py",
   "mimetype": "text/x-python",
   "name": "python",
   "nbconvert_exporter": "python",
   "pygments_lexer": "ipython3",
   "version": "3.9.13"
  }
 },
 "nbformat": 4,
 "nbformat_minor": 5
}
