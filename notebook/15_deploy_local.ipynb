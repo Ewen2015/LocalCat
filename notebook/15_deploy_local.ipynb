{
 "cells": [
  {
   "cell_type": "code",
   "execution_count": null,
   "id": "bead0d9d",
   "metadata": {
    "tags": []
   },
   "outputs": [],
   "source": [
    "# pip install -r requirements.txt -i https://pypi.douban.com/simple"
   ]
  },
  {
   "cell_type": "code",
   "execution_count": null,
   "id": "7fe99ade-10bb-4e0a-a6a8-bc8fd1fec77d",
   "metadata": {
    "tags": []
   },
   "outputs": [],
   "source": [
    "# !PROTOCOL_BUFFERS_PYTHON_IMPLEMENTATION=\"python\""
   ]
  },
  {
   "cell_type": "code",
   "execution_count": null,
   "id": "ead30966-cb5e-48a0-ae2a-2bba6acac58f",
   "metadata": {
    "tags": []
   },
   "outputs": [],
   "source": [
    "import warnings\n",
    "warnings.filterwarnings(\"ignore\")"
   ]
  },
  {
   "cell_type": "markdown",
   "id": "2d4854d8-7736-44e2-9271-162f55fd4105",
   "metadata": {},
   "source": [
    "## Load the Model\n",
    "### Locally"
   ]
  },
  {
   "cell_type": "code",
   "execution_count": null,
   "id": "0f365ec1-0cc6-4e6c-a7ea-8dcaa1982409",
   "metadata": {
    "tags": []
   },
   "outputs": [],
   "source": [
    "from Translate import Translate\n",
    "\n",
    "model_path = \"../models/mbart-finetuned-cn-to-en-auto\""
   ]
  },
  {
   "cell_type": "code",
   "execution_count": null,
   "id": "f84df35e-550f-4185-b44b-815a02411cac",
   "metadata": {},
   "outputs": [],
   "source": [
    "trans = Translate(model_path)\n",
    "text = \"开空调的情况下，续航掉的太快了，特别是冬天天气冷的时候，不开空调不行，天气一冻，续航就掉的更快\"\n",
    "print(trans.translator(text))"
   ]
  },
  {
   "cell_type": "markdown",
   "id": "5126f2eb-a2e8-4d04-8b13-562af0a96c02",
   "metadata": {},
   "source": [
    "### Fine-tuning"
   ]
  },
  {
   "cell_type": "code",
   "execution_count": null,
   "id": "3ba48ee0-6256-4994-93a2-0db70b912eaa",
   "metadata": {
    "tags": []
   },
   "outputs": [],
   "source": [
    "import pandas as pd\n",
    "\n",
    "model_name = f\"mbart-finetuned-cn-to-en-auto-sample\"\n",
    "model_path = f\"../models/{model_name}\"\n",
    "\n",
    "finetuned_model_path = model_path"
   ]
  },
  {
   "cell_type": "code",
   "execution_count": null,
   "id": "0219c0fe-6e1a-484b-b92c-2aa1c612a46f",
   "metadata": {
    "tags": []
   },
   "outputs": [],
   "source": [
    "data_proc = \"../data/trans/PROC_2023.csv\"\n",
    "df = pd.read_csv(data_proc)\n",
    "df = df.head(20)"
   ]
  },
  {
   "cell_type": "code",
   "execution_count": null,
   "id": "374ca12b-256c-4d45-9edb-d11c51bd0c53",
   "metadata": {
    "tags": []
   },
   "outputs": [],
   "source": [
    "trans.finetune(df, finetuned_model_path=finetuned_model_path, compute_metrics=False)"
   ]
  },
  {
   "cell_type": "markdown",
   "id": "a4796953-67e7-470d-bd1b-59163d461e1e",
   "metadata": {},
   "source": [
    "## Local"
   ]
  },
  {
   "cell_type": "code",
   "execution_count": null,
   "id": "0c67afb9-d5af-4cbd-8751-809a577301d5",
   "metadata": {
    "tags": []
   },
   "outputs": [],
   "source": [
    "from Local import Local"
   ]
  },
  {
   "cell_type": "code",
   "execution_count": null,
   "id": "1fc21f06-7fbe-4ea1-99cd-9dc67c9859b7",
   "metadata": {
    "tags": []
   },
   "outputs": [],
   "source": [
    "model_name = f\"mbart-finetuned-cn-to-en-auto-sample\"\n",
    "model_path = f\"../models/{model_name}\"\n",
    "\n",
    "finetuned_model_path = model_path\n",
    "\n",
    "local = Local(model_path=model_path, model_name=\"mbart-sample\")"
   ]
  },
  {
   "cell_type": "code",
   "execution_count": null,
   "id": "8f539ec7-99c3-4137-aa61-e9558e04b344",
   "metadata": {
    "tags": []
   },
   "outputs": [],
   "source": [
    "bucket = \"hugging-face\"\n",
    "prefix = \"llm\"\n",
    "\n",
    "local.push_to_s3(bucket=bucket, prefix=prefix)"
   ]
  },
  {
   "cell_type": "markdown",
   "id": "458c4668-2ae2-4334-bbb1-c002b907a589",
   "metadata": {},
   "source": [
    "## Deploy it\n",
    "### From S3"
   ]
  },
  {
   "cell_type": "code",
   "execution_count": null,
   "id": "110483e2",
   "metadata": {
    "tags": []
   },
   "outputs": [],
   "source": [
    "local.deploy()"
   ]
  },
  {
   "cell_type": "markdown",
   "id": "bcf4883c-736b-4670-a63f-145d1ac57af8",
   "metadata": {},
   "source": [
    "## Invoke it"
   ]
  },
  {
   "cell_type": "code",
   "execution_count": 1,
   "id": "9aa229ce-9c6b-45df-8872-00df1508d95b",
   "metadata": {
    "tags": []
   },
   "outputs": [
    {
     "name": "stdout",
     "output_type": "stream",
     "text": [
      "sagemaker.config INFO - Not applying SDK defaults from location: /etc/xdg/sagemaker/config.yaml\n",
      "sagemaker.config INFO - Not applying SDK defaults from location: /home/ec2-user/.config/sagemaker/config.yaml\n"
     ]
    }
   ],
   "source": [
    "from Local import Local\n",
    "import pandas as pd\n",
    "\n",
    "local = Local(None, None)\n",
    "\n",
    "local.endpoint_name = \"MBART-SAMPLE-20240223-091346\""
   ]
  },
  {
   "cell_type": "code",
   "execution_count": 2,
   "id": "9dd75a76-51fd-49c4-9d83-522250b9025c",
   "metadata": {
    "tags": []
   },
   "outputs": [
    {
     "name": "stdout",
     "output_type": "stream",
     "text": [
      "In the case of turning on the air conditioner, the electric range drops too fast, especially when the weather is cold in winter, not turning on the air conditioner is not possible, as soon as the weather freezes, the electric range drops faster.\n"
     ]
    }
   ],
   "source": [
    "text = \"开空调的情况下，续航掉的太快了，特别是冬天天气冷的时候，不开空调不行，天气一冻，续航就掉的更快\"\n",
    "\n",
    "result = local.translator(text)\n",
    "print(result)"
   ]
  },
  {
   "cell_type": "code",
   "execution_count": 3,
   "id": "2dcfd832-f658-45d6-9bfe-c1a75f9adcab",
   "metadata": {
    "tags": []
   },
   "outputs": [],
   "source": [
    "data_proc = \"../data/trans/PROC_2023.csv\"\n",
    "df = pd.read_csv(data_proc)\n",
    "df = df.head(10)"
   ]
  },
  {
   "cell_type": "code",
   "execution_count": 4,
   "id": "97d2995d-ab03-4f0b-8a8d-1146a8d73b91",
   "metadata": {
    "tags": []
   },
   "outputs": [
    {
     "name": "stderr",
     "output_type": "stream",
     "text": [
      "100%|██████████| 10/10 [00:12<00:00,  1.30s/it]\n"
     ]
    }
   ],
   "source": [
    "df = local.translator_batch(df, col_tgt=\"Translation\")"
   ]
  },
  {
   "cell_type": "code",
   "execution_count": 5,
   "id": "1acb7ba2-278c-4bcf-8d43-c2df872d81b1",
   "metadata": {
    "tags": []
   },
   "outputs": [
    {
     "data": {
      "text/html": [
       "<div>\n",
       "<style scoped>\n",
       "    .dataframe tbody tr th:only-of-type {\n",
       "        vertical-align: middle;\n",
       "    }\n",
       "\n",
       "    .dataframe tbody tr th {\n",
       "        vertical-align: top;\n",
       "    }\n",
       "\n",
       "    .dataframe thead th {\n",
       "        text-align: right;\n",
       "    }\n",
       "</style>\n",
       "<table border=\"1\" class=\"dataframe\">\n",
       "  <thead>\n",
       "    <tr style=\"text-align: right;\">\n",
       "      <th></th>\n",
       "      <th>Chinese</th>\n",
       "      <th>English</th>\n",
       "      <th>Translation</th>\n",
       "    </tr>\n",
       "  </thead>\n",
       "  <tbody>\n",
       "    <tr>\n",
       "      <th>0</th>\n",
       "      <td>开空调的情况下，续航掉的太快了，特别是冬天天气冷的时候，不开空调不行，天气一冻，续航就掉的更快</td>\n",
       "      <td>In the case of turning on the air conditioner, the electric range drops too fast, especially when the weather is cold in winter, if you don't turn on the air conditioner, the weather freezes, the battery life will fall faster.</td>\n",
       "      <td>In the case of turning on the air conditioner, the electric range drops too fast, especially when the weather is cold in winter, not turning on the air conditioner is not possible, as soon as the weather freezes, the electric range drops faster.</td>\n",
       "    </tr>\n",
       "    <tr>\n",
       "      <th>1</th>\n",
       "      <td>车机流畅度差，容易卡死机，车机系统，启动载入很慢，换挡杆前的车机，使用任何功能都有概率死机，发生过3-4次</td>\n",
       "      <td>The smoothness of the IHU is poor, easy to jam, the car machine system, the start loading is very slow, the car machine before the gear lever, using any function has a probability of crashing, which has occurred 3-4 times.</td>\n",
       "      <td>The smoothness of the IHU is poor, it is easy to jam, the IHU system, the start loading is slow, the IHU before the gear lever, the use of any function has a probability of crashing, which has occurred 3-4 times.</td>\n",
       "    </tr>\n",
       "    <tr>\n",
       "      <th>2</th>\n",
       "      <td>整车的悬架系统，在过减速带时，速度在20码以下，但是车身的抖动还是很厉害，舒适性为第一的，美系车相比，差距还是比较大的</td>\n",
       "      <td>The suspension system of the whole car, when crossing the speed bump, the speed is below 20km/h, but the shaking of the body is still very strong, the comfort is the first, compared with the American car, the gap is still relatively large.</td>\n",
       "      <td>The suspension system of the whole car, when crossing the speed bump, the speed is below 20km/h, but the shaking of the body is still very strong, the comfort is the first, compared to American cars, the gap is still relatively large.</td>\n",
       "    </tr>\n",
       "    <tr>\n",
       "      <th>3</th>\n",
       "      <td>大众车的通病，车子的隔音效果不太理想，车速在90码以上，车内的胎噪声就很明显了，必须把音量调大，才能缓解一点（是原厂轮胎，车窗关闭）</td>\n",
       "      <td>The common problem of Volkswagen, the sound insulation of the car is not ideal, the speed is above 90km/h, the tire noise in the car is obvious, the volume must be turned up, in order to alleviate a little (is the original tires, the windows are closed.</td>\n",
       "      <td>The common problem of Volkswagen, the sound insulation of the car is not ideal, the speed is above 90km/h, the tire noise in the car is obvious, the volume must be turned up, in order to alleviate a little (is the original tires, the windows are closed.</td>\n",
       "    </tr>\n",
       "    <tr>\n",
       "      <th>4</th>\n",
       "      <td>车辆外观很不错，但是车标在晚上不能发亮，要是可以发亮的话会更拉风一点</td>\n",
       "      <td>The appearance of the vehicle is very good, but the logo cannot be shiny at night, if it can be bright, it will be more stunning.</td>\n",
       "      <td>The appearance of the vehicle is very good, but the license plate cannot shine at night, if it can shine, it will be a little more dazzling.</td>\n",
       "    </tr>\n",
       "    <tr>\n",
       "      <th>5</th>\n",
       "      <td>对于一款中型车来说，后排的空间真的太小了，别说和迈腾比就是和雅阁比也小了点，特别是腿部空间明显要小一点，对于高个子的来说没有那么友好</td>\n",
       "      <td>For a mid-size car, the space in the rear is really too small, not to mention that compared with the Magotan an is also a little smaller than the Accord, especially the legroom is obviously a little smaller, which is not so friendly for tall people.</td>\n",
       "      <td>For a mid-size car, the space in the rear is really too small, not to mention that compared to the Maidan, it is also a little smaller than that of the Yagaku, especially the legroom is obviously a little smaller, which is not so friendly for tall people.</td>\n",
       "    </tr>\n",
       "    <tr>\n",
       "      <th>6</th>\n",
       "      <td>胎噪声音大（行驶在坑洼路面上，车速在50码左右，车窗全关闭情况下听到）（是原厂轮胎）</td>\n",
       "      <td>Loud tire noise (heard when driving on potholes, at a speed of about 50km/h, with all windows closed (factory tires.</td>\n",
       "      <td>The tire noise is loud (driving on a dirt road, the speed is about 50km/h, heard when the windows are all closed (is the original tires.)</td>\n",
       "    </tr>\n",
       "    <tr>\n",
       "      <th>7</th>\n",
       "      <td>在行驶中3月份，突然加油，松脚刹，车子不动，打双闪，重启，关停再开，恢复正常；偶然一次10-20时速，城市道路面，黄埔大道，很多车在马路上很危险；</td>\n",
       "      <td>In March, when driving in March, suddenly speed up, release the foot brake, the car does not move, double flash, restart, shut down and then open, return to normal; Occasionally a speed of 10-20 mph, city road surface, wham poa Avenue, many carson the road is dangerous; .</td>\n",
       "      <td>While driving in March, suddenly refueling, loose foot brakes, the car does not move, double flash, restart, shut down and restart, return to normal; Occasionally a speed of 10-20 km/h, urban road surface, Huangpu Avenue, many cars on the road are very dangerous; .</td>\n",
       "    </tr>\n",
       "    <tr>\n",
       "      <th>8</th>\n",
       "      <td>车机反应速度慢</td>\n",
       "      <td>The reaction speed of the IHU is slow.</td>\n",
       "      <td>The reaction speed of the IHU is slow.</td>\n",
       "    </tr>\n",
       "    <tr>\n",
       "      <th>9</th>\n",
       "      <td>没有开发出来，开发太慢了，车机一直没有更新的，中控大屏，一直存在，车的硬件本身支持的，但软件未做好，要等它更新，经常；</td>\n",
       "      <td>Not developed, the development is too slow, the IHU has not been updated, the central control screen, has always existed, the hardware of the car itself supports, but the software is not done, to wait for it to update, often; .</td>\n",
       "      <td>Not developed, the development is too slow, the IHU has not been updated, the central control screen, has always existed, the hardware of the car itself supports, but the software is not done, to wait for it to update, often;</td>\n",
       "    </tr>\n",
       "  </tbody>\n",
       "</table>\n",
       "</div>"
      ],
      "text/plain": [
       "                                                                     Chinese  \\\n",
       "0                            开空调的情况下，续航掉的太快了，特别是冬天天气冷的时候，不开空调不行，天气一冻，续航就掉的更快   \n",
       "1                      车机流畅度差，容易卡死机，车机系统，启动载入很慢，换挡杆前的车机，使用任何功能都有概率死机，发生过3-4次   \n",
       "2                整车的悬架系统，在过减速带时，速度在20码以下，但是车身的抖动还是很厉害，舒适性为第一的，美系车相比，差距还是比较大的   \n",
       "3         大众车的通病，车子的隔音效果不太理想，车速在90码以上，车内的胎噪声就很明显了，必须把音量调大，才能缓解一点（是原厂轮胎，车窗关闭）   \n",
       "4                                         车辆外观很不错，但是车标在晚上不能发亮，要是可以发亮的话会更拉风一点   \n",
       "5         对于一款中型车来说，后排的空间真的太小了，别说和迈腾比就是和雅阁比也小了点，特别是腿部空间明显要小一点，对于高个子的来说没有那么友好   \n",
       "6                                 胎噪声音大（行驶在坑洼路面上，车速在50码左右，车窗全关闭情况下听到）（是原厂轮胎）   \n",
       "7  在行驶中3月份，突然加油，松脚刹，车子不动，打双闪，重启，关停再开，恢复正常；偶然一次10-20时速，城市道路面，黄埔大道，很多车在马路上很危险；   \n",
       "8                                                                    车机反应速度慢   \n",
       "9                没有开发出来，开发太慢了，车机一直没有更新的，中控大屏，一直存在，车的硬件本身支持的，但软件未做好，要等它更新，经常；   \n",
       "\n",
       "                                                                                                                                                                                                                                                                            English  \\\n",
       "0                                                In the case of turning on the air conditioner, the electric range drops too fast, especially when the weather is cold in winter, if you don't turn on the air conditioner, the weather freezes, the battery life will fall faster.   \n",
       "1                                                    The smoothness of the IHU is poor, easy to jam, the car machine system, the start loading is very slow, the car machine before the gear lever, using any function has a probability of crashing, which has occurred 3-4 times.   \n",
       "2                                   The suspension system of the whole car, when crossing the speed bump, the speed is below 20km/h, but the shaking of the body is still very strong, the comfort is the first, compared with the American car, the gap is still relatively large.   \n",
       "3                     The common problem of Volkswagen, the sound insulation of the car is not ideal, the speed is above 90km/h, the tire noise in the car is obvious, the volume must be turned up, in order to alleviate a little (is the original tires, the windows are closed.   \n",
       "4                                                                                                                                                 The appearance of the vehicle is very good, but the logo cannot be shiny at night, if it can be bright, it will be more stunning.   \n",
       "5                         For a mid-size car, the space in the rear is really too small, not to mention that compared with the Magotan an is also a little smaller than the Accord, especially the legroom is obviously a little smaller, which is not so friendly for tall people.   \n",
       "6                                                                                                                                                              Loud tire noise (heard when driving on potholes, at a speed of about 50km/h, with all windows closed (factory tires.   \n",
       "7  In March, when driving in March, suddenly speed up, release the foot brake, the car does not move, double flash, restart, shut down and then open, return to normal; Occasionally a speed of 10-20 mph, city road surface, wham poa Avenue, many carson the road is dangerous; .   \n",
       "8                                                                                                                                                                                                                                            The reaction speed of the IHU is slow.   \n",
       "9                                               Not developed, the development is too slow, the IHU has not been updated, the central control screen, has always existed, the hardware of the car itself supports, but the software is not done, to wait for it to update, often; .   \n",
       "\n",
       "                                                                                                                                                                                                                                                                 Translation  \n",
       "0                      In the case of turning on the air conditioner, the electric range drops too fast, especially when the weather is cold in winter, not turning on the air conditioner is not possible, as soon as the weather freezes, the electric range drops faster.  \n",
       "1                                                       The smoothness of the IHU is poor, it is easy to jam, the IHU system, the start loading is slow, the IHU before the gear lever, the use of any function has a probability of crashing, which has occurred 3-4 times.  \n",
       "2                                 The suspension system of the whole car, when crossing the speed bump, the speed is below 20km/h, but the shaking of the body is still very strong, the comfort is the first, compared to American cars, the gap is still relatively large.  \n",
       "3              The common problem of Volkswagen, the sound insulation of the car is not ideal, the speed is above 90km/h, the tire noise in the car is obvious, the volume must be turned up, in order to alleviate a little (is the original tires, the windows are closed.  \n",
       "4                                                                                                                               The appearance of the vehicle is very good, but the license plate cannot shine at night, if it can shine, it will be a little more dazzling.  \n",
       "5            For a mid-size car, the space in the rear is really too small, not to mention that compared to the Maidan, it is also a little smaller than that of the Yagaku, especially the legroom is obviously a little smaller, which is not so friendly for tall people.  \n",
       "6                                                                                                                                  The tire noise is loud (driving on a dirt road, the speed is about 50km/h, heard when the windows are all closed (is the original tires.)  \n",
       "7  While driving in March, suddenly refueling, loose foot brakes, the car does not move, double flash, restart, shut down and restart, return to normal; Occasionally a speed of 10-20 km/h, urban road surface, Huangpu Avenue, many cars on the road are very dangerous; .  \n",
       "8                                                                                                                                                                                                                                     The reaction speed of the IHU is slow.  \n",
       "9                                          Not developed, the development is too slow, the IHU has not been updated, the central control screen, has always existed, the hardware of the car itself supports, but the software is not done, to wait for it to update, often;  "
      ]
     },
     "execution_count": 5,
     "metadata": {},
     "output_type": "execute_result"
    }
   ],
   "source": [
    "df"
   ]
  },
  {
   "cell_type": "code",
   "execution_count": null,
   "id": "a5c14847-7186-4e53-b110-455aa0659d52",
   "metadata": {},
   "outputs": [],
   "source": []
  }
 ],
 "metadata": {
  "kernelspec": {
   "display_name": "conda_pytorch_p310",
   "language": "python",
   "name": "conda_pytorch_p310"
  },
  "language_info": {
   "codemirror_mode": {
    "name": "ipython",
    "version": 3
   },
   "file_extension": ".py",
   "mimetype": "text/x-python",
   "name": "python",
   "nbconvert_exporter": "python",
   "pygments_lexer": "ipython3",
   "version": "3.10.13"
  }
 },
 "nbformat": 4,
 "nbformat_minor": 5
}
