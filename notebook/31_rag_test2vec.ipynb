{
 "cells": [
  {
   "cell_type": "code",
   "execution_count": 2,
   "id": "84ebf510-7758-48a2-ad76-70b446f5104b",
   "metadata": {
    "tags": []
   },
   "outputs": [],
   "source": [
    "# pip install -U text2vec -i https://pypi.douban.com/simple"
   ]
  },
  {
   "cell_type": "markdown",
   "id": "e25dc765-638d-4262-b58a-930f1bcfd62d",
   "metadata": {},
   "source": [
    "# RAG\n",
    "\n"
   ]
  },
  {
   "cell_type": "code",
   "execution_count": 4,
   "id": "dc97c0e2-9979-4b9b-9a03-5fab92430110",
   "metadata": {
    "tags": []
   },
   "outputs": [],
   "source": [
    "# from text2vec import SentenceModel\n",
    "# m = SentenceModel()\n",
    "# m.encode(\"如何更换花呗绑定银行卡\")"
   ]
  },
  {
   "cell_type": "code",
   "execution_count": null,
   "id": "0a8454b7-b56f-47e3-abdf-7465bd8c622c",
   "metadata": {},
   "outputs": [],
   "source": []
  }
 ],
 "metadata": {
  "kernelspec": {
   "display_name": "conda_pytorch_p310",
   "language": "python",
   "name": "conda_pytorch_p310"
  },
  "language_info": {
   "codemirror_mode": {
    "name": "ipython",
    "version": 3
   },
   "file_extension": ".py",
   "mimetype": "text/x-python",
   "name": "python",
   "nbconvert_exporter": "python",
   "pygments_lexer": "ipython3",
   "version": "3.10.13"
  }
 },
 "nbformat": 4,
 "nbformat_minor": 5
}
