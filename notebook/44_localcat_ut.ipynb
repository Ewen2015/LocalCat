{
 "cells": [
  {
   "cell_type": "code",
   "execution_count": 1,
   "id": "028bff9a-b1a3-4206-b5b0-e839c78d1029",
   "metadata": {},
   "outputs": [],
   "source": [
    "# !pip install -r requirements.txt"
   ]
  },
  {
   "cell_type": "code",
   "execution_count": 2,
   "id": "38df99d3-cb6e-42da-98da-690064668e0d",
   "metadata": {},
   "outputs": [],
   "source": [
    "# !jupyter nbextension enable --py widgetsnbextension"
   ]
  },
  {
   "cell_type": "code",
   "execution_count": 3,
   "id": "c38e24de-746b-4a27-a261-6d8f08e48641",
   "metadata": {},
   "outputs": [],
   "source": [
    "from Translate import Translate\n",
    "\n",
    "import pandas as pd\n",
    "import warnings\n",
    "warnings.filterwarnings(\"ignore\")\n",
    "\n",
    "pd.set_option('display.max_colwidth', None)\n",
    "\n",
    "model_mbart = \"facebook/mbart-large-50-many-to-one-mmt\"\n",
    "\n",
    "model_name = f\"mbart-finetuned-cn-to-en-auto\"\n",
    "model_path = f\"../models/{model_name}\"\n",
    "\n",
    "file_proc = \"../data/trans/PROC-NCVQS-2021-2023.csv\"\n",
    "file_sample = \"../data/trans/PROC_SAMPLE.csv\""
   ]
  },
  {
   "cell_type": "markdown",
   "id": "ca3ccc24-f91b-4b46-b62b-9a4c34d0824a",
   "metadata": {},
   "source": [
    "## Fine-tuning"
   ]
  },
  {
   "cell_type": "code",
   "execution_count": 4,
   "id": "851a1f86-874a-474a-8c6c-96ef00a10463",
   "metadata": {},
   "outputs": [
    {
     "data": {
      "application/vnd.jupyter.widget-view+json": {
       "model_id": "cfa4a66835b649fea4d141a8ada597f4",
       "version_major": 2,
       "version_minor": 0
      },
      "text/plain": [
       "Map:   0%|          | 0/18 [00:00<?, ? examples/s]"
      ]
     },
     "metadata": {},
     "output_type": "display_data"
    },
    {
     "data": {
      "application/vnd.jupyter.widget-view+json": {
       "model_id": "a1a68d1b85534257b02ec54325874ed7",
       "version_major": 2,
       "version_minor": 0
      },
      "text/plain": [
       "Map:   0%|          | 0/1 [00:00<?, ? examples/s]"
      ]
     },
     "metadata": {},
     "output_type": "display_data"
    },
    {
     "data": {
      "application/vnd.jupyter.widget-view+json": {
       "model_id": "c2c66a04ffbd4609b4a8e4dfd7c5058e",
       "version_major": 2,
       "version_minor": 0
      },
      "text/plain": [
       "Map:   0%|          | 0/1 [00:00<?, ? examples/s]"
      ]
     },
     "metadata": {},
     "output_type": "display_data"
    },
    {
     "name": "stderr",
     "output_type": "stream",
     "text": [
      "You're using a MBart50TokenizerFast tokenizer. Please note that with a fast tokenizer, using the `__call__` method is faster than using a method to encode the text followed by a call to the `pad` method to get a padded encoding.\n"
     ]
    },
    {
     "data": {
      "text/html": [
       "\n",
       "    <div>\n",
       "      \n",
       "      <progress value='5' max='5' style='width:300px; height:20px; vertical-align: middle;'></progress>\n",
       "      [5/5 00:05, Epoch 1/1]\n",
       "    </div>\n",
       "    <table border=\"1\" class=\"dataframe\">\n",
       "  <thead>\n",
       " <tr style=\"text-align: left;\">\n",
       "      <th>Epoch</th>\n",
       "      <th>Training Loss</th>\n",
       "      <th>Validation Loss</th>\n",
       "      <th>Bleu</th>\n",
       "      <th>Gen Len</th>\n",
       "      <th>Meteor</th>\n",
       "    </tr>\n",
       "  </thead>\n",
       "  <tbody>\n",
       "    <tr>\n",
       "      <td>1</td>\n",
       "      <td>No log</td>\n",
       "      <td>1.041448</td>\n",
       "      <td>38.760200</td>\n",
       "      <td>40.000000</td>\n",
       "      <td>0.549300</td>\n",
       "    </tr>\n",
       "  </tbody>\n",
       "</table><p>"
      ],
      "text/plain": [
       "<IPython.core.display.HTML object>"
      ]
     },
     "metadata": {},
     "output_type": "display_data"
    },
    {
     "name": "stderr",
     "output_type": "stream",
     "text": [
      "[nltk_data] Downloading package wordnet to /home/jovyan/nltk_data...\n",
      "[nltk_data]   Package wordnet is already up-to-date!\n",
      "[nltk_data] Downloading package punkt to /home/jovyan/nltk_data...\n",
      "[nltk_data]   Package punkt is already up-to-date!\n",
      "[nltk_data] Downloading package omw-1.4 to /home/jovyan/nltk_data...\n",
      "[nltk_data]   Package omw-1.4 is already up-to-date!\n"
     ]
    },
    {
     "data": {
      "text/html": [
       "\n",
       "    <div>\n",
       "      \n",
       "      <progress value='1' max='1' style='width:300px; height:20px; vertical-align: middle;'></progress>\n",
       "      [1/1 : < :]\n",
       "    </div>\n",
       "    "
      ],
      "text/plain": [
       "<IPython.core.display.HTML object>"
      ]
     },
     "metadata": {},
     "output_type": "display_data"
    },
    {
     "name": "stdout",
     "output_type": "stream",
     "text": [
      "{'eval_loss': 1.0015382766723633, 'eval_bleu': 39.9388, 'eval_gen_len': 17.0, 'eval_meteor': 0.7868, 'eval_runtime': 0.9152, 'eval_samples_per_second': 1.093, 'eval_steps_per_second': 1.093, 'epoch': 1.0}\n"
     ]
    },
    {
     "name": "stderr",
     "output_type": "stream",
     "text": [
      "[nltk_data] Downloading package wordnet to /home/jovyan/nltk_data...\n",
      "[nltk_data]   Package wordnet is already up-to-date!\n",
      "[nltk_data] Downloading package punkt to /home/jovyan/nltk_data...\n",
      "[nltk_data]   Package punkt is already up-to-date!\n",
      "[nltk_data] Downloading package omw-1.4 to /home/jovyan/nltk_data...\n",
      "[nltk_data]   Package omw-1.4 is already up-to-date!\n"
     ]
    }
   ],
   "source": [
    "model_name_new = f\"mbart-finetuned-cn-to-en-auto-sample\"\n",
    "finetuned_model_path = f\"../models/{model_name_new}\"\n",
    "\n",
    "df = pd.read_csv(file_sample)\n",
    "\n",
    "trans = Translate(model_mbart)\n",
    "trans.finetune(df, finetuned_model_path=finetuned_model_path)"
   ]
  },
  {
   "cell_type": "markdown",
   "id": "3fea13fe-825d-427c-9179-3c419cce1897",
   "metadata": {},
   "source": [
    "### Single Case"
   ]
  },
  {
   "cell_type": "code",
   "execution_count": 5,
   "id": "b249adb4-b067-4cef-83f7-29f2b2a93ecb",
   "metadata": {},
   "outputs": [
    {
     "name": "stdout",
     "output_type": "stream",
     "text": [
      "When the air conditioner is on, the resumption of the flight is too fast, especially when the weather is cold in winter, it is impossible not to open the air conditioner. As soon as the weather is cold, the resumption of the flight is faster\n"
     ]
    }
   ],
   "source": [
    "trans = Translate(finetuned_model_path)\n",
    "\n",
    "text = \"开空调的情况下，续航掉的太快了，特别是冬天天气冷的时候，不开空调不行，天气一冻，续航就掉的更快\"\n",
    "print(trans.translator(text))"
   ]
  },
  {
   "cell_type": "markdown",
   "id": "16ab13d4-f222-4255-82b4-8f1da4429385",
   "metadata": {},
   "source": [
    "### Batch Processing"
   ]
  },
  {
   "cell_type": "code",
   "execution_count": 6,
   "id": "dacd0a89-f77f-43c0-9b16-f41a152db1b1",
   "metadata": {},
   "outputs": [
    {
     "name": "stderr",
     "output_type": "stream",
     "text": [
      "100%|██████████| 20/20 [00:22<00:00,  1.13s/it]\n"
     ]
    },
    {
     "data": {
      "text/html": [
       "<div>\n",
       "<style scoped>\n",
       "    .dataframe tbody tr th:only-of-type {\n",
       "        vertical-align: middle;\n",
       "    }\n",
       "\n",
       "    .dataframe tbody tr th {\n",
       "        vertical-align: top;\n",
       "    }\n",
       "\n",
       "    .dataframe thead th {\n",
       "        text-align: right;\n",
       "    }\n",
       "</style>\n",
       "<table border=\"1\" class=\"dataframe\">\n",
       "  <thead>\n",
       "    <tr style=\"text-align: right;\">\n",
       "      <th></th>\n",
       "      <th>Chinese</th>\n",
       "      <th>English</th>\n",
       "      <th>Translation</th>\n",
       "    </tr>\n",
       "  </thead>\n",
       "  <tbody>\n",
       "    <tr>\n",
       "      <th>0</th>\n",
       "      <td>第二排的舒适性不太理想，减震有点硬，平时有坎时感觉咣当一下，不是很舒服，选择舒适性</td>\n",
       "      <td>The comfort of the second row is not ideal, the shock absorption is a bit hard, and it feels awkward when there are bumps, which is not very comfortable, and I choose comfort</td>\n",
       "      <td>The comfort of the second row is not ideal, the shock absorption is a bit hard, and when there is a bump, it feels a bit uncomfortable, so I choose comfort</td>\n",
       "    </tr>\n",
       "    <tr>\n",
       "      <th>1</th>\n",
       "      <td>减震硬，路况不好的地方不太舒服，选择舒适性（在路况不好，沟沟坎坎比较多时候，车内晃动大）</td>\n",
       "      <td>The shock absorption is hard, and riding under poor road conditions are not very comfortable. I choose comfort (when the road conditions are not good and there are many ridges and bumps, the inside of the car shakes a lot)</td>\n",
       "      <td>Shock absorption is hard, the places where the road conditions are not good are not very comfortable, choose comfort (when the road conditions are not good, there is a lot of shaking in the car when the road conditions are not good)</td>\n",
       "    </tr>\n",
       "    <tr>\n",
       "      <th>2</th>\n",
       "      <td>车内的网络连接不稳定（自带的车联网，通过流量卡连接的互联网，有时使用中会突然没有网，在使用任何APP时都有发生几率，不知是什么原因）</td>\n",
       "      <td>The network connection in the car is unstable (the built-in car network, the Internet is connected through the data traffic card, sometimes there is no network during use, it might happen when using any APP, and I don’t know why)</td>\n",
       "      <td>The network connection in the car is unstable (the self-connected car network, the Internet connected through the traffic card, sometimes there is no network suddenly in use, there is a chance when using any APP, I do not know what the reason is)</td>\n",
       "    </tr>\n",
       "    <tr>\n",
       "      <th>3</th>\n",
       "      <td>开空调时车内有潮气的味道，开热风冷风都会有，问了问，有人说是滤芯的气味，不是很重（新车，没有更换过空气滤波器）</td>\n",
       "      <td>There is a smell of moisture in the car when the AC is turned on both when hot and cold air is supplied in the car. When I asked, some repairmen said that it was the smell of the filter element, which was not very heavy (new car, the air filter has not been replaced)</td>\n",
       "      <td>There is a smell of moisture in the car when the air conditioner is turned on, and there is a smell of hot and cold air when the air conditioner is turned on. When I asked, some people said it was the smell of the filter core, which is not very heavy (the new car, the air filter has not been replaced)</td>\n",
       "    </tr>\n",
       "    <tr>\n",
       "      <th>4</th>\n",
       "      <td>第二排两侧的车门关门时声音咚咚的，声音很沉，感觉车门有点重，听上去没有质感，不是什么大问题，设计的问题</td>\n",
       "      <td>When the doors on both sides of the second row are closed, the thumping sound is very heavy. It doesn't feel good quality texture, not a big problem, a design issue</td>\n",
       "      <td>The door on both sides of the second row knocks when the door is closed, the sound is very heavy, the door feels a bit heavy, it doesn't sound quality, it's not a big problem, it's a design problem</td>\n",
       "    </tr>\n",
       "  </tbody>\n",
       "</table>\n",
       "</div>"
      ],
      "text/plain": [
       "                                                              Chinese  \\\n",
       "0                           第二排的舒适性不太理想，减震有点硬，平时有坎时感觉咣当一下，不是很舒服，选择舒适性   \n",
       "1                        减震硬，路况不好的地方不太舒服，选择舒适性（在路况不好，沟沟坎坎比较多时候，车内晃动大）   \n",
       "2  车内的网络连接不稳定（自带的车联网，通过流量卡连接的互联网，有时使用中会突然没有网，在使用任何APP时都有发生几率，不知是什么原因）   \n",
       "3             开空调时车内有潮气的味道，开热风冷风都会有，问了问，有人说是滤芯的气味，不是很重（新车，没有更换过空气滤波器）   \n",
       "4                 第二排两侧的车门关门时声音咚咚的，声音很沉，感觉车门有点重，听上去没有质感，不是什么大问题，设计的问题   \n",
       "\n",
       "                                                                                                                                                                                                                                                                       English  \\\n",
       "0                                                                                               The comfort of the second row is not ideal, the shock absorption is a bit hard, and it feels awkward when there are bumps, which is not very comfortable, and I choose comfort   \n",
       "1                                               The shock absorption is hard, and riding under poor road conditions are not very comfortable. I choose comfort (when the road conditions are not good and there are many ridges and bumps, the inside of the car shakes a lot)   \n",
       "2                                        The network connection in the car is unstable (the built-in car network, the Internet is connected through the data traffic card, sometimes there is no network during use, it might happen when using any APP, and I don’t know why)   \n",
       "3  There is a smell of moisture in the car when the AC is turned on both when hot and cold air is supplied in the car. When I asked, some repairmen said that it was the smell of the filter element, which was not very heavy (new car, the air filter has not been replaced)   \n",
       "4                                                                                                         When the doors on both sides of the second row are closed, the thumping sound is very heavy. It doesn't feel good quality texture, not a big problem, a design issue   \n",
       "\n",
       "                                                                                                                                                                                                                                                                                                      Translation  \n",
       "0                                                                                                                                                     The comfort of the second row is not ideal, the shock absorption is a bit hard, and when there is a bump, it feels a bit uncomfortable, so I choose comfort  \n",
       "1                                                                        Shock absorption is hard, the places where the road conditions are not good are not very comfortable, choose comfort (when the road conditions are not good, there is a lot of shaking in the car when the road conditions are not good)  \n",
       "2                                                          The network connection in the car is unstable (the self-connected car network, the Internet connected through the traffic card, sometimes there is no network suddenly in use, there is a chance when using any APP, I do not know what the reason is)  \n",
       "3  There is a smell of moisture in the car when the air conditioner is turned on, and there is a smell of hot and cold air when the air conditioner is turned on. When I asked, some people said it was the smell of the filter core, which is not very heavy (the new car, the air filter has not been replaced)  \n",
       "4                                                                                                           The door on both sides of the second row knocks when the door is closed, the sound is very heavy, the door feels a bit heavy, it doesn't sound quality, it's not a big problem, it's a design problem  "
      ]
     },
     "execution_count": 6,
     "metadata": {},
     "output_type": "execute_result"
    }
   ],
   "source": [
    "df = pd.read_csv(file_sample)\n",
    "\n",
    "df = trans.translator_batch(df, col_tgt=\"Translation\")\n",
    "df.head()"
   ]
  },
  {
   "cell_type": "code",
   "execution_count": null,
   "id": "a56023d7-34a3-42f3-8b5b-3c14e03d33c9",
   "metadata": {},
   "outputs": [],
   "source": []
  }
 ],
 "metadata": {
  "kernelspec": {
   "display_name": "Python 3 (ipykernel)",
   "language": "python",
   "name": "python3"
  },
  "language_info": {
   "codemirror_mode": {
    "name": "ipython",
    "version": 3
   },
   "file_extension": ".py",
   "mimetype": "text/x-python",
   "name": "python",
   "nbconvert_exporter": "python",
   "pygments_lexer": "ipython3",
   "version": "3.8.8"
  }
 },
 "nbformat": 4,
 "nbformat_minor": 5
}
