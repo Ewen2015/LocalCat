{
 "cells": [
  {
   "cell_type": "code",
   "execution_count": 1,
   "id": "028bff9a-b1a3-4206-b5b0-e839c78d1029",
   "metadata": {},
   "outputs": [],
   "source": [
    "# !pip install -r requirements.txt"
   ]
  },
  {
   "cell_type": "code",
   "execution_count": 2,
   "id": "c38e24de-746b-4a27-a261-6d8f08e48641",
   "metadata": {},
   "outputs": [
    {
     "data": {
      "text/plain": [
       "\"When the AC is turned on, the battery life drops too fast, especially when the weather is cold in winter. It's not good if the AC is not turned on. As soon as the weather is frozen, the battery life drops faster.\""
      ]
     },
     "execution_count": 2,
     "metadata": {},
     "output_type": "execute_result"
    }
   ],
   "source": [
    "from Translate import Translate\n",
    "import pandas as pd\n",
    "\n",
    "pd.set_option('display.max_colwidth', None)\n",
    "\n",
    "model_name = f\"mbart-finetuned-cn-to-en-auto\"\n",
    "model_path = f\"../models/{model_name}\"\n",
    "\n",
    "file_sample = \"../data/trans/PROC_SAMPLE.csv\"\n",
    "\n",
    "trans = Translate(model_path)\n",
    "\n",
    "text = \"开空调的情况下，续航掉的太快了，特别是冬天天气冷的时候，不开空调不行，天气一冻，续航就掉的更快\"\n",
    "trans.translator(text)"
   ]
  },
  {
   "cell_type": "code",
   "execution_count": 3,
   "id": "e1c44793-b2cb-42ef-80fb-49f95b8a3b64",
   "metadata": {},
   "outputs": [
    {
     "name": "stderr",
     "output_type": "stream",
     "text": [
      "100%|██████████| 20/20 [00:21<00:00,  1.09s/it]\n"
     ]
    },
    {
     "data": {
      "text/html": [
       "<div>\n",
       "<style scoped>\n",
       "    .dataframe tbody tr th:only-of-type {\n",
       "        vertical-align: middle;\n",
       "    }\n",
       "\n",
       "    .dataframe tbody tr th {\n",
       "        vertical-align: top;\n",
       "    }\n",
       "\n",
       "    .dataframe thead th {\n",
       "        text-align: right;\n",
       "    }\n",
       "</style>\n",
       "<table border=\"1\" class=\"dataframe\">\n",
       "  <thead>\n",
       "    <tr style=\"text-align: right;\">\n",
       "      <th></th>\n",
       "      <th>Chinese</th>\n",
       "      <th>English</th>\n",
       "      <th>Translation</th>\n",
       "    </tr>\n",
       "  </thead>\n",
       "  <tbody>\n",
       "    <tr>\n",
       "      <th>0</th>\n",
       "      <td>第二排的舒适性不太理想，减震有点硬，平时有坎时感觉咣当一下，不是很舒服，选择舒适性</td>\n",
       "      <td>The comfort of the second row is not ideal, the shock absorption is a bit hard, and it feels awkward when there are bumps, which is not very comfortable, and I choose comfort</td>\n",
       "      <td>The comfort of the second row is not ideal, and the shock absorption is a bit hard. When there is a bump, it feels bumpy, which is not very comfortable. I choose comfort.</td>\n",
       "    </tr>\n",
       "    <tr>\n",
       "      <th>1</th>\n",
       "      <td>减震硬，路况不好的地方不太舒服，选择舒适性（在路况不好，沟沟坎坎比较多时候，车内晃动大）</td>\n",
       "      <td>The shock absorption is hard, and riding under poor road conditions are not very comfortable. I choose comfort (when the road conditions are not good and there are many ridges and bumps, the inside of the car shakes a lot)</td>\n",
       "      <td>Shock absorption is rigid. It's uncomfortable when the road conditions are poor. I choose comfort. (When the road conditions are poor, the car joggles frequently.)</td>\n",
       "    </tr>\n",
       "    <tr>\n",
       "      <th>2</th>\n",
       "      <td>车内的网络连接不稳定（自带的车联网，通过流量卡连接的互联网，有时使用中会突然没有网，在使用任何APP时都有发生几率，不知是什么原因）</td>\n",
       "      <td>The network connection in the car is unstable (the built-in car network, the Internet is connected through the data traffic card, sometimes there is no network during use, it might happen when using any APP, and I don’t know why)</td>\n",
       "      <td>The network connection in the car is unstable (the built-in car Internet connection, the Internet connected through the traffic card, sometimes there will be no Internet suddenly in use, and there is a chance when using any app, I don't know why)</td>\n",
       "    </tr>\n",
       "    <tr>\n",
       "      <th>3</th>\n",
       "      <td>开空调时车内有潮气的味道，开热风冷风都会有，问了问，有人说是滤芯的气味，不是很重（新车，没有更换过空气滤波器）</td>\n",
       "      <td>There is a smell of moisture in the car when the AC is turned on both when hot and cold air is supplied in the car. When I asked, some repairmen said that it was the smell of the filter element, which was not very heavy (new car, the air filter has not been replaced)</td>\n",
       "      <td>When the AC is turned on, there is a smell of humidity in the car. When the hot air is turned on, the cold air will be there. I asked, and some people said it was the smell of the filter core, not very heavy (new car, the air filter has not been replaced)</td>\n",
       "    </tr>\n",
       "    <tr>\n",
       "      <th>4</th>\n",
       "      <td>第二排两侧的车门关门时声音咚咚的，声音很沉，感觉车门有点重，听上去没有质感，不是什么大问题，设计的问题</td>\n",
       "      <td>When the doors on both sides of the second row are closed, the thumping sound is very heavy. It doesn't feel good quality texture, not a big problem, a design issue</td>\n",
       "      <td>When the doors on both sides of the second row close, the sound is thumping, and the sound is very heavy. I feel that the doors are a little heavy, and there is no quality feeling. It's not a big problem, it's a design problem.</td>\n",
       "    </tr>\n",
       "  </tbody>\n",
       "</table>\n",
       "</div>"
      ],
      "text/plain": [
       "                                                              Chinese  \\\n",
       "0                           第二排的舒适性不太理想，减震有点硬，平时有坎时感觉咣当一下，不是很舒服，选择舒适性   \n",
       "1                        减震硬，路况不好的地方不太舒服，选择舒适性（在路况不好，沟沟坎坎比较多时候，车内晃动大）   \n",
       "2  车内的网络连接不稳定（自带的车联网，通过流量卡连接的互联网，有时使用中会突然没有网，在使用任何APP时都有发生几率，不知是什么原因）   \n",
       "3             开空调时车内有潮气的味道，开热风冷风都会有，问了问，有人说是滤芯的气味，不是很重（新车，没有更换过空气滤波器）   \n",
       "4                 第二排两侧的车门关门时声音咚咚的，声音很沉，感觉车门有点重，听上去没有质感，不是什么大问题，设计的问题   \n",
       "\n",
       "                                                                                                                                                                                                                                                                       English  \\\n",
       "0                                                                                               The comfort of the second row is not ideal, the shock absorption is a bit hard, and it feels awkward when there are bumps, which is not very comfortable, and I choose comfort   \n",
       "1                                               The shock absorption is hard, and riding under poor road conditions are not very comfortable. I choose comfort (when the road conditions are not good and there are many ridges and bumps, the inside of the car shakes a lot)   \n",
       "2                                        The network connection in the car is unstable (the built-in car network, the Internet is connected through the data traffic card, sometimes there is no network during use, it might happen when using any APP, and I don’t know why)   \n",
       "3  There is a smell of moisture in the car when the AC is turned on both when hot and cold air is supplied in the car. When I asked, some repairmen said that it was the smell of the filter element, which was not very heavy (new car, the air filter has not been replaced)   \n",
       "4                                                                                                         When the doors on both sides of the second row are closed, the thumping sound is very heavy. It doesn't feel good quality texture, not a big problem, a design issue   \n",
       "\n",
       "                                                                                                                                                                                                                                                       Translation  \n",
       "0                                                                                       The comfort of the second row is not ideal, and the shock absorption is a bit hard. When there is a bump, it feels bumpy, which is not very comfortable. I choose comfort.  \n",
       "1                                                                                              Shock absorption is rigid. It's uncomfortable when the road conditions are poor. I choose comfort. (When the road conditions are poor, the car joggles frequently.)  \n",
       "2           The network connection in the car is unstable (the built-in car Internet connection, the Internet connected through the traffic card, sometimes there will be no Internet suddenly in use, and there is a chance when using any app, I don't know why)  \n",
       "3  When the AC is turned on, there is a smell of humidity in the car. When the hot air is turned on, the cold air will be there. I asked, and some people said it was the smell of the filter core, not very heavy (new car, the air filter has not been replaced)  \n",
       "4                              When the doors on both sides of the second row close, the sound is thumping, and the sound is very heavy. I feel that the doors are a little heavy, and there is no quality feeling. It's not a big problem, it's a design problem.  "
      ]
     },
     "execution_count": 3,
     "metadata": {},
     "output_type": "execute_result"
    }
   ],
   "source": [
    "df = pd.read_csv(file_sample)\n",
    "\n",
    "df = trans.translator_batch(df, col_tgt=\"Translation\")\n",
    "\n",
    "df.head()"
   ]
  },
  {
   "cell_type": "code",
   "execution_count": null,
   "id": "851a1f86-874a-474a-8c6c-96ef00a10463",
   "metadata": {},
   "outputs": [],
   "source": []
  }
 ],
 "metadata": {
  "kernelspec": {
   "display_name": "Python 3 (ipykernel)",
   "language": "python",
   "name": "python3"
  },
  "language_info": {
   "codemirror_mode": {
    "name": "ipython",
    "version": 3
   },
   "file_extension": ".py",
   "mimetype": "text/x-python",
   "name": "python",
   "nbconvert_exporter": "python",
   "pygments_lexer": "ipython3",
   "version": "3.8.8"
  }
 },
 "nbformat": 4,
 "nbformat_minor": 5
}
