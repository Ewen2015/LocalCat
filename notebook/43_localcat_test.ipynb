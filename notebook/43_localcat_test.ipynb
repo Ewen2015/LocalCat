{
 "cells": [
  {
   "cell_type": "code",
   "execution_count": 1,
   "id": "c38e24de-746b-4a27-a261-6d8f08e48641",
   "metadata": {},
   "outputs": [
    {
     "data": {
      "text/plain": [
       "\"When the AC is turned on, the battery life drops too fast, especially when the weather is cold in winter. It's not good if the AC is not turned on. As soon as the weather is frozen, the battery life drops faster.\""
      ]
     },
     "execution_count": 1,
     "metadata": {},
     "output_type": "execute_result"
    }
   ],
   "source": [
    "from Translate import Translate\n",
    "\n",
    "model_name = f\"mbart-finetuned-cn-to-en-auto\"\n",
    "model_path = f\"../models/{model_name}\"\n",
    "\n",
    "trans = Translate(model_path)\n",
    "\n",
    "text = \"开空调的情况下，续航掉的太快了，特别是冬天天气冷的时候，不开空调不行，天气一冻，续航就掉的更快\"\n",
    "trans.translator(text)"
   ]
  },
  {
   "cell_type": "code",
   "execution_count": null,
   "id": "e1c44793-b2cb-42ef-80fb-49f95b8a3b64",
   "metadata": {},
   "outputs": [],
   "source": []
  }
 ],
 "metadata": {
  "kernelspec": {
   "display_name": "Python 3 (ipykernel)",
   "language": "python",
   "name": "python3"
  },
  "language_info": {
   "codemirror_mode": {
    "name": "ipython",
    "version": 3
   },
   "file_extension": ".py",
   "mimetype": "text/x-python",
   "name": "python",
   "nbconvert_exporter": "python",
   "pygments_lexer": "ipython3",
   "version": "3.8.8"
  }
 },
 "nbformat": 4,
 "nbformat_minor": 5
}
