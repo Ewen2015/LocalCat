{
 "cells": [
  {
   "cell_type": "code",
   "execution_count": 1,
   "id": "028bff9a-b1a3-4206-b5b0-e839c78d1029",
   "metadata": {},
   "outputs": [],
   "source": [
    "# !pip install -r requirements.txt"
   ]
  },
  {
   "cell_type": "code",
   "execution_count": 2,
   "id": "c38e24de-746b-4a27-a261-6d8f08e48641",
   "metadata": {},
   "outputs": [
    {
     "data": {
      "text/plain": [
       "\"In the case of turning on the air conditioner, the endurance mileage drops too fast, especially in winter when the weather is cold. If I don't turn on the air conditioner, the endurance mileage will drop faster, especially when the weather is cold in winter. If I don't turn on the air conditioner, the endurance mileage will drop faster when the weather is freezing.\""
      ]
     },
     "execution_count": 2,
     "metadata": {},
     "output_type": "execute_result"
    }
   ],
   "source": [
    "from Translate import Translate\n",
    "import pandas as pd\n",
    "\n",
    "pd.set_option('display.max_colwidth', None)\n",
    "\n",
    "model_name = f\"mbart-finetuned-cn-to-en-auto\"\n",
    "model_path = f\"../models/{model_name}\"\n",
    "\n",
    "file_sample = \"../data/trans/PROC_SAMPLE.csv\"\n",
    "\n",
    "trans = Translate(model_path)\n",
    "\n",
    "text = \"开空调的情况下，续航掉的太快了，特别是冬天天气冷的时候，不开空调不行，天气一冻，续航就掉的更快\"\n",
    "trans.translator(text)"
   ]
  },
  {
   "cell_type": "code",
   "execution_count": 3,
   "id": "e1c44793-b2cb-42ef-80fb-49f95b8a3b64",
   "metadata": {},
   "outputs": [
    {
     "data": {
      "text/html": [
       "<div>\n",
       "<style scoped>\n",
       "    .dataframe tbody tr th:only-of-type {\n",
       "        vertical-align: middle;\n",
       "    }\n",
       "\n",
       "    .dataframe tbody tr th {\n",
       "        vertical-align: top;\n",
       "    }\n",
       "\n",
       "    .dataframe thead th {\n",
       "        text-align: right;\n",
       "    }\n",
       "</style>\n",
       "<table border=\"1\" class=\"dataframe\">\n",
       "  <thead>\n",
       "    <tr style=\"text-align: right;\">\n",
       "      <th></th>\n",
       "      <th>Chinese</th>\n",
       "      <th>English</th>\n",
       "    </tr>\n",
       "  </thead>\n",
       "  <tbody>\n",
       "    <tr>\n",
       "      <th>0</th>\n",
       "      <td>第二排的舒适性不太理想，减震有点硬，平时有坎时感觉咣当一下，不是很舒服，选择舒适性</td>\n",
       "      <td>The comfort of the second row is not ideal, the shock absorption is a bit hard, and it feels awkward when there are bumps, which is not very comfortable, and I choose comfort</td>\n",
       "    </tr>\n",
       "    <tr>\n",
       "      <th>1</th>\n",
       "      <td>减震硬，路况不好的地方不太舒服，选择舒适性（在路况不好，沟沟坎坎比较多时候，车内晃动大）</td>\n",
       "      <td>The shock absorption is hard, and riding under poor road conditions are not very comfortable. I choose comfort (when the road conditions are not good and there are many ridges and bumps, the inside of the car shakes a lot)</td>\n",
       "    </tr>\n",
       "    <tr>\n",
       "      <th>2</th>\n",
       "      <td>车内的网络连接不稳定（自带的车联网，通过流量卡连接的互联网，有时使用中会突然没有网，在使用任何APP时都有发生几率，不知是什么原因）</td>\n",
       "      <td>The network connection in the car is unstable (the built-in car network, the Internet is connected through the data traffic card, sometimes there is no network during use, it might happen when using any APP, and I don’t know why)</td>\n",
       "    </tr>\n",
       "    <tr>\n",
       "      <th>3</th>\n",
       "      <td>开空调时车内有潮气的味道，开热风冷风都会有，问了问，有人说是滤芯的气味，不是很重（新车，没有更换过空气滤波器）</td>\n",
       "      <td>There is a smell of moisture in the car when the AC is turned on both when hot and cold air is supplied in the car. When I asked, some repairmen said that it was the smell of the filter element, which was not very heavy (new car, the air filter has not been replaced)</td>\n",
       "    </tr>\n",
       "    <tr>\n",
       "      <th>4</th>\n",
       "      <td>第二排两侧的车门关门时声音咚咚的，声音很沉，感觉车门有点重，听上去没有质感，不是什么大问题，设计的问题</td>\n",
       "      <td>When the doors on both sides of the second row are closed, the thumping sound is very heavy. It doesn't feel good quality texture, not a big problem, a design issue</td>\n",
       "    </tr>\n",
       "  </tbody>\n",
       "</table>\n",
       "</div>"
      ],
      "text/plain": [
       "                                                              Chinese  \\\n",
       "0                           第二排的舒适性不太理想，减震有点硬，平时有坎时感觉咣当一下，不是很舒服，选择舒适性   \n",
       "1                        减震硬，路况不好的地方不太舒服，选择舒适性（在路况不好，沟沟坎坎比较多时候，车内晃动大）   \n",
       "2  车内的网络连接不稳定（自带的车联网，通过流量卡连接的互联网，有时使用中会突然没有网，在使用任何APP时都有发生几率，不知是什么原因）   \n",
       "3             开空调时车内有潮气的味道，开热风冷风都会有，问了问，有人说是滤芯的气味，不是很重（新车，没有更换过空气滤波器）   \n",
       "4                 第二排两侧的车门关门时声音咚咚的，声音很沉，感觉车门有点重，听上去没有质感，不是什么大问题，设计的问题   \n",
       "\n",
       "                                                                                                                                                                                                                                                                       English  \n",
       "0                                                                                               The comfort of the second row is not ideal, the shock absorption is a bit hard, and it feels awkward when there are bumps, which is not very comfortable, and I choose comfort  \n",
       "1                                               The shock absorption is hard, and riding under poor road conditions are not very comfortable. I choose comfort (when the road conditions are not good and there are many ridges and bumps, the inside of the car shakes a lot)  \n",
       "2                                        The network connection in the car is unstable (the built-in car network, the Internet is connected through the data traffic card, sometimes there is no network during use, it might happen when using any APP, and I don’t know why)  \n",
       "3  There is a smell of moisture in the car when the AC is turned on both when hot and cold air is supplied in the car. When I asked, some repairmen said that it was the smell of the filter element, which was not very heavy (new car, the air filter has not been replaced)  \n",
       "4                                                                                                         When the doors on both sides of the second row are closed, the thumping sound is very heavy. It doesn't feel good quality texture, not a big problem, a design issue  "
      ]
     },
     "execution_count": 3,
     "metadata": {},
     "output_type": "execute_result"
    }
   ],
   "source": [
    "df = pd.read_csv(file_sample)\n",
    "\n",
    "# df = trans.translator_batch(df, col_tgt=\"Translation\")\n",
    "\n",
    "df.head()"
   ]
  },
  {
   "cell_type": "code",
   "execution_count": 4,
   "id": "851a1f86-874a-474a-8c6c-96ef00a10463",
   "metadata": {},
   "outputs": [
    {
     "data": {
      "application/vnd.jupyter.widget-view+json": {
       "model_id": "3130054bdaef4381bc50b7645f39ab5b",
       "version_major": 2,
       "version_minor": 0
      },
      "text/plain": [
       "Map:   0%|          | 0/18 [00:00<?, ? examples/s]"
      ]
     },
     "metadata": {},
     "output_type": "display_data"
    },
    {
     "name": "stderr",
     "output_type": "stream",
     "text": [
      "/opt/conda/lib/python3.8/site-packages/transformers/tokenization_utils_base.py:3619: UserWarning: `as_target_tokenizer` is deprecated and will be removed in v5 of Transformers. You can tokenize your labels by using the argument `text_target` of the regular `__call__` method (either in the same call as your input texts if you use the same keyword arguments, or in a separate call.\n",
      "  warnings.warn(\n"
     ]
    },
    {
     "data": {
      "application/vnd.jupyter.widget-view+json": {
       "model_id": "487adc9b2cde4339bf965299f866465e",
       "version_major": 2,
       "version_minor": 0
      },
      "text/plain": [
       "Map:   0%|          | 0/1 [00:00<?, ? examples/s]"
      ]
     },
     "metadata": {},
     "output_type": "display_data"
    },
    {
     "data": {
      "application/vnd.jupyter.widget-view+json": {
       "model_id": "6a8433ced1ff485781deb959cbfd3f36",
       "version_major": 2,
       "version_minor": 0
      },
      "text/plain": [
       "Map:   0%|          | 0/1 [00:00<?, ? examples/s]"
      ]
     },
     "metadata": {},
     "output_type": "display_data"
    },
    {
     "name": "stderr",
     "output_type": "stream",
     "text": [
      "/opt/conda/lib/python3.8/site-packages/transformers/optimization.py:411: FutureWarning: This implementation of AdamW is deprecated and will be removed in a future version. Use the PyTorch implementation torch.optim.AdamW instead, or set `no_deprecation_warning=True` to disable this warning\n",
      "  warnings.warn(\n",
      "You're using a MBart50TokenizerFast tokenizer. Please note that with a fast tokenizer, using the `__call__` method is faster than using a method to encode the text followed by a call to the `pad` method to get a padded encoding.\n"
     ]
    },
    {
     "data": {
      "text/html": [
       "\n",
       "    <div>\n",
       "      \n",
       "      <progress value='5' max='5' style='width:300px; height:20px; vertical-align: middle;'></progress>\n",
       "      [5/5 00:05, Epoch 1/1]\n",
       "    </div>\n",
       "    <table border=\"1\" class=\"dataframe\">\n",
       "  <thead>\n",
       " <tr style=\"text-align: left;\">\n",
       "      <th>Epoch</th>\n",
       "      <th>Training Loss</th>\n",
       "      <th>Validation Loss</th>\n",
       "      <th>Bleu</th>\n",
       "      <th>Gen Len</th>\n",
       "      <th>Meteor</th>\n",
       "    </tr>\n",
       "  </thead>\n",
       "  <tbody>\n",
       "    <tr>\n",
       "      <td>1</td>\n",
       "      <td>No log</td>\n",
       "      <td>2.402124</td>\n",
       "      <td>20.002900</td>\n",
       "      <td>60.000000</td>\n",
       "      <td>0.716100</td>\n",
       "    </tr>\n",
       "  </tbody>\n",
       "</table><p>"
      ],
      "text/plain": [
       "<IPython.core.display.HTML object>"
      ]
     },
     "metadata": {},
     "output_type": "display_data"
    },
    {
     "name": "stderr",
     "output_type": "stream",
     "text": [
      "[nltk_data] Downloading package wordnet to /home/jovyan/nltk_data...\n",
      "[nltk_data]   Package wordnet is already up-to-date!\n",
      "[nltk_data] Downloading package punkt to /home/jovyan/nltk_data...\n",
      "[nltk_data]   Package punkt is already up-to-date!\n",
      "[nltk_data] Downloading package omw-1.4 to /home/jovyan/nltk_data...\n",
      "[nltk_data]   Package omw-1.4 is already up-to-date!\n"
     ]
    },
    {
     "data": {
      "text/html": [
       "\n",
       "    <div>\n",
       "      \n",
       "      <progress value='1' max='1' style='width:300px; height:20px; vertical-align: middle;'></progress>\n",
       "      [1/1 : < :]\n",
       "    </div>\n",
       "    "
      ],
      "text/plain": [
       "<IPython.core.display.HTML object>"
      ]
     },
     "metadata": {},
     "output_type": "display_data"
    },
    {
     "name": "stdout",
     "output_type": "stream",
     "text": [
      "{'eval_loss': 1.6039763689041138, 'eval_bleu': 41.5391, 'eval_gen_len': 112.0, 'eval_meteor': 0.7569, 'eval_runtime': 2.9385, 'eval_samples_per_second': 0.34, 'eval_steps_per_second': 0.34, 'epoch': 1.0}\n"
     ]
    },
    {
     "name": "stderr",
     "output_type": "stream",
     "text": [
      "[nltk_data] Downloading package wordnet to /home/jovyan/nltk_data...\n",
      "[nltk_data]   Package wordnet is already up-to-date!\n",
      "[nltk_data] Downloading package punkt to /home/jovyan/nltk_data...\n",
      "[nltk_data]   Package punkt is already up-to-date!\n",
      "[nltk_data] Downloading package omw-1.4 to /home/jovyan/nltk_data...\n",
      "[nltk_data]   Package omw-1.4 is already up-to-date!\n"
     ]
    }
   ],
   "source": [
    "model_name_new = f\"mbart-finetuned-cn-to-en-auto-sample\"\n",
    "finetuned_model_path = f\"../models/{model_name_new}\"\n",
    "\n",
    "trans.finetune(df, finetuned_model_path=finetuned_model_path)"
   ]
  },
  {
   "cell_type": "code",
   "execution_count": 5,
   "id": "b249adb4-b067-4cef-83f7-29f2b2a93ecb",
   "metadata": {},
   "outputs": [
    {
     "data": {
      "text/plain": [
       "\"zh zh When the air conditioner is turned on, the endurance mileage drops too fast, especially when the weather is cold in winter. Especially when the weather is cold in winter, the endurance mileage drops faster and faster when the weather is frozen, especially when the weather is cold in winter. It's not good if the air conditioner is not turned on. It's not good if the air conditioner is not turned on. The endurance mileage drops faster and faster when the weather is frozen.\""
      ]
     },
     "execution_count": 5,
     "metadata": {},
     "output_type": "execute_result"
    }
   ],
   "source": [
    "trans = Translate(finetuned_model_path)\n",
    "\n",
    "text = \"开空调的情况下，续航掉的太快了，特别是冬天天气冷的时候，不开空调不行，天气一冻，续航就掉的更快\"\n",
    "trans.translator(text)"
   ]
  },
  {
   "cell_type": "code",
   "execution_count": 6,
   "id": "dacd0a89-f77f-43c0-9b16-f41a152db1b1",
   "metadata": {},
   "outputs": [
    {
     "name": "stderr",
     "output_type": "stream",
     "text": [
      "100%|██████████| 20/20 [00:37<00:00,  1.89s/it]\n"
     ]
    },
    {
     "data": {
      "text/html": [
       "<div>\n",
       "<style scoped>\n",
       "    .dataframe tbody tr th:only-of-type {\n",
       "        vertical-align: middle;\n",
       "    }\n",
       "\n",
       "    .dataframe tbody tr th {\n",
       "        vertical-align: top;\n",
       "    }\n",
       "\n",
       "    .dataframe thead th {\n",
       "        text-align: right;\n",
       "    }\n",
       "</style>\n",
       "<table border=\"1\" class=\"dataframe\">\n",
       "  <thead>\n",
       "    <tr style=\"text-align: right;\">\n",
       "      <th></th>\n",
       "      <th>Chinese</th>\n",
       "      <th>English</th>\n",
       "      <th>Translation</th>\n",
       "    </tr>\n",
       "  </thead>\n",
       "  <tbody>\n",
       "    <tr>\n",
       "      <th>0</th>\n",
       "      <td>第二排的舒适性不太理想，减震有点硬，平时有坎时感觉咣当一下，不是很舒服，选择舒适性</td>\n",
       "      <td>The comfort of the second row is not ideal, the shock absorption is a bit hard, and it feels awkward when there are bumps, which is not very comfortable, and I choose comfort</td>\n",
       "      <td>The comfort of the second-row seats is not ideal, and the comfort of the second-row seats is not ideal. The shock absorption is a little hard, and the shock absorption is a little hard. Usually, when there is a bump in the road, I feel that the car is bumpy, and it is not very comfortable. I choose comfort.</td>\n",
       "    </tr>\n",
       "    <tr>\n",
       "      <th>1</th>\n",
       "      <td>减震硬，路况不好的地方不太舒服，选择舒适性（在路况不好，沟沟坎坎比较多时候，车内晃动大）</td>\n",
       "      <td>The shock absorption is hard, and riding under poor road conditions are not very comfortable. I choose comfort (when the road conditions are not good and there are many ridges and bumps, the inside of the car shakes a lot)</td>\n",
       "      <td>The shock absorption is hard, the shock absorption is hard, and it is not very comfortable in places with poor road conditions, it is not very comfortable in places with poor road conditions, I choose comfort, I choose comfort (when the road conditions are not good, when the road conditions are not good, the car shakes a lot, the car shakes a lot, and the car shakes a lot)</td>\n",
       "    </tr>\n",
       "    <tr>\n",
       "      <th>2</th>\n",
       "      <td>车内的网络连接不稳定（自带的车联网，通过流量卡连接的互联网，有时使用中会突然没有网，在使用任何APP时都有发生几率，不知是什么原因）</td>\n",
       "      <td>The network connection in the car is unstable (the built-in car network, the Internet is connected through the data traffic card, sometimes there is no network during use, it might happen when using any APP, and I don’t know why)</td>\n",
       "      <td>The network connection in the car is unstable and the network connection in the car is unstable (the car Internet connection of the car that comes with me, the Internet connected through the traffic card is connected to the Internet, sometimes there is no Internet suddenly when using, sometimes there is no Internet suddenly, and there is a probability of occurrence when using any APP, I don't know what the reason is)</td>\n",
       "    </tr>\n",
       "    <tr>\n",
       "      <th>3</th>\n",
       "      <td>开空调时车内有潮气的味道，开热风冷风都会有，问了问，有人说是滤芯的气味，不是很重（新车，没有更换过空气滤波器）</td>\n",
       "      <td>There is a smell of moisture in the car when the AC is turned on both when hot and cold air is supplied in the car. When I asked, some repairmen said that it was the smell of the filter element, which was not very heavy (new car, the air filter has not been replaced)</td>\n",
       "      <td>When the AC is turned on and the AC is turned on, there is a smell of moist air in the car, and there is a smell of moist air in the car. When the AC is turned on and hot air is turned on, hot air and cold air will have the smell. I asked and asked, and some people said that the smell of filter filter is the smell of filter core, not very heavy, not very heavy (new car, I haven't replaced the air filter of the new car, I haven't replaced the air filter of the air filter)</td>\n",
       "    </tr>\n",
       "    <tr>\n",
       "      <th>4</th>\n",
       "      <td>第二排两侧的车门关门时声音咚咚的，声音很沉，感觉车门有点重，听上去没有质感，不是什么大问题，设计的问题</td>\n",
       "      <td>When the doors on both sides of the second row are closed, the thumping sound is very heavy. It doesn't feel good quality texture, not a big problem, a design issue</td>\n",
       "      <td>The doors on both sides of the second row of the second-row car doors on both sides of the second row of the car doors on both sides of the second row of the car doors on both sides of the second row of the car doors when the door is closed and the door is closed, the sound is very heavy, the sound is very heavy, I feel that the doors of the car doors are a little heavy, there is no quality feeling, it doesn't sound like quality, it is not a big problem, it is not a design problem, it is not a big problem, it is not a design problem, it is not a big problem, it is not a design problem.</td>\n",
       "    </tr>\n",
       "  </tbody>\n",
       "</table>\n",
       "</div>"
      ],
      "text/plain": [
       "                                                              Chinese  \\\n",
       "0                           第二排的舒适性不太理想，减震有点硬，平时有坎时感觉咣当一下，不是很舒服，选择舒适性   \n",
       "1                        减震硬，路况不好的地方不太舒服，选择舒适性（在路况不好，沟沟坎坎比较多时候，车内晃动大）   \n",
       "2  车内的网络连接不稳定（自带的车联网，通过流量卡连接的互联网，有时使用中会突然没有网，在使用任何APP时都有发生几率，不知是什么原因）   \n",
       "3             开空调时车内有潮气的味道，开热风冷风都会有，问了问，有人说是滤芯的气味，不是很重（新车，没有更换过空气滤波器）   \n",
       "4                 第二排两侧的车门关门时声音咚咚的，声音很沉，感觉车门有点重，听上去没有质感，不是什么大问题，设计的问题   \n",
       "\n",
       "                                                                                                                                                                                                                                                                       English  \\\n",
       "0                                                                                               The comfort of the second row is not ideal, the shock absorption is a bit hard, and it feels awkward when there are bumps, which is not very comfortable, and I choose comfort   \n",
       "1                                               The shock absorption is hard, and riding under poor road conditions are not very comfortable. I choose comfort (when the road conditions are not good and there are many ridges and bumps, the inside of the car shakes a lot)   \n",
       "2                                        The network connection in the car is unstable (the built-in car network, the Internet is connected through the data traffic card, sometimes there is no network during use, it might happen when using any APP, and I don’t know why)   \n",
       "3  There is a smell of moisture in the car when the AC is turned on both when hot and cold air is supplied in the car. When I asked, some repairmen said that it was the smell of the filter element, which was not very heavy (new car, the air filter has not been replaced)   \n",
       "4                                                                                                         When the doors on both sides of the second row are closed, the thumping sound is very heavy. It doesn't feel good quality texture, not a big problem, a design issue   \n",
       "\n",
       "                                                                                                                                                                                                                                                                                                                                                                                                                                                                                                                                                                                                        Translation  \n",
       "0                                                                                                                                                                                                                                                                                              The comfort of the second-row seats is not ideal, and the comfort of the second-row seats is not ideal. The shock absorption is a little hard, and the shock absorption is a little hard. Usually, when there is a bump in the road, I feel that the car is bumpy, and it is not very comfortable. I choose comfort.  \n",
       "1                                                                                                                                                                                                                           The shock absorption is hard, the shock absorption is hard, and it is not very comfortable in places with poor road conditions, it is not very comfortable in places with poor road conditions, I choose comfort, I choose comfort (when the road conditions are not good, when the road conditions are not good, the car shakes a lot, the car shakes a lot, and the car shakes a lot)  \n",
       "2                                                                                                                                                                              The network connection in the car is unstable and the network connection in the car is unstable (the car Internet connection of the car that comes with me, the Internet connected through the traffic card is connected to the Internet, sometimes there is no Internet suddenly when using, sometimes there is no Internet suddenly, and there is a probability of occurrence when using any APP, I don't know what the reason is)  \n",
       "3                                                                                                                       When the AC is turned on and the AC is turned on, there is a smell of moist air in the car, and there is a smell of moist air in the car. When the AC is turned on and hot air is turned on, hot air and cold air will have the smell. I asked and asked, and some people said that the smell of filter filter is the smell of filter core, not very heavy, not very heavy (new car, I haven't replaced the air filter of the new car, I haven't replaced the air filter of the air filter)  \n",
       "4  The doors on both sides of the second row of the second-row car doors on both sides of the second row of the car doors on both sides of the second row of the car doors on both sides of the second row of the car doors when the door is closed and the door is closed, the sound is very heavy, the sound is very heavy, I feel that the doors of the car doors are a little heavy, there is no quality feeling, it doesn't sound like quality, it is not a big problem, it is not a design problem, it is not a big problem, it is not a design problem, it is not a big problem, it is not a design problem.  "
      ]
     },
     "execution_count": 6,
     "metadata": {},
     "output_type": "execute_result"
    }
   ],
   "source": [
    "df = pd.read_csv(file_sample)\n",
    "\n",
    "df = trans.translator_batch(df, col_tgt=\"Translation\")\n",
    "df.head()"
   ]
  },
  {
   "cell_type": "code",
   "execution_count": null,
   "id": "a56023d7-34a3-42f3-8b5b-3c14e03d33c9",
   "metadata": {},
   "outputs": [],
   "source": []
  }
 ],
 "metadata": {
  "kernelspec": {
   "display_name": "Python 3 (ipykernel)",
   "language": "python",
   "name": "python3"
  },
  "language_info": {
   "codemirror_mode": {
    "name": "ipython",
    "version": 3
   },
   "file_extension": ".py",
   "mimetype": "text/x-python",
   "name": "python",
   "nbconvert_exporter": "python",
   "pygments_lexer": "ipython3",
   "version": "3.8.8"
  }
 },
 "nbformat": 4,
 "nbformat_minor": 5
}
