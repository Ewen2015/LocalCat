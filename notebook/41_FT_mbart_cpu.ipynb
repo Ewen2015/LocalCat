{
 "cells": [
  {
   "cell_type": "markdown",
   "id": "ff786306-107d-46ce-96b2-0a3084f13680",
   "metadata": {},
   "source": [
    "# Fine Tune\n",
    "\n",
    "**Reference:** https://neptune.ai/blog/hugging-face-pre-trained-models-find-the-best"
   ]
  },
  {
   "cell_type": "code",
   "execution_count": 1,
   "id": "19593727-16be-4674-aa2a-f7f6351dd9ad",
   "metadata": {
    "tags": []
   },
   "outputs": [],
   "source": [
    "# !pip install -r requirements.txt -i https://pypi.douban.com/simple"
   ]
  },
  {
   "cell_type": "code",
   "execution_count": 2,
   "id": "8a0bcaa1-e6f9-456d-9af4-7c65432e6cd3",
   "metadata": {
    "tags": []
   },
   "outputs": [],
   "source": [
    "# !git clone https://github.com/huggingface/evaluate.git"
   ]
  },
  {
   "cell_type": "code",
   "execution_count": 10,
   "id": "19f96178-c280-42ba-9e5f-c77725f96319",
   "metadata": {
    "tags": []
   },
   "outputs": [],
   "source": [
    "import pandas as pd\n",
    "from datasets import Dataset\n",
    "\n",
    "import warnings\n",
    "warnings.filterwarnings(\"ignore\")\n",
    "\n",
    "from Translate import Translate\n",
    "\n",
    "pd.set_option('display.max_colwidth', None)\n",
    "\n",
    "data_proc = \"../data/trans/PROC_2023.csv\"\n",
    "\n",
    "model_mbart = \"facebook/mbart-large-50-many-to-one-mmt\"\n",
    "model_name = f\"mbart-finetuned-cn-to-en-auto\"\n",
    "model_path = f\"../models/{model_name}\"\n",
    "\n",
    "finetuned_model_path = model_path"
   ]
  },
  {
   "cell_type": "markdown",
   "id": "fdfad005-4e9c-41a9-9036-4295a82ba842",
   "metadata": {},
   "source": [
    "## Load Data"
   ]
  },
  {
   "cell_type": "code",
   "execution_count": 4,
   "id": "bd2cf31a-7794-4b69-af41-c72a6a7ebbb0",
   "metadata": {
    "tags": []
   },
   "outputs": [],
   "source": [
    "df = pd.read_csv(data_proc)"
   ]
  },
  {
   "cell_type": "code",
   "execution_count": 5,
   "id": "380a93fa-185a-48a4-b2e3-a5de88924b5c",
   "metadata": {
    "tags": []
   },
   "outputs": [
    {
     "data": {
      "text/html": [
       "<div>\n",
       "<style scoped>\n",
       "    .dataframe tbody tr th:only-of-type {\n",
       "        vertical-align: middle;\n",
       "    }\n",
       "\n",
       "    .dataframe tbody tr th {\n",
       "        vertical-align: top;\n",
       "    }\n",
       "\n",
       "    .dataframe thead th {\n",
       "        text-align: right;\n",
       "    }\n",
       "</style>\n",
       "<table border=\"1\" class=\"dataframe\">\n",
       "  <thead>\n",
       "    <tr style=\"text-align: right;\">\n",
       "      <th></th>\n",
       "      <th>Chinese</th>\n",
       "      <th>English</th>\n",
       "    </tr>\n",
       "  </thead>\n",
       "  <tbody>\n",
       "    <tr>\n",
       "      <th>0</th>\n",
       "      <td>开空调的情况下，续航掉的太快了，特别是冬天天气冷的时候，不开空调不行，天气一冻，续航就掉的更快</td>\n",
       "      <td>In the case of turning on the air conditioner, the electric range drops too fast, especially when the weather is cold in winter, if you don't turn on the air conditioner, the weather freezes, the battery life will fall faster.</td>\n",
       "    </tr>\n",
       "    <tr>\n",
       "      <th>1</th>\n",
       "      <td>车机流畅度差，容易卡死机，车机系统，启动载入很慢，换挡杆前的车机，使用任何功能都有概率死机，发生过3-4次</td>\n",
       "      <td>The smoothness of the IHU is poor, easy to jam, the car machine system, the start loading is very slow, the car machine before the gear lever, using any function has a probability of crashing, which has occurred 3-4 times.</td>\n",
       "    </tr>\n",
       "    <tr>\n",
       "      <th>2</th>\n",
       "      <td>整车的悬架系统，在过减速带时，速度在20码以下，但是车身的抖动还是很厉害，舒适性为第一的，美系车相比，差距还是比较大的</td>\n",
       "      <td>The suspension system of the whole car, when crossing the speed bump, the speed is below 20km/h, but the shaking of the body is still very strong, the comfort is the first, compared with the American car, the gap is still relatively large.</td>\n",
       "    </tr>\n",
       "    <tr>\n",
       "      <th>3</th>\n",
       "      <td>大众车的通病，车子的隔音效果不太理想，车速在90码以上，车内的胎噪声就很明显了，必须把音量调大，才能缓解一点（是原厂轮胎，车窗关闭）</td>\n",
       "      <td>The common problem of Volkswagen, the sound insulation of the car is not ideal, the speed is above 90km/h, the tire noise in the car is obvious, the volume must be turned up, in order to alleviate a little (is the original tires, the windows are closed.</td>\n",
       "    </tr>\n",
       "    <tr>\n",
       "      <th>4</th>\n",
       "      <td>车辆外观很不错，但是车标在晚上不能发亮，要是可以发亮的话会更拉风一点</td>\n",
       "      <td>The appearance of the vehicle is very good, but the logo cannot be shiny at night, if it can be bright, it will be more stunning.</td>\n",
       "    </tr>\n",
       "  </tbody>\n",
       "</table>\n",
       "</div>"
      ],
      "text/plain": [
       "                                                              Chinese  \\\n",
       "0                     开空调的情况下，续航掉的太快了，特别是冬天天气冷的时候，不开空调不行，天气一冻，续航就掉的更快   \n",
       "1               车机流畅度差，容易卡死机，车机系统，启动载入很慢，换挡杆前的车机，使用任何功能都有概率死机，发生过3-4次   \n",
       "2         整车的悬架系统，在过减速带时，速度在20码以下，但是车身的抖动还是很厉害，舒适性为第一的，美系车相比，差距还是比较大的   \n",
       "3  大众车的通病，车子的隔音效果不太理想，车速在90码以上，车内的胎噪声就很明显了，必须把音量调大，才能缓解一点（是原厂轮胎，车窗关闭）   \n",
       "4                                  车辆外观很不错，但是车标在晚上不能发亮，要是可以发亮的话会更拉风一点   \n",
       "\n",
       "                                                                                                                                                                                                                                                         English  \n",
       "0                             In the case of turning on the air conditioner, the electric range drops too fast, especially when the weather is cold in winter, if you don't turn on the air conditioner, the weather freezes, the battery life will fall faster.  \n",
       "1                                 The smoothness of the IHU is poor, easy to jam, the car machine system, the start loading is very slow, the car machine before the gear lever, using any function has a probability of crashing, which has occurred 3-4 times.  \n",
       "2                The suspension system of the whole car, when crossing the speed bump, the speed is below 20km/h, but the shaking of the body is still very strong, the comfort is the first, compared with the American car, the gap is still relatively large.  \n",
       "3  The common problem of Volkswagen, the sound insulation of the car is not ideal, the speed is above 90km/h, the tire noise in the car is obvious, the volume must be turned up, in order to alleviate a little (is the original tires, the windows are closed.  \n",
       "4                                                                                                                              The appearance of the vehicle is very good, but the logo cannot be shiny at night, if it can be bright, it will be more stunning.  "
      ]
     },
     "execution_count": 5,
     "metadata": {},
     "output_type": "execute_result"
    }
   ],
   "source": [
    "df.head()"
   ]
  },
  {
   "cell_type": "markdown",
   "id": "b654cf7f-1640-45be-a84d-4cecf37118a7",
   "metadata": {},
   "source": [
    "### Batch Processing"
   ]
  },
  {
   "cell_type": "code",
   "execution_count": 6,
   "id": "bd86fcd1-ab07-4d9e-bc2b-af113cb1b236",
   "metadata": {
    "tags": []
   },
   "outputs": [
    {
     "name": "stdout",
     "output_type": "stream",
     "text": [
      "If the air conditioner is on, the flight resumes too quickly, especially in winter when the weather is cold. If the air conditioner is not on, the flight resumes faster as soon as the weather is cold\n"
     ]
    }
   ],
   "source": [
    "trans = Translate(model_mbart)\n",
    "text = \"开空调的情况下，续航掉的太快了，特别是冬天天气冷的时候，不开空调不行，天气一冻，续航就掉的更快\"\n",
    "print(trans.translator(text))"
   ]
  },
  {
   "cell_type": "markdown",
   "id": "875f5bd5-0a65-4b8b-ba94-559bdde3e0bc",
   "metadata": {},
   "source": [
    "## Fine-tune the Model"
   ]
  },
  {
   "cell_type": "code",
   "execution_count": 7,
   "id": "be0f2f1d-e398-48e7-a3f2-b355b4163fd4",
   "metadata": {
    "tags": []
   },
   "outputs": [
    {
     "data": {
      "application/vnd.jupyter.widget-view+json": {
       "model_id": "4714d2b7866242c9a735c3f259277c4a",
       "version_major": 2,
       "version_minor": 0
      },
      "text/plain": [
       "Map:   0%|          | 0/402 [00:00<?, ? examples/s]"
      ]
     },
     "metadata": {},
     "output_type": "display_data"
    },
    {
     "data": {
      "application/vnd.jupyter.widget-view+json": {
       "model_id": "b2762c90897b4bfa8c4c559f248efc6b",
       "version_major": 2,
       "version_minor": 0
      },
      "text/plain": [
       "Map:   0%|          | 0/23 [00:00<?, ? examples/s]"
      ]
     },
     "metadata": {},
     "output_type": "display_data"
    },
    {
     "data": {
      "application/vnd.jupyter.widget-view+json": {
       "model_id": "2780163629ac408caf846fb7525ac162",
       "version_major": 2,
       "version_minor": 0
      },
      "text/plain": [
       "Map:   0%|          | 0/22 [00:00<?, ? examples/s]"
      ]
     },
     "metadata": {},
     "output_type": "display_data"
    },
    {
     "name": "stderr",
     "output_type": "stream",
     "text": [
      "You're using a MBart50TokenizerFast tokenizer. Please note that with a fast tokenizer, using the `__call__` method is faster than using a method to encode the text followed by a call to the `pad` method to get a padded encoding.\n"
     ]
    },
    {
     "data": {
      "text/html": [
       "\n",
       "    <div>\n",
       "      \n",
       "      <progress value='101' max='101' style='width:300px; height:20px; vertical-align: middle;'></progress>\n",
       "      [101/101 05:19, Epoch 1/1]\n",
       "    </div>\n",
       "    <table border=\"1\" class=\"dataframe\">\n",
       "  <thead>\n",
       " <tr style=\"text-align: left;\">\n",
       "      <th>Epoch</th>\n",
       "      <th>Training Loss</th>\n",
       "      <th>Validation Loss</th>\n",
       "    </tr>\n",
       "  </thead>\n",
       "  <tbody>\n",
       "    <tr>\n",
       "      <td>1</td>\n",
       "      <td>No log</td>\n",
       "      <td>0.755436</td>\n",
       "    </tr>\n",
       "  </tbody>\n",
       "</table><p>"
      ],
      "text/plain": [
       "<IPython.core.display.HTML object>"
      ]
     },
     "metadata": {},
     "output_type": "display_data"
    },
    {
     "data": {
      "text/html": [
       "\n",
       "    <div>\n",
       "      \n",
       "      <progress value='6' max='6' style='width:300px; height:20px; vertical-align: middle;'></progress>\n",
       "      [6/6 00:03]\n",
       "    </div>\n",
       "    "
      ],
      "text/plain": [
       "<IPython.core.display.HTML object>"
      ]
     },
     "metadata": {},
     "output_type": "display_data"
    },
    {
     "name": "stdout",
     "output_type": "stream",
     "text": [
      "{'eval_loss': 0.6907669901847839, 'eval_runtime': 4.0246, 'eval_samples_per_second': 5.715, 'eval_steps_per_second': 1.491, 'epoch': 1.0}\n"
     ]
    }
   ],
   "source": [
    "trans.finetune(df, finetuned_model_path=finetuned_model_path, compute_metrics=False)"
   ]
  },
  {
   "cell_type": "markdown",
   "id": "b008df14-dc52-423d-a7ee-f0d0c90d1f9e",
   "metadata": {},
   "source": [
    "## Test\n",
    "### Single Case"
   ]
  },
  {
   "cell_type": "code",
   "execution_count": 8,
   "id": "85daf29f-7894-4030-8140-a800a4b9bafd",
   "metadata": {
    "tags": []
   },
   "outputs": [
    {
     "name": "stdout",
     "output_type": "stream",
     "text": [
      "In the case of turning on the air conditioner, the electric range drops too fast, especially when the weather is cold in winter, not turning on the air conditioner is not possible, the weather freezes, and the electric range drops faster.\n"
     ]
    }
   ],
   "source": [
    "trans = Translate(finetuned_model_path)\n",
    "\n",
    "text = \"开空调的情况下，续航掉的太快了，特别是冬天天气冷的时候，不开空调不行，天气一冻，续航就掉的更快\"\n",
    "print(trans.translator(text))"
   ]
  },
  {
   "cell_type": "markdown",
   "id": "856f4c31-f235-4221-b88f-cc99f549ca40",
   "metadata": {},
   "source": [
    "> **ORIGINAL MBART:** If the air conditioner is on, the flight resumes too quickly, especially in winter when the weather is cold. If the air conditioner is not on, the flight resumes faster as soon as the weather is cold"
   ]
  },
  {
   "cell_type": "markdown",
   "id": "a6112e4f-ca52-475d-a383-4c412668eb30",
   "metadata": {},
   "source": [
    "### Batch Processing"
   ]
  },
  {
   "cell_type": "code",
   "execution_count": 9,
   "id": "9792c914-6f97-47b8-89ab-2b12f614dd99",
   "metadata": {
    "tags": []
   },
   "outputs": [
    {
     "name": "stderr",
     "output_type": "stream",
     "text": [
      "100%|██████████| 10/10 [00:37<00:00,  3.73s/it]\n"
     ]
    },
    {
     "data": {
      "text/html": [
       "<div>\n",
       "<style scoped>\n",
       "    .dataframe tbody tr th:only-of-type {\n",
       "        vertical-align: middle;\n",
       "    }\n",
       "\n",
       "    .dataframe tbody tr th {\n",
       "        vertical-align: top;\n",
       "    }\n",
       "\n",
       "    .dataframe thead th {\n",
       "        text-align: right;\n",
       "    }\n",
       "</style>\n",
       "<table border=\"1\" class=\"dataframe\">\n",
       "  <thead>\n",
       "    <tr style=\"text-align: right;\">\n",
       "      <th></th>\n",
       "      <th>Chinese</th>\n",
       "      <th>English</th>\n",
       "      <th>Translation</th>\n",
       "    </tr>\n",
       "  </thead>\n",
       "  <tbody>\n",
       "    <tr>\n",
       "      <th>0</th>\n",
       "      <td>开空调的情况下，续航掉的太快了，特别是冬天天气冷的时候，不开空调不行，天气一冻，续航就掉的更快</td>\n",
       "      <td>In the case of turning on the air conditioner, the electric range drops too fast, especially when the weather is cold in winter, if you don't turn on the air conditioner, the weather freezes, the battery life will fall faster.</td>\n",
       "      <td>In the case of turning on the air conditioner, the electric range drops too fast, especially when the weather is cold in winter, not turning on the air conditioner is not possible, the weather freezes, and the electric range drops faster.</td>\n",
       "    </tr>\n",
       "    <tr>\n",
       "      <th>1</th>\n",
       "      <td>车机流畅度差，容易卡死机，车机系统，启动载入很慢，换挡杆前的车机，使用任何功能都有概率死机，发生过3-4次</td>\n",
       "      <td>The smoothness of the IHU is poor, easy to jam, the car machine system, the start loading is very slow, the car machine before the gear lever, using any function has a probability of crashing, which has occurred 3-4 times.</td>\n",
       "      <td>The smoothness of the IHU is poor, it is easy to jam the IHU, the IHU system, the start loading is slow, the IHU before the gear lever, the use of any function has a probability of crashing, which has occurred 3-4 times.</td>\n",
       "    </tr>\n",
       "    <tr>\n",
       "      <th>2</th>\n",
       "      <td>整车的悬架系统，在过减速带时，速度在20码以下，但是车身的抖动还是很厉害，舒适性为第一的，美系车相比，差距还是比较大的</td>\n",
       "      <td>The suspension system of the whole car, when crossing the speed bump, the speed is below 20km/h, but the shaking of the body is still very strong, the comfort is the first, compared with the American car, the gap is still relatively large.</td>\n",
       "      <td>The suspension system of the whole car, when crossing the speed bump, the speed is less than 20km/h, but the body shaking is still very bad, comfort is the first, compared to the American car, the gap is still relatively large.</td>\n",
       "    </tr>\n",
       "    <tr>\n",
       "      <th>3</th>\n",
       "      <td>大众车的通病，车子的隔音效果不太理想，车速在90码以上，车内的胎噪声就很明显了，必须把音量调大，才能缓解一点（是原厂轮胎，车窗关闭）</td>\n",
       "      <td>The common problem of Volkswagen, the sound insulation of the car is not ideal, the speed is above 90km/h, the tire noise in the car is obvious, the volume must be turned up, in order to alleviate a little (is the original tires, the windows are closed.</td>\n",
       "      <td>The common problem of mass-produced cars, the sound insulation effect of the car is not ideal, the speed is above 90km/h, the tire noise in the car is very obvious, it is necessary to turn up the volume, in order to alleviate a little (is the original tire, the window is closed.</td>\n",
       "    </tr>\n",
       "    <tr>\n",
       "      <th>4</th>\n",
       "      <td>车辆外观很不错，但是车标在晚上不能发亮，要是可以发亮的话会更拉风一点</td>\n",
       "      <td>The appearance of the vehicle is very good, but the logo cannot be shiny at night, if it can be bright, it will be more stunning.</td>\n",
       "      <td>The appearance of the vehicle is very good, but the license plate cannot shine at night, if it can shine, it will be more attractive.</td>\n",
       "    </tr>\n",
       "  </tbody>\n",
       "</table>\n",
       "</div>"
      ],
      "text/plain": [
       "                                                              Chinese  \\\n",
       "0                     开空调的情况下，续航掉的太快了，特别是冬天天气冷的时候，不开空调不行，天气一冻，续航就掉的更快   \n",
       "1               车机流畅度差，容易卡死机，车机系统，启动载入很慢，换挡杆前的车机，使用任何功能都有概率死机，发生过3-4次   \n",
       "2         整车的悬架系统，在过减速带时，速度在20码以下，但是车身的抖动还是很厉害，舒适性为第一的，美系车相比，差距还是比较大的   \n",
       "3  大众车的通病，车子的隔音效果不太理想，车速在90码以上，车内的胎噪声就很明显了，必须把音量调大，才能缓解一点（是原厂轮胎，车窗关闭）   \n",
       "4                                  车辆外观很不错，但是车标在晚上不能发亮，要是可以发亮的话会更拉风一点   \n",
       "\n",
       "                                                                                                                                                                                                                                                         English  \\\n",
       "0                             In the case of turning on the air conditioner, the electric range drops too fast, especially when the weather is cold in winter, if you don't turn on the air conditioner, the weather freezes, the battery life will fall faster.   \n",
       "1                                 The smoothness of the IHU is poor, easy to jam, the car machine system, the start loading is very slow, the car machine before the gear lever, using any function has a probability of crashing, which has occurred 3-4 times.   \n",
       "2                The suspension system of the whole car, when crossing the speed bump, the speed is below 20km/h, but the shaking of the body is still very strong, the comfort is the first, compared with the American car, the gap is still relatively large.   \n",
       "3  The common problem of Volkswagen, the sound insulation of the car is not ideal, the speed is above 90km/h, the tire noise in the car is obvious, the volume must be turned up, in order to alleviate a little (is the original tires, the windows are closed.   \n",
       "4                                                                                                                              The appearance of the vehicle is very good, but the logo cannot be shiny at night, if it can be bright, it will be more stunning.   \n",
       "\n",
       "                                                                                                                                                                                                                                                                               Translation  \n",
       "0                                           In the case of turning on the air conditioner, the electric range drops too fast, especially when the weather is cold in winter, not turning on the air conditioner is not possible, the weather freezes, and the electric range drops faster.  \n",
       "1                                                             The smoothness of the IHU is poor, it is easy to jam the IHU, the IHU system, the start loading is slow, the IHU before the gear lever, the use of any function has a probability of crashing, which has occurred 3-4 times.  \n",
       "2                                                      The suspension system of the whole car, when crossing the speed bump, the speed is less than 20km/h, but the body shaking is still very bad, comfort is the first, compared to the American car, the gap is still relatively large.  \n",
       "3  The common problem of mass-produced cars, the sound insulation effect of the car is not ideal, the speed is above 90km/h, the tire noise in the car is very obvious, it is necessary to turn up the volume, in order to alleviate a little (is the original tire, the window is closed.  \n",
       "4                                                                                                                                                    The appearance of the vehicle is very good, but the license plate cannot shine at night, if it can shine, it will be more attractive.  "
      ]
     },
     "execution_count": 9,
     "metadata": {},
     "output_type": "execute_result"
    }
   ],
   "source": [
    "df = trans.translator_batch(df.head(10), col_tgt=\"Translation\")\n",
    "df.head()"
   ]
  },
  {
   "cell_type": "code",
   "execution_count": null,
   "id": "6e68769d-02b9-44c7-88ce-9c528b59565e",
   "metadata": {},
   "outputs": [],
   "source": []
  }
 ],
 "metadata": {
  "kernelspec": {
   "display_name": "conda_pytorch_p310",
   "language": "python",
   "name": "conda_pytorch_p310"
  },
  "language_info": {
   "codemirror_mode": {
    "name": "ipython",
    "version": 3
   },
   "file_extension": ".py",
   "mimetype": "text/x-python",
   "name": "python",
   "nbconvert_exporter": "python",
   "pygments_lexer": "ipython3",
   "version": "3.10.13"
  }
 },
 "nbformat": 4,
 "nbformat_minor": 5
}
