{
 "cells": [
  {
   "cell_type": "code",
   "execution_count": 10,
   "id": "1efe85c1",
   "metadata": {},
   "outputs": [],
   "source": [
    "# pip show einops"
   ]
  },
  {
   "cell_type": "code",
   "execution_count": 1,
   "id": "704340a7",
   "metadata": {},
   "outputs": [],
   "source": [
    "# pip install -r requirements.txt -U -i https://pypi.douban.com/simple"
   ]
  },
  {
   "cell_type": "code",
   "execution_count": 19,
   "id": "2c0f9b23",
   "metadata": {},
   "outputs": [],
   "source": [
    "# !sh ../deploy_s3.sh"
   ]
  },
  {
   "cell_type": "code",
   "execution_count": 32,
   "id": "fd0c141b",
   "metadata": {},
   "outputs": [
    {
     "data": {
      "text/plain": [
       "{'REGION_NAME': 'cn-northwest-1',\n",
       " 'MODEL_NAME': 'falcon-7b-instruct',\n",
       " 'S3_MODEL': 's3://hugging-face/llm/falcon-7b-instruct.tar.gz',\n",
       " 'ENDPOINT_NAME': 'HF-FALCON-7B-INSTRUCT-20230710-141220'}"
      ]
     },
     "execution_count": 32,
     "metadata": {},
     "output_type": "execute_result"
    }
   ],
   "source": [
    "import json\n",
    "\n",
    "with open('../config.json') as f:\n",
    "    config = json.load(f)\n",
    "\n",
    "config"
   ]
  },
  {
   "cell_type": "code",
   "execution_count": 33,
   "id": "55bef53b",
   "metadata": {},
   "outputs": [],
   "source": [
    "import boto3  \n",
    "import sagemaker\n",
    "from sagemaker.huggingface.model import HuggingFaceModel\n",
    "from time import gmtime, strftime\n",
    "\n",
    "s3_model = config['S3_MODEL']\n",
    "\n",
    "try:\n",
    "    role = sagemaker.get_execution_role()\n",
    "except ValueError:\n",
    "    iam = boto3.client('iam')\n",
    "    role = iam.get_role(RoleName='sagemaker_execution_role')['Role']['Arn']"
   ]
  },
  {
   "cell_type": "code",
   "execution_count": 27,
   "id": "62758183",
   "metadata": {},
   "outputs": [],
   "source": [
    "# hub =  {\n",
    "#  'HF_TASK':'text-generation'\n",
    "# }"
   ]
  },
  {
   "cell_type": "code",
   "execution_count": 29,
   "id": "06e90b93",
   "metadata": {},
   "outputs": [],
   "source": [
    "# # send request\n",
    "# predictor.predict({\n",
    "#     \"inputs\": \"My name is Julien and I like to\",\n",
    "# })"
   ]
  },
  {
   "cell_type": "code",
   "execution_count": null,
   "id": "ac8fe759",
   "metadata": {},
   "outputs": [
    {
     "name": "stdout",
     "output_type": "stream",
     "text": [
      "------------"
     ]
    }
   ],
   "source": [
    "huggingface_model = HuggingFaceModel(\n",
    "    model_data=s3_model,\n",
    "    role=role,\n",
    "    transformers_version='4.26',\n",
    "    pytorch_version='1.13',\n",
    "    py_version='py39',\n",
    ")\n",
    "\n",
    "predictor = huggingface_model.deploy(\n",
    "    initial_instance_count=1,\n",
    "    # instance_type='ml.m5.xlarge',\n",
    "    instance_type='ml.g4dn.2xlarge',\n",
    "    endpoint_name=config['MODEL_NAME'].upper() + strftime(\"-%Y%m%d-%H%M%S\", gmtime()),\n",
    ")"
   ]
  },
  {
   "cell_type": "code",
   "execution_count": null,
   "id": "c69af363",
   "metadata": {},
   "outputs": [],
   "source": [
    "# send request\n",
    "predictor.predict({\n",
    "    \"text\": \"你好，你是谁\"\n",
    "})"
   ]
  },
  {
   "cell_type": "code",
   "execution_count": null,
   "id": "81a81935",
   "metadata": {},
   "outputs": [],
   "source": []
  }
 ],
 "metadata": {
  "kernelspec": {
   "display_name": "conda_pytorch_p39",
   "language": "python",
   "name": "conda_pytorch_p39"
  },
  "language_info": {
   "codemirror_mode": {
    "name": "ipython",
    "version": 3
   },
   "file_extension": ".py",
   "mimetype": "text/x-python",
   "name": "python",
   "nbconvert_exporter": "python",
   "pygments_lexer": "ipython3",
   "version": "3.9.13"
  }
 },
 "nbformat": 4,
 "nbformat_minor": 5
}
