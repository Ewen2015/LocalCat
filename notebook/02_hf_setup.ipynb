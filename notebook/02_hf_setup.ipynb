{
 "cells": [
  {
   "cell_type": "code",
   "execution_count": 10,
   "id": "ae892a91",
   "metadata": {},
   "outputs": [],
   "source": [
    "# pip show einops"
   ]
  },
  {
   "cell_type": "code",
   "execution_count": 8,
   "id": "04c3012d",
   "metadata": {},
   "outputs": [
    {
     "name": "stdout",
     "output_type": "stream",
     "text": [
      "Looking in indexes: https://pypi.douban.com/simple, https://pip.repos.neuron.amazonaws.com\n",
      "Requirement already satisfied: einops in /home/ec2-user/anaconda3/envs/pytorch_p39/lib/python3.9/site-packages (0.6.1)\n",
      "Note: you may need to restart the kernel to use updated packages.\n"
     ]
    }
   ],
   "source": [
    "# pip install einops -i https://pypi.douban.com/simple"
   ]
  },
  {
   "cell_type": "code",
   "execution_count": 1,
   "id": "f96ca003",
   "metadata": {},
   "outputs": [],
   "source": [
    "# pip install -r requirements.txt -U -i https://pypi.douban.com/simple"
   ]
  },
  {
   "cell_type": "code",
   "execution_count": 19,
   "id": "60fa757c",
   "metadata": {},
   "outputs": [],
   "source": [
    "# !sh ../deploy_s3.sh"
   ]
  },
  {
   "cell_type": "code",
   "execution_count": 26,
   "id": "0c3328b7",
   "metadata": {},
   "outputs": [],
   "source": [
    "import boto3  \n",
    "import sagemaker\n",
    "from sagemaker.huggingface.model import HuggingFaceModel\n",
    "from time import gmtime, strftime\n",
    "\n",
    "s3_model = \"s3://hugging-face/llm/falcon-7b-model.tar.gz\"\n",
    "\n",
    "try:\n",
    "    role = sagemaker.get_execution_role()\n",
    "except ValueError:\n",
    "    iam = boto3.client('iam')\n",
    "    role = iam.get_role(RoleName='sagemaker_execution_role')['Role']['Arn']"
   ]
  },
  {
   "cell_type": "code",
   "execution_count": 27,
   "id": "ed3d3463",
   "metadata": {},
   "outputs": [],
   "source": [
    "# hub =  {\n",
    "#  'HF_TASK':'text-generation'\n",
    "# }"
   ]
  },
  {
   "cell_type": "code",
   "execution_count": 28,
   "id": "39f1774c",
   "metadata": {},
   "outputs": [],
   "source": [
    "# huggingface_model = HuggingFaceModel(\n",
    "#     model_data=s3_model,\n",
    "#     role=role,\n",
    "#     transformers_version='4.26',\n",
    "#     pytorch_version='1.13',\n",
    "#     py_version='py39',\n",
    "#     env=hub,\n",
    "# )\n",
    "\n",
    "# predictor = huggingface_model.deploy(\n",
    "#   initial_instance_count=1,\n",
    "#   instance_type='ml.g4dn.2xlarge',\n",
    "#   endpoint_name='hf-falcon-7b-text-generation-2',\n",
    "# )"
   ]
  },
  {
   "cell_type": "code",
   "execution_count": 29,
   "id": "e7960287",
   "metadata": {},
   "outputs": [],
   "source": [
    "# # send request\n",
    "# predictor.predict({\n",
    "#     \"inputs\": \"My name is Julien and I like to\",\n",
    "# })"
   ]
  },
  {
   "cell_type": "code",
   "execution_count": null,
   "id": "ba310702",
   "metadata": {},
   "outputs": [
    {
     "name": "stdout",
     "output_type": "stream",
     "text": [
      "-"
     ]
    }
   ],
   "source": [
    "# import boto3  \n",
    "# from sagemaker.huggingface.model import HuggingFaceModel\n",
    "\n",
    "# s3_model = \"s3://hugging-face/llm/falcon-7b-model.tar.gz\"\n",
    "\n",
    "# iam_client = boto3.client('iam')\n",
    "# role = iam_client.get_role(RoleName='HuggingfaceExecuteRole')['Role']['Arn']\n",
    "\n",
    "huggingface_model = HuggingFaceModel(\n",
    "    model_data=s3_model,\n",
    "    role=role,\n",
    "    transformers_version='4.26',\n",
    "    pytorch_version='1.13',\n",
    "    py_version='py39',\n",
    ")\n",
    "\n",
    "predictor = huggingface_model.deploy(\n",
    "    initial_instance_count=1,\n",
    "    # instance_type='ml.m5.xlarge',\n",
    "    instance_type='ml.g4dn.2xlarge',\n",
    "    endpoint_name='HF-FALCON-7B-MODEL' + strftime(\"-%Y%m%d-%H%M%S\", gmtime()),\n",
    ")"
   ]
  },
  {
   "cell_type": "code",
   "execution_count": null,
   "id": "9d690b49",
   "metadata": {},
   "outputs": [],
   "source": [
    "# send request\n",
    "predictor.predict({\n",
    "    \"text\": \"你好，你是谁\"\n",
    "})"
   ]
  },
  {
   "cell_type": "code",
   "execution_count": null,
   "id": "63f27b9d",
   "metadata": {},
   "outputs": [],
   "source": []
  }
 ],
 "metadata": {
  "kernelspec": {
   "display_name": "conda_pytorch_p39",
   "language": "python",
   "name": "conda_pytorch_p39"
  },
  "language_info": {
   "codemirror_mode": {
    "name": "ipython",
    "version": 3
   },
   "file_extension": ".py",
   "mimetype": "text/x-python",
   "name": "python",
   "nbconvert_exporter": "python",
   "pygments_lexer": "ipython3",
   "version": "3.9.13"
  }
 },
 "nbformat": 4,
 "nbformat_minor": 5
}
