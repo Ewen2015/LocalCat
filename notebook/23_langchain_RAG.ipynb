{
 "cells": [
  {
   "cell_type": "code",
   "execution_count": 1,
   "id": "5dffeb4c-7f26-49b2-a1df-1794d26c3013",
   "metadata": {
    "tags": []
   },
   "outputs": [],
   "source": [
    "# pip install langchain -i https://pypi.douban.com/simple"
   ]
  },
  {
   "cell_type": "code",
   "execution_count": 2,
   "id": "6a7b5bae-9b23-4464-ae8d-45b04478c099",
   "metadata": {
    "tags": []
   },
   "outputs": [],
   "source": [
    "# pip install gpt4all -i https://pypi.douban.com/simple"
   ]
  },
  {
   "cell_type": "code",
   "execution_count": 3,
   "id": "89485ccf-1978-4e09-bbcc-a69bd1bec2fd",
   "metadata": {
    "tags": []
   },
   "outputs": [],
   "source": [
    "# pip install pip install openai==0.28 -i https://pypi.douban.com/simple"
   ]
  },
  {
   "cell_type": "code",
   "execution_count": 9,
   "id": "0fae22d7-425a-4a8a-9990-2ccffebf2b39",
   "metadata": {
    "tags": []
   },
   "outputs": [],
   "source": [
    "# pip install sentence-transformers -i https://pypi.douban.com/simple"
   ]
  },
  {
   "cell_type": "markdown",
   "id": "6f738961-6a22-4966-b9fa-7f202df05a35",
   "metadata": {},
   "source": [
    "# RAG\n",
    "\n",
    "## Internet\n",
    "\n",
    "https://zhuanlan.zhihu.com/p/643233392\n",
    "\n",
    "### 1. Get the Doc"
   ]
  },
  {
   "cell_type": "code",
   "execution_count": 4,
   "id": "26066e1f-d745-4d00-9bb5-0dcca9584f67",
   "metadata": {
    "tags": []
   },
   "outputs": [
    {
     "name": "stdout",
     "output_type": "stream",
     "text": [
      "We’ve created GPT-4, the latest milestone in OpenAI’s effort in scaling up deep learning. GPT-4 is a large multimodal model (accepting image and text inputs, emitting text outputs) that, while less capable than humans in many real-world scenarios, exhibits human-level performance on various professional and academic benchmarks. For example, it passes a simulated bar exam with a score around the top 10% of test takers; in contrast, GPT-3.5’s score was around the bottom 10%. We’ve spent 6 months iteratively aligning GPT-4 using lessons from our adversarial testing program as well as ChatGPT, resulting in our best-ever results (though far from perfect) on factuality, steerability, and refusing to go outside of guardrails.Over the past two years, we rebuilt our entire deep learning stack and, together with Azure, co-designed a supercomputer from the ground up for our workload. A year ago, we trained GPT-3.5 as a first “test run” of the system. We found and fixed some bugs and improved our theoretical foundations. As a result, our GPT-4 training run was (for us at least!) unprecedentedly stable, becoming our first large model whose training performance we were able to accurately predict ahead of time. As we continue to focus on reliable scaling, we aim to hone our methodology to help us predict and prepare for future capabilities increasingly far in advance—something we view as critical for safety.We are releasing GPT-4’s text input capability via ChatGPT and the API (with a waitlist). To prepare the image input capability for wider availability, we’re collaborating closely with a single partner to start. We’re also open-sourcing OpenAI Evals, our framework for automated evaluation of AI model performance, to allow anyone to report shortcomings in our models to help guide further improvements.\n"
     ]
    }
   ],
   "source": [
    "import requests\n",
    "from bs4 import BeautifulSoup\n",
    "\n",
    "# url = \"https://en.wikipedia.org/wiki/GPT-4\"\n",
    "url = \"https://openai.com/research/gpt-4\"\n",
    "response = requests.get(url)\n",
    "\n",
    "soup = BeautifulSoup(response.content, 'html.parser')\n",
    "\n",
    "# find the content div\n",
    "content_div = soup.find('div', {'class': 'ui-block--text'})\n",
    "\n",
    "# remove unwanted elements from div\n",
    "unwanted_tags = ['sup', 'span', 'table', 'ul', 'ol']\n",
    "for tag in unwanted_tags:\n",
    "    for match in content_div.findAll(tag):\n",
    "        match.extract()\n",
    "\n",
    "print(content_div.get_text())"
   ]
  },
  {
   "cell_type": "markdown",
   "id": "c77af6f2-78d2-4ebc-8fcd-74d708ab77ad",
   "metadata": {},
   "source": [
    "### 2. Split the Doc"
   ]
  },
  {
   "cell_type": "code",
   "execution_count": 5,
   "id": "a32e2fc9-2305-4591-bb11-512a5102aef5",
   "metadata": {
    "tags": []
   },
   "outputs": [
    {
     "name": "stdout",
     "output_type": "stream",
     "text": [
      "page_content='We’ve created GPT-4, the latest milestone in OpenAI’s effort in scaling up deep learning. GPT-4 is a'\n",
      "page_content='GPT-4 is a large multimodal model (accepting image and text inputs, emitting text outputs) that,'\n"
     ]
    }
   ],
   "source": [
    "from langchain.text_splitter import RecursiveCharacterTextSplitter\n",
    "\n",
    "article_text = content_div.get_text()\n",
    "\n",
    "text_splitter = RecursiveCharacterTextSplitter(\n",
    "    # Set a really small chunk size, just to show.\n",
    "    chunk_size = 100,\n",
    "    chunk_overlap  = 20,\n",
    "    length_function = len,\n",
    ")\n",
    "\n",
    "texts = text_splitter.create_documents([article_text])\n",
    "print(texts[0])\n",
    "print(texts[1])"
   ]
  },
  {
   "cell_type": "markdown",
   "id": "293bfa0e-1bc2-41f5-81d4-663fdca29d85",
   "metadata": {},
   "source": [
    "### 3. Text Chunks to Embeddings"
   ]
  },
  {
   "cell_type": "code",
   "execution_count": null,
   "id": "84b3b0c6-bb1a-4907-b0e5-6c9544472402",
   "metadata": {
    "tags": []
   },
   "outputs": [],
   "source": [
    "from langchain.embeddings import HuggingFaceEmbeddings\n",
    "\n",
    "embedding = HuggingFaceEmbeddings(model_name='shibing624/text2vec-base-chinese')\n",
    "\n",
    "# vector_store = FAISS.load_local(vs_path, self.embeddings)"
   ]
  },
  {
   "cell_type": "code",
   "execution_count": null,
   "id": "f46ff758-b7ca-4fa5-b952-c292376de305",
   "metadata": {},
   "outputs": [],
   "source": []
  }
 ],
 "metadata": {
  "kernelspec": {
   "display_name": "conda_pytorch_p310",
   "language": "python",
   "name": "conda_pytorch_p310"
  },
  "language_info": {
   "codemirror_mode": {
    "name": "ipython",
    "version": 3
   },
   "file_extension": ".py",
   "mimetype": "text/x-python",
   "name": "python",
   "nbconvert_exporter": "python",
   "pygments_lexer": "ipython3",
   "version": "3.10.13"
  }
 },
 "nbformat": 4,
 "nbformat_minor": 5
}
