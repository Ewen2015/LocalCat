{
 "cells": [
  {
   "cell_type": "code",
   "execution_count": 3,
   "id": "93f65213-7866-49be-b8a9-51edc3313fae",
   "metadata": {
    "tags": []
   },
   "outputs": [],
   "source": [
    "# pip install localcat -U -i https://pypi.douban.com/simple"
   ]
  },
  {
   "cell_type": "code",
   "execution_count": 5,
   "id": "3e10fa9f-3ef8-4b1d-bb07-a46b3cfa7d34",
   "metadata": {},
   "outputs": [],
   "source": [
    "# import localcat"
   ]
  },
  {
   "cell_type": "code",
   "execution_count": null,
   "id": "ee26c1fa-6ac5-4a84-b199-0afb5338e610",
   "metadata": {},
   "outputs": [],
   "source": []
  }
 ],
 "metadata": {
  "kernelspec": {
   "display_name": "conda_pytorch_p310",
   "language": "python",
   "name": "conda_pytorch_p310"
  },
  "language_info": {
   "codemirror_mode": {
    "name": "ipython",
    "version": 3
   },
   "file_extension": ".py",
   "mimetype": "text/x-python",
   "name": "python",
   "nbconvert_exporter": "python",
   "pygments_lexer": "ipython3",
   "version": "3.10.13"
  }
 },
 "nbformat": 4,
 "nbformat_minor": 5
}
