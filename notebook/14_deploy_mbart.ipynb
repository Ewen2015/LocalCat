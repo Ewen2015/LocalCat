{
 "cells": [
  {
   "cell_type": "code",
   "execution_count": 1,
   "id": "bead0d9d",
   "metadata": {
    "tags": []
   },
   "outputs": [],
   "source": [
    "# pip install -r requirements.txt -i https://pypi.douban.com/simple"
   ]
  },
  {
   "cell_type": "code",
   "execution_count": 2,
   "id": "7fe99ade-10bb-4e0a-a6a8-bc8fd1fec77d",
   "metadata": {
    "tags": []
   },
   "outputs": [],
   "source": [
    "# !PROTOCOL_BUFFERS_PYTHON_IMPLEMENTATION=\"python\""
   ]
  },
  {
   "cell_type": "code",
   "execution_count": 1,
   "id": "ead30966-cb5e-48a0-ae2a-2bba6acac58f",
   "metadata": {
    "tags": []
   },
   "outputs": [],
   "source": [
    "import warnings\n",
    "warnings.filterwarnings(\"ignore\")"
   ]
  },
  {
   "cell_type": "markdown",
   "id": "2d4854d8-7736-44e2-9271-162f55fd4105",
   "metadata": {},
   "source": [
    "## Load the Model\n",
    "### Locally"
   ]
  },
  {
   "cell_type": "code",
   "execution_count": 2,
   "id": "0f365ec1-0cc6-4e6c-a7ea-8dcaa1982409",
   "metadata": {
    "tags": []
   },
   "outputs": [],
   "source": [
    "from Translate import Translate\n",
    "\n",
    "model_path = \"../models/mbart-finetuned-cn-to-en-auto\""
   ]
  },
  {
   "cell_type": "code",
   "execution_count": 3,
   "id": "f84df35e-550f-4185-b44b-815a02411cac",
   "metadata": {},
   "outputs": [
    {
     "name": "stdout",
     "output_type": "stream",
     "text": [
      "In the case of turning on the air conditioner, the electric range drops too fast, especially when the weather is cold in winter, not turning on the air conditioner is not possible, the weather freezes, and the electric range drops faster.\n"
     ]
    }
   ],
   "source": [
    "trans = Translate(model_path)\n",
    "text = \"开空调的情况下，续航掉的太快了，特别是冬天天气冷的时候，不开空调不行，天气一冻，续航就掉的更快\"\n",
    "print(trans.translator(text))"
   ]
  },
  {
   "cell_type": "markdown",
   "id": "5126f2eb-a2e8-4d04-8b13-562af0a96c02",
   "metadata": {},
   "source": [
    "### Fine-tuning"
   ]
  },
  {
   "cell_type": "code",
   "execution_count": 7,
   "id": "3ba48ee0-6256-4994-93a2-0db70b912eaa",
   "metadata": {
    "tags": []
   },
   "outputs": [],
   "source": [
    "import pandas as pd\n",
    "\n",
    "model_name = f\"mbart-finetuned-cn-to-en-auto-sample\"\n",
    "model_path = f\"../models/{model_name}\"\n",
    "\n",
    "finetuned_model_path = model_path"
   ]
  },
  {
   "cell_type": "code",
   "execution_count": 8,
   "id": "0219c0fe-6e1a-484b-b92c-2aa1c612a46f",
   "metadata": {
    "tags": []
   },
   "outputs": [],
   "source": [
    "data_proc = \"../data/trans/PROC_2023.csv\"\n",
    "df = pd.read_csv(data_proc)\n",
    "df = df.head(20)"
   ]
  },
  {
   "cell_type": "code",
   "execution_count": 9,
   "id": "374ca12b-256c-4d45-9edb-d11c51bd0c53",
   "metadata": {
    "tags": []
   },
   "outputs": [
    {
     "data": {
      "application/vnd.jupyter.widget-view+json": {
       "model_id": "d1a73b6b9b354344853dd87948237769",
       "version_major": 2,
       "version_minor": 0
      },
      "text/plain": [
       "Map:   0%|          | 0/18 [00:00<?, ? examples/s]"
      ]
     },
     "metadata": {},
     "output_type": "display_data"
    },
    {
     "data": {
      "application/vnd.jupyter.widget-view+json": {
       "model_id": "053fc2ba767242b383df1112caaccf2a",
       "version_major": 2,
       "version_minor": 0
      },
      "text/plain": [
       "Map:   0%|          | 0/1 [00:00<?, ? examples/s]"
      ]
     },
     "metadata": {},
     "output_type": "display_data"
    },
    {
     "data": {
      "application/vnd.jupyter.widget-view+json": {
       "model_id": "62f3e709c5004743b61de0d6c6032783",
       "version_major": 2,
       "version_minor": 0
      },
      "text/plain": [
       "Map:   0%|          | 0/1 [00:00<?, ? examples/s]"
      ]
     },
     "metadata": {},
     "output_type": "display_data"
    },
    {
     "name": "stderr",
     "output_type": "stream",
     "text": [
      "You're using a MBart50TokenizerFast tokenizer. Please note that with a fast tokenizer, using the `__call__` method is faster than using a method to encode the text followed by a call to the `pad` method to get a padded encoding.\n"
     ]
    },
    {
     "data": {
      "text/html": [
       "\n",
       "    <div>\n",
       "      \n",
       "      <progress value='5' max='5' style='width:300px; height:20px; vertical-align: middle;'></progress>\n",
       "      [5/5 00:12, Epoch 1/1]\n",
       "    </div>\n",
       "    <table border=\"1\" class=\"dataframe\">\n",
       "  <thead>\n",
       " <tr style=\"text-align: left;\">\n",
       "      <th>Epoch</th>\n",
       "      <th>Training Loss</th>\n",
       "      <th>Validation Loss</th>\n",
       "    </tr>\n",
       "  </thead>\n",
       "  <tbody>\n",
       "    <tr>\n",
       "      <td>1</td>\n",
       "      <td>No log</td>\n",
       "      <td>0.734511</td>\n",
       "    </tr>\n",
       "  </tbody>\n",
       "</table><p>"
      ],
      "text/plain": [
       "<IPython.core.display.HTML object>"
      ]
     },
     "metadata": {},
     "output_type": "display_data"
    },
    {
     "data": {
      "text/html": [
       "\n",
       "    <div>\n",
       "      \n",
       "      <progress value='1' max='1' style='width:300px; height:20px; vertical-align: middle;'></progress>\n",
       "      [1/1 : < :]\n",
       "    </div>\n",
       "    "
      ],
      "text/plain": [
       "<IPython.core.display.HTML object>"
      ]
     },
     "metadata": {},
     "output_type": "display_data"
    },
    {
     "name": "stdout",
     "output_type": "stream",
     "text": [
      "{'eval_loss': 0.6135677099227905, 'eval_runtime': 0.232, 'eval_samples_per_second': 4.31, 'eval_steps_per_second': 4.31, 'epoch': 1.0}\n"
     ]
    }
   ],
   "source": [
    "trans.finetune(df, finetuned_model_path=finetuned_model_path, compute_metrics=False)"
   ]
  },
  {
   "cell_type": "markdown",
   "id": "f5f24260-b6a6-45c7-9517-3ee21eb21ae3",
   "metadata": {},
   "source": [
    "## Push to S3\n",
    "```bash\n",
    "#!/bin/bash\n",
    "\n",
    "cd mbart-finetuned-cn-to-en-auto\n",
    "tar zcvf mbart.tar.gz *\n",
    "\n",
    "aws s3 cp mbart.tar.gz \\\n",
    "  s3://hugging-face/llm/mbart.tar.gz\n",
    "  \n",
    "rm mbart.tar.gz\n",
    "cd ../\n",
    "```"
   ]
  },
  {
   "cell_type": "code",
   "execution_count": 10,
   "id": "75f2d538-b118-4073-bdfa-2179091e5768",
   "metadata": {
    "tags": []
   },
   "outputs": [],
   "source": [
    "import os"
   ]
  },
  {
   "cell_type": "code",
   "execution_count": 17,
   "id": "1fc21f06-7fbe-4ea1-99cd-9dc67c9859b7",
   "metadata": {
    "tags": []
   },
   "outputs": [
    {
     "name": "stdout",
     "output_type": "stream",
     "text": [
      "/home/ec2-user/SageMaker/LocalCat/notebook\n"
     ]
    }
   ],
   "source": [
    "current_dir = os.getcwd()\n",
    "print(current_dir)\n",
    "\n",
    "os.chdir(finetuned_model_path)\n",
    "print(os.getcwd())\n",
    "\n",
    "os.chdir(current_dir)\n",
    "print(os.getcwd())"
   ]
  },
  {
   "cell_type": "code",
   "execution_count": 14,
   "id": "8f539ec7-99c3-4137-aa61-e9558e04b344",
   "metadata": {
    "tags": []
   },
   "outputs": [
    {
     "name": "stdout",
     "output_type": "stream",
     "text": [
      "mbart-finetuned-cn-to-en-auto-sample\n"
     ]
    }
   ],
   "source": [
    "print(model_name)"
   ]
  },
  {
   "cell_type": "code",
   "execution_count": 19,
   "id": "8dfcfa5d-0a87-40d4-8fdc-9d25b04b67d6",
   "metadata": {
    "tags": []
   },
   "outputs": [
    {
     "name": "stdout",
     "output_type": "stream",
     "text": [
      "config.json\n",
      "generation_config.json\n",
      "mbart-finetuned-cn-to-en-auto-sample.tar.gz\n",
      "pytorch_model.bin\n",
      "sentencepiece.bpe.model\n",
      "special_tokens_map.json\n",
      "tokenizer_config.json\n",
      "tokenizer.json\n",
      "training_args.bin\n",
      "upload: ./mbart-finetuned-cn-to-en-auto-sample.tar.gz to s3://hugging-face/llm/mbart-finetuned-cn-to-en-auto-sample.tar.gz\n"
     ]
    },
    {
     "data": {
      "text/plain": [
       "0"
      ]
     },
     "execution_count": 19,
     "metadata": {},
     "output_type": "execute_result"
    }
   ],
   "source": [
    "import subprocess\n",
    "\n",
    "current_dir = os.getcwd()\n",
    "\n",
    "file_tar = f\"{model_name}.tar.gz\"\n",
    "bucket = \"hugging-face\"\n",
    "key = f\"llm/{file_tar}\"\n",
    "\n",
    "# Define the bash command\n",
    "bash_command = f\"\"\"\n",
    "cd {finetuned_model_path}\n",
    "tar zcvf {file_tar} *\n",
    "aws s3 cp {file_tar} \\\n",
    "  s3://{bucket}/{key}\n",
    "rm {file_tar}\n",
    "cd {current_dir}\n",
    "\"\"\"\n",
    "\n",
    "# Run the bash command\n",
    "process = subprocess.Popen(bash_command, shell=True)\n",
    "process.wait()"
   ]
  },
  {
   "cell_type": "markdown",
   "id": "458c4668-2ae2-4334-bbb1-c002b907a589",
   "metadata": {},
   "source": [
    "## Deploy it\n",
    "### From S3"
   ]
  },
  {
   "cell_type": "code",
   "execution_count": 9,
   "id": "110483e2",
   "metadata": {
    "tags": []
   },
   "outputs": [
    {
     "name": "stdout",
     "output_type": "stream",
     "text": [
      "sagemaker.config INFO - Not applying SDK defaults from location: /etc/xdg/sagemaker/config.yaml\n",
      "sagemaker.config INFO - Not applying SDK defaults from location: /home/ec2-user/.config/sagemaker/config.yaml\n"
     ]
    }
   ],
   "source": [
    "import boto3  \n",
    "from sagemaker.huggingface.model import HuggingFaceModel\n",
    "import sagemaker\n",
    "from time import gmtime, strftime\n",
    "\n",
    "from sagemaker.huggingface.model import HuggingFacePredictor\n",
    "\n",
    "try:\n",
    "    role = sagemaker.get_execution_role()\n",
    "except ValueError:\n",
    "    iam = boto3.client('iam')\n",
    "    role = iam.get_role(RoleName='sagemaker_execution_role')['Role']['Arn']\n",
    "    \n",
    "config = dict()\n",
    "config[\"S3_MODEL\"] = \"s3://hugging-face/llm/mbart.tar.gz\"\n",
    "config['MODEL_NAME'] = \"mbart\""
   ]
  },
  {
   "cell_type": "code",
   "execution_count": 10,
   "id": "8a4e22c0",
   "metadata": {
    "tags": []
   },
   "outputs": [],
   "source": [
    "huggingface_model = HuggingFaceModel(\n",
    "    model_data=config[\"S3_MODEL\"],\n",
    "    role=role,\n",
    "    transformers_version='4.37.0',\n",
    "    pytorch_version='2.1.0',\n",
    "    py_version='py310',\n",
    ")"
   ]
  },
  {
   "cell_type": "code",
   "execution_count": null,
   "id": "13e83455-19a1-4b0f-b3c8-c128e2fdef6b",
   "metadata": {
    "tags": []
   },
   "outputs": [
    {
     "name": "stdout",
     "output_type": "stream",
     "text": [
      "---------!"
     ]
    }
   ],
   "source": [
    "endpoint_name = config['MODEL_NAME'].upper() + strftime(\"-%Y%m%d-%H%M%S\", gmtime())\n",
    "\n",
    "predictor = huggingface_model.deploy(\n",
    "    initial_instance_count=1,\n",
    "    instance_type='ml.g4dn.4xlarge',\n",
    "    endpoint_name=endpoint_name,\n",
    ")"
   ]
  },
  {
   "cell_type": "markdown",
   "id": "bcf4883c-736b-4670-a63f-145d1ac57af8",
   "metadata": {},
   "source": [
    "## Envoke it"
   ]
  },
  {
   "cell_type": "code",
   "execution_count": 31,
   "id": "9aa229ce-9c6b-45df-8872-00df1508d95b",
   "metadata": {
    "tags": []
   },
   "outputs": [
    {
     "name": "stdout",
     "output_type": "stream",
     "text": [
      "Night viewing\n"
     ]
    }
   ],
   "source": [
    "import json\n",
    "\n",
    "predictor = HuggingFacePredictor(\n",
    "    endpoint_name=endpoint_name\n",
    ")\n",
    "endpoint_name = predictor.endpoint_name\n",
    "runtime_client = boto3.client('sagemaker-runtime')\n",
    "input_data = {\"inputs\": \"夜观天象\"}\n",
    "\n",
    "response = runtime_client.invoke_endpoint(\n",
    "            EndpointName=endpoint_name,\n",
    "            ContentType='application/json',\n",
    "            Body=json.dumps(input_data)\n",
    "        )\n",
    "result = json.loads(response['Body'].read().decode('utf-8'))[0]['generated_text']\n",
    "print(result)"
   ]
  },
  {
   "cell_type": "code",
   "execution_count": 45,
   "id": "37dbd2c4-e44a-4056-8dea-52eb14f2133c",
   "metadata": {
    "tags": []
   },
   "outputs": [],
   "source": [
    "import json\n",
    "import boto3 \n",
    "from sagemaker.huggingface.model import HuggingFacePredictor\n",
    "\n",
    "import pandas as pd\n",
    "from tqdm import tqdm\n",
    "\n",
    "pd.set_option('display.max_colwidth', None)"
   ]
  },
  {
   "cell_type": "code",
   "execution_count": 53,
   "id": "4e71e7f8-5ca3-4014-8814-8ac153c36cd2",
   "metadata": {
    "tags": []
   },
   "outputs": [],
   "source": [
    "def translator(text, endpoint_name):\n",
    "    predictor = HuggingFacePredictor(\n",
    "        endpoint_name=endpoint_name\n",
    "    )\n",
    "    runtime_client = boto3.client('sagemaker-runtime')\n",
    "    input_data = {\"inputs\": text}\n",
    "\n",
    "    response = runtime_client.invoke_endpoint(\n",
    "                EndpointName=endpoint_name,\n",
    "                ContentType='application/json',\n",
    "                Body=json.dumps(input_data)\n",
    "            )\n",
    "    result = json.loads(response['Body'].read().decode('utf-8'))[0]['generated_text']\n",
    "    return result"
   ]
  },
  {
   "cell_type": "code",
   "execution_count": 33,
   "id": "b36209a5-6361-4f0e-9f5c-301640f1d90a",
   "metadata": {
    "tags": []
   },
   "outputs": [
    {
     "name": "stdout",
     "output_type": "stream",
     "text": [
      "In the case of turning on the air conditioner, the electric range drops too fast, especially when the weather is cold in winter, not turning on the air conditioner is not possible, the weather freezes, and the electric range drops faster.\n"
     ]
    }
   ],
   "source": [
    "text = \"开空调的情况下，续航掉的太快了，特别是冬天天气冷的时候，不开空调不行，天气一冻，续航就掉的更快\"\n",
    "result = translator(text, endpoint_name)\n",
    "print(result)"
   ]
  },
  {
   "cell_type": "code",
   "execution_count": 37,
   "id": "ac0fc6a0-635b-488b-97b7-d462c4cd328c",
   "metadata": {
    "tags": []
   },
   "outputs": [],
   "source": [
    "def translator_batch(df, endpoint_name, col_src='Chinese', col_tgt='English'):\n",
    "    tqdm.pandas()\n",
    "    df[col_tgt] = df[col_src].progress_apply(lambda x: translator(x, endpoint_name))\n",
    "    return df"
   ]
  },
  {
   "cell_type": "code",
   "execution_count": 49,
   "id": "2dcfd832-f658-45d6-9bfe-c1a75f9adcab",
   "metadata": {
    "tags": []
   },
   "outputs": [],
   "source": [
    "data_proc = \"../data/trans/PROC_2023.csv\"\n",
    "df = pd.read_csv(data_proc)\n",
    "df = df.head(10)"
   ]
  },
  {
   "cell_type": "code",
   "execution_count": 50,
   "id": "97d2995d-ab03-4f0b-8a8d-1146a8d73b91",
   "metadata": {
    "tags": []
   },
   "outputs": [
    {
     "name": "stderr",
     "output_type": "stream",
     "text": [
      "100%|██████████| 10/10 [00:12<00:00,  1.20s/it]\n"
     ]
    }
   ],
   "source": [
    "df = translator_batch(df, endpoint_name, col_tgt=\"Translation\")"
   ]
  },
  {
   "cell_type": "code",
   "execution_count": 52,
   "id": "1acb7ba2-278c-4bcf-8d43-c2df872d81b1",
   "metadata": {
    "tags": []
   },
   "outputs": [
    {
     "data": {
      "text/html": [
       "<div>\n",
       "<style scoped>\n",
       "    .dataframe tbody tr th:only-of-type {\n",
       "        vertical-align: middle;\n",
       "    }\n",
       "\n",
       "    .dataframe tbody tr th {\n",
       "        vertical-align: top;\n",
       "    }\n",
       "\n",
       "    .dataframe thead th {\n",
       "        text-align: right;\n",
       "    }\n",
       "</style>\n",
       "<table border=\"1\" class=\"dataframe\">\n",
       "  <thead>\n",
       "    <tr style=\"text-align: right;\">\n",
       "      <th></th>\n",
       "      <th>Chinese</th>\n",
       "      <th>English</th>\n",
       "      <th>Translation</th>\n",
       "    </tr>\n",
       "  </thead>\n",
       "  <tbody>\n",
       "    <tr>\n",
       "      <th>0</th>\n",
       "      <td>开空调的情况下，续航掉的太快了，特别是冬天天气冷的时候，不开空调不行，天气一冻，续航就掉的更快</td>\n",
       "      <td>In the case of turning on the air conditioner, the electric range drops too fast, especially when the weather is cold in winter, if you don't turn on the air conditioner, the weather freezes, the battery life will fall faster.</td>\n",
       "      <td>In the case of turning on the air conditioner, the electric range drops too fast, especially when the weather is cold in winter, not turning on the air conditioner is not possible, the weather freezes, and the electric range drops faster.</td>\n",
       "    </tr>\n",
       "    <tr>\n",
       "      <th>1</th>\n",
       "      <td>车机流畅度差，容易卡死机，车机系统，启动载入很慢，换挡杆前的车机，使用任何功能都有概率死机，发生过3-4次</td>\n",
       "      <td>The smoothness of the IHU is poor, easy to jam, the car machine system, the start loading is very slow, the car machine before the gear lever, using any function has a probability of crashing, which has occurred 3-4 times.</td>\n",
       "      <td>The smoothness of the IHU is poor, it is easy to jam, the IHU system, the start loading is slow, the IHU in front of the gear lever, the use of any function has a probability of crashing, which has occurred 3-4 times.</td>\n",
       "    </tr>\n",
       "    <tr>\n",
       "      <th>2</th>\n",
       "      <td>整车的悬架系统，在过减速带时，速度在20码以下，但是车身的抖动还是很厉害，舒适性为第一的，美系车相比，差距还是比较大的</td>\n",
       "      <td>The suspension system of the whole car, when crossing the speed bump, the speed is below 20km/h, but the shaking of the body is still very strong, the comfort is the first, compared with the American car, the gap is still relatively large.</td>\n",
       "      <td>The suspension system of the whole car, when crossing the speed bump, the speed is less than 20km/h, but the body shaking is still very bad, comfort is the first, compared to the American car, the gap is still relatively large.</td>\n",
       "    </tr>\n",
       "    <tr>\n",
       "      <th>3</th>\n",
       "      <td>大众车的通病，车子的隔音效果不太理想，车速在90码以上，车内的胎噪声就很明显了，必须把音量调大，才能缓解一点（是原厂轮胎，车窗关闭）</td>\n",
       "      <td>The common problem of Volkswagen, the sound insulation of the car is not ideal, the speed is above 90km/h, the tire noise in the car is obvious, the volume must be turned up, in order to alleviate a little (is the original tires, the windows are closed.</td>\n",
       "      <td>The common problem of mass-produced cars, the sound insulation effect of the car is not ideal, the speed is above 90km/h, the tire noise in the car is obvious, it is necessary to turn up the volume, in order to alleviate a little (is the original tire, the window is closed.</td>\n",
       "    </tr>\n",
       "    <tr>\n",
       "      <th>4</th>\n",
       "      <td>车辆外观很不错，但是车标在晚上不能发亮，要是可以发亮的话会更拉风一点</td>\n",
       "      <td>The appearance of the vehicle is very good, but the logo cannot be shiny at night, if it can be bright, it will be more stunning.</td>\n",
       "      <td>The appearance of the vehicle is very good, but the license plate cannot shine at night, if it can shine, it will be a little more dazzling.</td>\n",
       "    </tr>\n",
       "    <tr>\n",
       "      <th>5</th>\n",
       "      <td>对于一款中型车来说，后排的空间真的太小了，别说和迈腾比就是和雅阁比也小了点，特别是腿部空间明显要小一点，对于高个子的来说没有那么友好</td>\n",
       "      <td>For a mid-size car, the space in the rear is really too small, not to mention that compared with the Magotan an is also a little smaller than the Accord, especially the legroom is obviously a little smaller, which is not so friendly for tall people.</td>\n",
       "      <td>For a medium-sized car, the space in the rear is really too small, not to mention that the ratio of the sedan to the luxury sedan is also a little smaller, especially the legroom is obviously a little smaller, and is not so friendly to tall people.</td>\n",
       "    </tr>\n",
       "    <tr>\n",
       "      <th>6</th>\n",
       "      <td>胎噪声音大（行驶在坑洼路面上，车速在50码左右，车窗全关闭情况下听到）（是原厂轮胎）</td>\n",
       "      <td>Loud tire noise (heard when driving on potholes, at a speed of about 50km/h, with all windows closed (factory tires.</td>\n",
       "      <td>The tire noise is loud (driving on a dirt road, the speed is about 50km/h, heard when the windows are all closed (it is the original tires.)</td>\n",
       "    </tr>\n",
       "    <tr>\n",
       "      <th>7</th>\n",
       "      <td>在行驶中3月份，突然加油，松脚刹，车子不动，打双闪，重启，关停再开，恢复正常；偶然一次10-20时速，城市道路面，黄埔大道，很多车在马路上很危险；</td>\n",
       "      <td>In March, when driving in March, suddenly speed up, release the foot brake, the car does not move, double flash, restart, shut down and then open, return to normal; Occasionally a speed of 10-20 mph, city road surface, wham poa Avenue, many carson the road is dangerous; .</td>\n",
       "      <td>While driving in March, suddenly refueling, loose foot brakes, the car is not moving, double flashing, restart, stop and start again, and return to normal; Occasionally at 10-20 o'clock, urban road surface, Huangpu Avenue, many cars on the road are very dangerous;</td>\n",
       "    </tr>\n",
       "    <tr>\n",
       "      <th>8</th>\n",
       "      <td>车机反应速度慢</td>\n",
       "      <td>The reaction speed of the IHU is slow.</td>\n",
       "      <td>The reaction speed of the IHU is slow.</td>\n",
       "    </tr>\n",
       "    <tr>\n",
       "      <th>9</th>\n",
       "      <td>没有开发出来，开发太慢了，车机一直没有更新的，中控大屏，一直存在，车的硬件本身支持的，但软件未做好，要等它更新，经常；</td>\n",
       "      <td>Not developed, the development is too slow, the IHU has not been updated, the central control screen, has always existed, the hardware of the car itself supports, but the software is not done, to wait for it to update, often; .</td>\n",
       "      <td>Not developed, the development is too slow, the IHU has not been updated, the central control screen, has always existed, the hardware of the car itself supports, but the software is not done, to wait for it to update, often;</td>\n",
       "    </tr>\n",
       "  </tbody>\n",
       "</table>\n",
       "</div>"
      ],
      "text/plain": [
       "                                                                     Chinese  \\\n",
       "0                            开空调的情况下，续航掉的太快了，特别是冬天天气冷的时候，不开空调不行，天气一冻，续航就掉的更快   \n",
       "1                      车机流畅度差，容易卡死机，车机系统，启动载入很慢，换挡杆前的车机，使用任何功能都有概率死机，发生过3-4次   \n",
       "2                整车的悬架系统，在过减速带时，速度在20码以下，但是车身的抖动还是很厉害，舒适性为第一的，美系车相比，差距还是比较大的   \n",
       "3         大众车的通病，车子的隔音效果不太理想，车速在90码以上，车内的胎噪声就很明显了，必须把音量调大，才能缓解一点（是原厂轮胎，车窗关闭）   \n",
       "4                                         车辆外观很不错，但是车标在晚上不能发亮，要是可以发亮的话会更拉风一点   \n",
       "5         对于一款中型车来说，后排的空间真的太小了，别说和迈腾比就是和雅阁比也小了点，特别是腿部空间明显要小一点，对于高个子的来说没有那么友好   \n",
       "6                                 胎噪声音大（行驶在坑洼路面上，车速在50码左右，车窗全关闭情况下听到）（是原厂轮胎）   \n",
       "7  在行驶中3月份，突然加油，松脚刹，车子不动，打双闪，重启，关停再开，恢复正常；偶然一次10-20时速，城市道路面，黄埔大道，很多车在马路上很危险；   \n",
       "8                                                                    车机反应速度慢   \n",
       "9                没有开发出来，开发太慢了，车机一直没有更新的，中控大屏，一直存在，车的硬件本身支持的，但软件未做好，要等它更新，经常；   \n",
       "\n",
       "                                                                                                                                                                                                                                                                            English  \\\n",
       "0                                                In the case of turning on the air conditioner, the electric range drops too fast, especially when the weather is cold in winter, if you don't turn on the air conditioner, the weather freezes, the battery life will fall faster.   \n",
       "1                                                    The smoothness of the IHU is poor, easy to jam, the car machine system, the start loading is very slow, the car machine before the gear lever, using any function has a probability of crashing, which has occurred 3-4 times.   \n",
       "2                                   The suspension system of the whole car, when crossing the speed bump, the speed is below 20km/h, but the shaking of the body is still very strong, the comfort is the first, compared with the American car, the gap is still relatively large.   \n",
       "3                     The common problem of Volkswagen, the sound insulation of the car is not ideal, the speed is above 90km/h, the tire noise in the car is obvious, the volume must be turned up, in order to alleviate a little (is the original tires, the windows are closed.   \n",
       "4                                                                                                                                                 The appearance of the vehicle is very good, but the logo cannot be shiny at night, if it can be bright, it will be more stunning.   \n",
       "5                         For a mid-size car, the space in the rear is really too small, not to mention that compared with the Magotan an is also a little smaller than the Accord, especially the legroom is obviously a little smaller, which is not so friendly for tall people.   \n",
       "6                                                                                                                                                              Loud tire noise (heard when driving on potholes, at a speed of about 50km/h, with all windows closed (factory tires.   \n",
       "7  In March, when driving in March, suddenly speed up, release the foot brake, the car does not move, double flash, restart, shut down and then open, return to normal; Occasionally a speed of 10-20 mph, city road surface, wham poa Avenue, many carson the road is dangerous; .   \n",
       "8                                                                                                                                                                                                                                            The reaction speed of the IHU is slow.   \n",
       "9                                               Not developed, the development is too slow, the IHU has not been updated, the central control screen, has always existed, the hardware of the car itself supports, but the software is not done, to wait for it to update, often; .   \n",
       "\n",
       "                                                                                                                                                                                                                                                                          Translation  \n",
       "0                                      In the case of turning on the air conditioner, the electric range drops too fast, especially when the weather is cold in winter, not turning on the air conditioner is not possible, the weather freezes, and the electric range drops faster.  \n",
       "1                                                           The smoothness of the IHU is poor, it is easy to jam, the IHU system, the start loading is slow, the IHU in front of the gear lever, the use of any function has a probability of crashing, which has occurred 3-4 times.  \n",
       "2                                                 The suspension system of the whole car, when crossing the speed bump, the speed is less than 20km/h, but the body shaking is still very bad, comfort is the first, compared to the American car, the gap is still relatively large.  \n",
       "3  The common problem of mass-produced cars, the sound insulation effect of the car is not ideal, the speed is above 90km/h, the tire noise in the car is obvious, it is necessary to turn up the volume, in order to alleviate a little (is the original tire, the window is closed.  \n",
       "4                                                                                                                                        The appearance of the vehicle is very good, but the license plate cannot shine at night, if it can shine, it will be a little more dazzling.  \n",
       "5                            For a medium-sized car, the space in the rear is really too small, not to mention that the ratio of the sedan to the luxury sedan is also a little smaller, especially the legroom is obviously a little smaller, and is not so friendly to tall people.  \n",
       "6                                                                                                                                        The tire noise is loud (driving on a dirt road, the speed is about 50km/h, heard when the windows are all closed (it is the original tires.)  \n",
       "7            While driving in March, suddenly refueling, loose foot brakes, the car is not moving, double flashing, restart, stop and start again, and return to normal; Occasionally at 10-20 o'clock, urban road surface, Huangpu Avenue, many cars on the road are very dangerous;  \n",
       "8                                                                                                                                                                                                                                              The reaction speed of the IHU is slow.  \n",
       "9                                                   Not developed, the development is too slow, the IHU has not been updated, the central control screen, has always existed, the hardware of the car itself supports, but the software is not done, to wait for it to update, often;  "
      ]
     },
     "execution_count": 52,
     "metadata": {},
     "output_type": "execute_result"
    }
   ],
   "source": [
    "df"
   ]
  },
  {
   "cell_type": "code",
   "execution_count": null,
   "id": "a5c14847-7186-4e53-b110-455aa0659d52",
   "metadata": {},
   "outputs": [],
   "source": []
  }
 ],
 "metadata": {
  "kernelspec": {
   "display_name": "conda_pytorch_p310",
   "language": "python",
   "name": "conda_pytorch_p310"
  },
  "language_info": {
   "codemirror_mode": {
    "name": "ipython",
    "version": 3
   },
   "file_extension": ".py",
   "mimetype": "text/x-python",
   "name": "python",
   "nbconvert_exporter": "python",
   "pygments_lexer": "ipython3",
   "version": "3.10.13"
  }
 },
 "nbformat": 4,
 "nbformat_minor": 5
}
