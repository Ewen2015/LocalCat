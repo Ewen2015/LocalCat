{
 "cells": [
  {
   "cell_type": "markdown",
   "id": "db91f948-c063-47bc-9036-583f4398f777",
   "metadata": {},
   "source": [
    "# Download GML-3\n",
    "\n",
    "- Computing: \n",
    "    - GPU\n",
    "    - Memory (RAM): at least 20G for CPU usage\n",
    "- Storage:\n",
    "    - Volume (Workplace Storage): 30G for model storage\n",
    "- Network: \n",
    "    - connected to HuggingFace"
   ]
  },
  {
   "cell_type": "code",
   "execution_count": 1,
   "id": "7f441a07-6f61-460d-8cae-4e49699f38a0",
   "metadata": {
    "tags": []
   },
   "outputs": [],
   "source": [
    "# pip install -r requirements.txt -U"
   ]
  },
  {
   "cell_type": "code",
   "execution_count": 2,
   "id": "a0f77965-1d16-42f7-939f-874b79577960",
   "metadata": {},
   "outputs": [],
   "source": [
    "# !nvidia-smi"
   ]
  },
  {
   "cell_type": "code",
   "execution_count": 3,
   "id": "7a54ce0b-22f2-4e3d-96d4-f3d7983d3279",
   "metadata": {},
   "outputs": [],
   "source": [
    "import warnings\n",
    "warnings.filterwarnings(\"ignore\")"
   ]
  },
  {
   "cell_type": "code",
   "execution_count": 4,
   "id": "4d680fde-1fbe-4f26-ad0c-0f0f468715d6",
   "metadata": {
    "tags": []
   },
   "outputs": [
    {
     "data": {
      "application/vnd.jupyter.widget-view+json": {
       "model_id": "6a01af9f79e5426fbd5e49e72b9b6bae",
       "version_major": 2,
       "version_minor": 0
      },
      "text/plain": [
       "Loading checkpoint shards:   0%|          | 0/7 [00:00<?, ?it/s]"
      ]
     },
     "metadata": {},
     "output_type": "display_data"
    }
   ],
   "source": [
    "from transformers import AutoTokenizer, AutoModel\n",
    "tokenizer = AutoTokenizer.from_pretrained(\"THUDM/chatglm3-6b\", trust_remote_code=True)\n",
    "model = AutoModel.from_pretrained(\"THUDM/chatglm3-6b\", trust_remote_code=True).half().cuda()\n",
    "model = model.eval()"
   ]
  },
  {
   "cell_type": "code",
   "execution_count": 5,
   "id": "08f8c19a-6dbb-4084-8a0c-efb374eecdd1",
   "metadata": {},
   "outputs": [
    {
     "name": "stdout",
     "output_type": "stream",
     "text": [
      "你好👋！我是人工智能助手 ChatGLM3-6B，很高兴见到你，欢迎问我任何问题。\n"
     ]
    }
   ],
   "source": [
    "response, history = model.chat(tokenizer, \"你好\", history=[])\n",
    "print(response)"
   ]
  },
  {
   "cell_type": "code",
   "execution_count": 8,
   "id": "e7b851f1-65b6-407f-b0f2-2cab7dc3d44d",
   "metadata": {
    "tags": []
   },
   "outputs": [
    {
     "name": "stdout",
     "output_type": "stream",
     "text": [
      "以下是澳洲4月的一些好玩推荐：\n",
      "\n",
      "1. 悉尼歌剧院：在4月的每个周末，悉尼歌剧院都会举行免费音乐会。你可以欣赏到海港美景和音乐表演。\n",
      "\n",
      "2. 悉尼海港大桥：你可以参加悉尼海港大桥的步行或自行车之旅，探索悉尼海港的美丽景色。\n",
      "\n",
      "3. 黄金海岸：在4月，黄金海岸气温温暖舒适，你可以在这里享受沙滩、阳光和海水。\n",
      "\n",
      "4. 大堡礁：4月是 Great Barrier Reef 的旅游旺季，你可以潜水、浮潜，欣赏到珊瑚礁和海洋生物。\n",
      "\n",
      "5. 阿德莱德：在4月，阿德莱德市的袋鼠公园开放，你可以亲密接触澳大利亚的本土动物。\n",
      "\n",
      "6. 墨尔本：在4月，墨尔本的艺术博物馆和画廊会举办各种展览和活动。\n",
      "\n",
      "7. 霍巴特：在4月，你可以在新西兰的霍巴特市体验到独特的南极文化。\n",
      "\n",
      "8. 澳大利亚 wildflowers：4月是澳大利亚野花盛开的季节，你可以去野花盛开的地方欣赏美丽的花卉。\n",
      "\n",
      "以上只是其中的一些推荐，澳大利亚在4月还有更多美好的地方和活动等待着你去探索。\n"
     ]
    }
   ],
   "source": [
    "response, history = model.chat(tokenizer, \"澳洲4月有什么好玩的推荐\", history=history)\n",
    "print(response)"
   ]
  },
  {
   "cell_type": "code",
   "execution_count": null,
   "id": "3e329bcf-aca8-457d-9279-9a7f3132eb22",
   "metadata": {},
   "outputs": [],
   "source": []
  }
 ],
 "metadata": {
  "kernelspec": {
   "display_name": "Python 3 (ipykernel)",
   "language": "python",
   "name": "python3"
  },
  "language_info": {
   "codemirror_mode": {
    "name": "ipython",
    "version": 3
   },
   "file_extension": ".py",
   "mimetype": "text/x-python",
   "name": "python",
   "nbconvert_exporter": "python",
   "pygments_lexer": "ipython3",
   "version": "3.8.8"
  }
 },
 "nbformat": 4,
 "nbformat_minor": 5
}
