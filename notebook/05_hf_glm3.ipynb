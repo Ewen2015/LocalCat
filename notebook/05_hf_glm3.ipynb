{
 "cells": [
  {
   "cell_type": "code",
   "execution_count": 1,
   "id": "7f441a07-6f61-460d-8cae-4e49699f38a0",
   "metadata": {
    "tags": []
   },
   "outputs": [],
   "source": [
    "# pip install -r requirements.txt -U"
   ]
  },
  {
   "cell_type": "code",
   "execution_count": 2,
   "id": "4d680fde-1fbe-4f26-ad0c-0f0f468715d6",
   "metadata": {
    "tags": []
   },
   "outputs": [],
   "source": [
    "from transformers import AutoTokenizer, AutoModel\n",
    "tokenizer = AutoTokenizer.from_pretrained(\"THUDM/chatglm3-6b\", trust_remote_code=True)"
   ]
  },
  {
   "cell_type": "code",
   "execution_count": 3,
   "id": "b31b672b-195f-4603-94bc-40eecf2669d6",
   "metadata": {},
   "outputs": [
    {
     "data": {
      "application/vnd.jupyter.widget-view+json": {
       "model_id": "f115c1d22754418d9054d6004a9bb730",
       "version_major": 2,
       "version_minor": 0
      },
      "text/plain": [
       "Loading checkpoint shards:   0%|          | 0/7 [00:00<?, ?it/s]"
      ]
     },
     "metadata": {},
     "output_type": "display_data"
    }
   ],
   "source": [
    "import torch\n",
    "device = \"cuda:0\" if torch.cuda.is_available() else \"cpu\"\n",
    "\n",
    "model = AutoModel.from_pretrained(\"THUDM/chatglm3-6b\", trust_remote_code=True, device=device)\n",
    "model = model.eval()"
   ]
  },
  {
   "cell_type": "code",
   "execution_count": 7,
   "id": "08f8c19a-6dbb-4084-8a0c-efb374eecdd1",
   "metadata": {},
   "outputs": [],
   "source": [
    "# response, history = model.chat(tokenizer, \"你好\", history=[])\n",
    "# print(response)"
   ]
  },
  {
   "cell_type": "code",
   "execution_count": 6,
   "id": "e7b851f1-65b6-407f-b0f2-2cab7dc3d44d",
   "metadata": {
    "tags": []
   },
   "outputs": [],
   "source": [
    "# response, history = model.chat(tokenizer, \"晚上睡不着应该怎么办\", history=history)\n",
    "# print(response)"
   ]
  },
  {
   "cell_type": "code",
   "execution_count": 1,
   "id": "f8cb1bd1-84a1-467c-b923-9fe0f350af11",
   "metadata": {},
   "outputs": [
    {
     "data": {
      "text/plain": [
       "False"
      ]
     },
     "execution_count": 1,
     "metadata": {},
     "output_type": "execute_result"
    }
   ],
   "source": [
    "import torch\n",
    "torch.cuda.is_available()"
   ]
  },
  {
   "cell_type": "code",
   "execution_count": 11,
   "id": "00cac26b-dfca-44bd-94ba-fa36a9acc519",
   "metadata": {},
   "outputs": [],
   "source": [
    "# torch.zeros(1).cuda()"
   ]
  },
  {
   "cell_type": "code",
   "execution_count": null,
   "id": "1551f656-ac3b-43de-bb8f-9aa22a213e98",
   "metadata": {},
   "outputs": [],
   "source": []
  }
 ],
 "metadata": {
  "kernelspec": {
   "display_name": "Python 3 (ipykernel)",
   "language": "python",
   "name": "python3"
  },
  "language_info": {
   "codemirror_mode": {
    "name": "ipython",
    "version": 3
   },
   "file_extension": ".py",
   "mimetype": "text/x-python",
   "name": "python",
   "nbconvert_exporter": "python",
   "pygments_lexer": "ipython3",
   "version": "3.8.8"
  }
 },
 "nbformat": 4,
 "nbformat_minor": 5
}
