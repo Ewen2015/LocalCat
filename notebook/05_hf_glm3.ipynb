{
 "cells": [
  {
   "cell_type": "code",
   "execution_count": 13,
   "id": "7f441a07-6f61-460d-8cae-4e49699f38a0",
   "metadata": {
    "tags": []
   },
   "outputs": [],
   "source": [
    "# pip install -r requirements.txt -U -i https://pypi.douban.com/simple"
   ]
  },
  {
   "cell_type": "code",
   "execution_count": 15,
   "id": "4d680fde-1fbe-4f26-ad0c-0f0f468715d6",
   "metadata": {
    "tags": []
   },
   "outputs": [],
   "source": [
    "# from transformers import AutoTokenizer, AutoModel\n",
    "# tokenizer = AutoTokenizer.from_pretrained(\"THUDM/chatglm3-6b\", trust_remote_code=True)\n",
    "# model = AutoModel.from_pretrained(\"THUDM/chatglm3-6b\", trust_remote_code=True, device='cuda')\n",
    "# model = model.eval()\n",
    "# response, history = model.chat(tokenizer, \"你好\", history=[])\n",
    "# print(response)"
   ]
  },
  {
   "cell_type": "code",
   "execution_count": 7,
   "id": "e7b851f1-65b6-407f-b0f2-2cab7dc3d44d",
   "metadata": {
    "tags": []
   },
   "outputs": [],
   "source": [
    "# >>> response, history = model.chat(tokenizer, \"晚上睡不着应该怎么办\", history=history)\n",
    "# >>> print(response)"
   ]
  },
  {
   "cell_type": "code",
   "execution_count": null,
   "id": "f8cb1bd1-84a1-467c-b923-9fe0f350af11",
   "metadata": {},
   "outputs": [],
   "source": []
  }
 ],
 "metadata": {
  "kernelspec": {
   "display_name": "conda_pytorch_p310",
   "language": "python",
   "name": "conda_pytorch_p310"
  },
  "language_info": {
   "codemirror_mode": {
    "name": "ipython",
    "version": 3
   },
   "file_extension": ".py",
   "mimetype": "text/x-python",
   "name": "python",
   "nbconvert_exporter": "python",
   "pygments_lexer": "ipython3",
   "version": "3.10.13"
  }
 },
 "nbformat": 4,
 "nbformat_minor": 5
}
