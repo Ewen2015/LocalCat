{
 "cells": [
  {
   "cell_type": "markdown",
   "id": "c446a123-6c13-4660-99ab-3918fda8cfe2",
   "metadata": {},
   "source": [
    "# LCEL\n",
    "\n",
    "## Basic example: prompt + model + output parser\n",
    "\n",
    "https://python.langchain.com/docs/expression_language/get_started"
   ]
  },
  {
   "cell_type": "code",
   "execution_count": 1,
   "id": "a3f85352-a5a0-4620-bcd9-10bacc03f831",
   "metadata": {
    "tags": []
   },
   "outputs": [
    {
     "name": "stderr",
     "output_type": "stream",
     "text": [
      "/home/ec2-user/anaconda3/envs/python3/lib/python3.10/site-packages/pandas/core/computation/expressions.py:21: UserWarning: Pandas requires version '2.8.0' or newer of 'numexpr' (version '2.7.3' currently installed).\n",
      "  from pandas.core.computation.check import NUMEXPR_INSTALLED\n"
     ]
    },
    {
     "name": "stdout",
     "output_type": "stream",
     "text": [
      "sagemaker.config INFO - Not applying SDK defaults from location: /etc/xdg/sagemaker/config.yaml\n",
      "sagemaker.config INFO - Not applying SDK defaults from location: /home/ec2-user/.config/sagemaker/config.yaml\n",
      "sagemaker.config INFO - Not applying SDK defaults from location: /etc/xdg/sagemaker/config.yaml\n",
      "sagemaker.config INFO - Not applying SDK defaults from location: /home/ec2-user/.config/sagemaker/config.yaml\n"
     ]
    },
    {
     "name": "stderr",
     "output_type": "stream",
     "text": [
      "The endpoint attribute has been renamed in sagemaker>=2.\n",
      "See: https://sagemaker.readthedocs.io/en/stable/v2.html for details.\n"
     ]
    }
   ],
   "source": [
    "from load_model import *"
   ]
  },
  {
   "cell_type": "code",
   "execution_count": 5,
   "id": "493a949d-d5e9-46ba-951a-c86f98f09165",
   "metadata": {
    "tags": []
   },
   "outputs": [],
   "source": [
    "model = llm"
   ]
  },
  {
   "cell_type": "code",
   "execution_count": 9,
   "id": "6788a6cf-afc7-44b9-b257-aa03c9ef54a8",
   "metadata": {
    "tags": []
   },
   "outputs": [
    {
     "name": "stdout",
     "output_type": "stream",
     "text": [
      "There are several possible causes of diagnostic trouble in the process of car-making, including:\n",
      "\n",
      "1. Worn or damaged battery: Over time, the battery in your car can become worn out or damaged, causing it to not hold a charge properly.\n",
      "2. Dirty or corroded battery connector: A dirty or corroded battery connector can prevent the battery from receiving the proper charge.\n",
      "3. Leakage in the battery harness: A leakage in the battery harness can cause the battery to become damaged or cause it to not hold a charge properly.\n",
      "4. Worn or damaged starter motor: A worn or damaged starter motor can cause it to not start the car properly, causing a diagnostic trouble.\n",
      "5. Worn or damaged alternator or starter motor wiring: Worn or damaged wiring in the alternator or starter motor can cause it to not work properly, causing a diagnostic trouble.\n",
      "6. Worn or damaged A/C compressor: A worn or damaged A/C compressor can cause it to not work properly, causing a diagnostic trouble.\n",
      "7. Worn or damaged brakes: Worn or damaged brakes can cause them to not function properly, causing a diagnostic trouble when trying to start the car.\n",
      "\n",
      "It's important to note that these are just a few possible causes and there could be other factors that cause diagnostic trouble in the process of car-making. It's always best to have a professional mechanic inspection and test the battery to make sure it's in good working condition.\n"
     ]
    }
   ],
   "source": [
    "# from langchain.chat_models import ChatOpenAI\n",
    "from langchain.prompts import ChatPromptTemplate\n",
    "from langchain.schema.output_parser import StrOutputParser\n",
    "\n",
    "prompt = ChatPromptTemplate.from_template(\"tell me a possible cause of the diagnostic trouble {trouble} in the process of car-making\")\n",
    "# model = ChatOpenAI()\n",
    "output_parser = StrOutputParser()\n",
    "\n",
    "chain = prompt | model | output_parser\n",
    "\n",
    "print(chain.invoke({\"trouble\": \"battery\"}))"
   ]
  },
  {
   "cell_type": "markdown",
   "id": "3d57977c-bc3f-41a6-9c4b-cd03f878e18c",
   "metadata": {},
   "source": [
    "### 1. Prompt"
   ]
  },
  {
   "cell_type": "code",
   "execution_count": 10,
   "id": "a2b4a7e2-3d47-4291-8e82-9fe37d3c8ed3",
   "metadata": {
    "tags": []
   },
   "outputs": [
    {
     "data": {
      "text/plain": [
       "ChatPromptValue(messages=[HumanMessage(content='tell me a possible cause of the diagnostic trouble battery in the process of car-making')])"
      ]
     },
     "execution_count": 10,
     "metadata": {},
     "output_type": "execute_result"
    }
   ],
   "source": [
    "prompt_value = prompt.invoke({\"trouble\": \"battery\"})\n",
    "prompt_value"
   ]
  },
  {
   "cell_type": "code",
   "execution_count": 11,
   "id": "19d7730f-4d43-4ec9-97e9-552325b3204a",
   "metadata": {
    "tags": []
   },
   "outputs": [
    {
     "data": {
      "text/plain": [
       "[HumanMessage(content='tell me a possible cause of the diagnostic trouble battery in the process of car-making')]"
      ]
     },
     "execution_count": 11,
     "metadata": {},
     "output_type": "execute_result"
    }
   ],
   "source": [
    "prompt_value.to_messages()"
   ]
  },
  {
   "cell_type": "code",
   "execution_count": 12,
   "id": "ae77c782-9f7a-4174-8541-afe13af0cf00",
   "metadata": {
    "tags": []
   },
   "outputs": [
    {
     "data": {
      "text/plain": [
       "'Human: tell me a possible cause of the diagnostic trouble battery in the process of car-making'"
      ]
     },
     "execution_count": 12,
     "metadata": {},
     "output_type": "execute_result"
    }
   ],
   "source": [
    "prompt_value.to_string()"
   ]
  },
  {
   "cell_type": "markdown",
   "id": "61b650ef-6200-4983-8518-5fd418517f98",
   "metadata": {},
   "source": [
    "### 2. Model"
   ]
  },
  {
   "cell_type": "code",
   "execution_count": 13,
   "id": "41ab69b5-142b-48a0-8f8e-07a3d487e2a2",
   "metadata": {
    "tags": []
   },
   "outputs": [
    {
     "data": {
      "text/plain": [
       "\"There are several possible causes of diagnostic trouble in the process of car-making, including:\\n\\n1. Worn or damaged battery: The battery in a car is a critical component that powers the starter and lights. If the battery is worn, damaged, or not functioning properly, it can cause the car to start trouble.\\n2. Leakage of fluid: The fluid in the car's battery is used to lubricate the moving parts and keep the battery in good working condition. If the fluid leaks, it can cause problems with the battery's performance.\\n3. Overheating: When the battery in a car heats up too much, it can cause problems with the electrical system in the car.\\n4. short circuits: Short circuits occur when electrical wires are connected directly to the battery, rather than the battery's positive and negative terminals. This can cause the battery to overheat and can also cause the electrical system to malfunction.\\n5. Connector problems: The connectors in the battery can become loose or damaged, causing an internal short circuit.\\n6. Grounding problems: If the car's grounding system is not working properly, it can cause problems with the battery's connections.\\n7. Wiring problems: If there is a problem with the wiring harness or other components, it can cause problems with the battery's connections.\\n\\nIt's important to note that these are just a few possible causes of diagnostic trouble in the process of car-making and there could be other causes as well. If you suspect that there is an issue with your car's battery, it's best to have it checked by a qualified technician.\""
      ]
     },
     "execution_count": 13,
     "metadata": {},
     "output_type": "execute_result"
    }
   ],
   "source": [
    "message = model.invoke(prompt_value)\n",
    "message"
   ]
  },
  {
   "cell_type": "markdown",
   "id": "d11cf32f-e601-45bd-bf30-930979949886",
   "metadata": {},
   "source": [
    "### 3. Output Parser"
   ]
  },
  {
   "cell_type": "code",
   "execution_count": 14,
   "id": "0d8c3369-a2af-4c09-8e64-eba3efd3da33",
   "metadata": {
    "tags": []
   },
   "outputs": [
    {
     "name": "stdout",
     "output_type": "stream",
     "text": [
      "There are several possible causes of diagnostic trouble in the process of car-making, including:\n",
      "\n",
      "1. Worn or damaged battery: The battery in a car is a critical component that powers the starter and lights. If the battery is worn, damaged, or not functioning properly, it can cause the car to start trouble.\n",
      "2. Leakage of fluid: The fluid in the car's battery is used to lubricate the moving parts and keep the battery in good working condition. If the fluid leaks, it can cause problems with the battery's performance.\n",
      "3. Overheating: When the battery in a car heats up too much, it can cause problems with the electrical system in the car.\n",
      "4. short circuits: Short circuits occur when electrical wires are connected directly to the battery, rather than the battery's positive and negative terminals. This can cause the battery to overheat and can also cause the electrical system to malfunction.\n",
      "5. Connector problems: The connectors in the battery can become loose or damaged, causing an internal short circuit.\n",
      "6. Grounding problems: If the car's grounding system is not working properly, it can cause problems with the battery's connections.\n",
      "7. Wiring problems: If there is a problem with the wiring harness or other components, it can cause problems with the battery's connections.\n",
      "\n",
      "It's important to note that these are just a few possible causes of diagnostic trouble in the process of car-making and there could be other causes as well. If you suspect that there is an issue with your car's battery, it's best to have it checked by a qualified technician.\n"
     ]
    }
   ],
   "source": [
    "m = output_parser.invoke(message)\n",
    "print(m)"
   ]
  },
  {
   "cell_type": "markdown",
   "id": "57561fae-7010-4102-9438-130f2b63c7ac",
   "metadata": {},
   "source": [
    "### 4. Entire Pipeline"
   ]
  },
  {
   "cell_type": "code",
   "execution_count": 15,
   "id": "cbf352df-a686-4997-9501-24daca87cd6a",
   "metadata": {
    "tags": []
   },
   "outputs": [
    {
     "data": {
      "text/plain": [
       "ChatPromptValue(messages=[HumanMessage(content='tell me a possible cause of the diagnostic trouble battery in the process of car-making')])"
      ]
     },
     "execution_count": 15,
     "metadata": {},
     "output_type": "execute_result"
    }
   ],
   "source": [
    "input = {\"trouble\": \"battery\"}\n",
    "\n",
    "prompt.invoke(input)"
   ]
  },
  {
   "cell_type": "code",
   "execution_count": 16,
   "id": "a823bd15-8659-4d47-8118-ba3f56fae5ad",
   "metadata": {
    "tags": []
   },
   "outputs": [
    {
     "data": {
      "text/plain": [
       "\"There are several possible causes of diagnostic trouble in the process of car-making, including:\\n\\n1. Worn or damaged battery: Over time, the battery in your car's diagnostic trouble system may wear out or become damaged, causing it to malfunction.\\n2. Wired incorrectly: If the wires in your car's diagnostic trouble system are not properly connected to the battery or the rest of the system, it can cause problems with the system functioning.\\n3. Leakage: If there is a small leakage of battery juice into the diagnostic trouble system, it can cause the system to malfunction.\\n4. Overheating: If the battery in your car's diagnostic trouble system overheats, it can cause problems with the system functioning.\\n5. Worming: If a foreign object, such as a worm, comes into contact with the battery or the diagnostic trouble system, it can cause problems with the system functioning.\\n\\nIt's important to note that these are just a few possible causes of diagnostic trouble in the process of car-making and there may be other factors that cause problems with your car's battery as well. If you're having trouble with your car's battery, it's best to have it checked by a professional mechanic or car repair shop to determine the cause and get it fixed.\""
      ]
     },
     "execution_count": 16,
     "metadata": {},
     "output_type": "execute_result"
    }
   ],
   "source": [
    "(prompt | model).invoke(input)"
   ]
  },
  {
   "cell_type": "markdown",
   "id": "5e50a009-0670-40ac-90e4-42dcac97614d",
   "metadata": {},
   "source": [
    "## RAG Search Example\n",
    "\n",
    "https://python.langchain.com/docs/integrations/text_embedding/sagemaker-endpoint"
   ]
  },
  {
   "cell_type": "code",
   "execution_count": 19,
   "id": "f2d683e9-bba3-4238-905f-670751cf077d",
   "metadata": {
    "tags": []
   },
   "outputs": [],
   "source": [
    "import json\n",
    "from typing import Dict, List\n",
    "\n",
    "from langchain.embeddings import SagemakerEndpointEmbeddings\n",
    "from langchain.embeddings.sagemaker_endpoint import EmbeddingsContentHandler"
   ]
  },
  {
   "cell_type": "code",
   "execution_count": 23,
   "id": "c596e07c-3b2b-479f-9195-638c4e221c15",
   "metadata": {
    "tags": []
   },
   "outputs": [],
   "source": [
    "class ContentHandler(EmbeddingsContentHandler):\n",
    "    content_type = \"application/json\"\n",
    "    accepts = \"application/json\"\n",
    "\n",
    "    def transform_input(self, inputs: list[str], model_kwargs: Dict) -> bytes:\n",
    "        \"\"\"\n",
    "        Transforms the input into bytes that can be consumed by SageMaker endpoint.\n",
    "        Args:\n",
    "            inputs: List of input strings.\n",
    "            model_kwargs: Additional keyword arguments to be passed to the endpoint.\n",
    "        Returns:\n",
    "            The transformed bytes input.\n",
    "        \"\"\"\n",
    "        # Example: inference.py expects a JSON string with a \"inputs\" key:\n",
    "        input_str = json.dumps({\"inputs\": inputs, **model_kwargs})\n",
    "        return input_str.encode(\"utf-8\")\n",
    "\n",
    "    def transform_output(self, output: bytes) -> List[List[float]]:\n",
    "        \"\"\"\n",
    "        Transforms the bytes output from the endpoint into a list of embeddings.\n",
    "        Args:\n",
    "            output: The bytes output from SageMaker endpoint.\n",
    "        Returns:\n",
    "            The transformed output - list of embeddings\n",
    "        Note:\n",
    "            The length of the outer list is the number of input strings.\n",
    "            The length of the inner lists is the embedding dimension.\n",
    "        \"\"\"\n",
    "        # Example: inference.py returns a JSON string with the list of\n",
    "        # embeddings in a \"vectors\" key:\n",
    "        response_json = json.loads(output.read().decode(\"utf-8\"))\n",
    "        # return response_json[\"vectors\"]\n",
    "        return response_json\n",
    "\n",
    "content_handler = ContentHandler()"
   ]
  },
  {
   "cell_type": "code",
   "execution_count": 24,
   "id": "9da42bd6-b70d-4213-8a0f-496465eb2e2f",
   "metadata": {
    "tags": []
   },
   "outputs": [],
   "source": [
    "embeddings = SagemakerEndpointEmbeddings(\n",
    "    # credentials_profile_name=\"credentials-profile-name\",\n",
    "    endpoint_name=ENDPOINT_NAME,\n",
    "    region_name=REGION,\n",
    "    content_handler=content_handler,\n",
    ")\n",
    "\n",
    "# client = boto3.client(\n",
    "#     \"sagemaker-runtime\",\n",
    "#     region_name=\"us-west-2\"\n",
    "# )\n",
    "# embeddings = SagemakerEndpointEmbeddings(\n",
    "#     endpoint_name=\"huggingface-pytorch-inference-2023-03-21-16-14-03-834\",\n",
    "#     client=client\n",
    "#     content_handler=content_handler,\n",
    "# )"
   ]
  },
  {
   "cell_type": "code",
   "execution_count": 26,
   "id": "f2640a13-317d-4362-8101-1ffacac2f1ae",
   "metadata": {
    "tags": []
   },
   "outputs": [],
   "source": [
    "# # from langchain.chat_models import ChatOpenAI\n",
    "# # from langchain.embeddings import OpenAIEmbeddings\n",
    "# from langchain.prompts import ChatPromptTemplate\n",
    "# from langchain.schema.output_parser import StrOutputParser\n",
    "# from langchain.schema.runnable import RunnableParallel, RunnablePassthrough\n",
    "# from langchain.vectorstores import DocArrayInMemorySearch\n",
    "\n",
    "# vectorstore = DocArrayInMemorySearch.from_texts(\n",
    "#     [\"harrison worked at kensho\", \"bears like to eat honey\"],\n",
    "#     # embedding=OpenAIEmbeddings(),\n",
    "#     embedding=embeddings,\n",
    "# )\n",
    "\n",
    "# retriever = vectorstore.as_retriever()"
   ]
  },
  {
   "cell_type": "code",
   "execution_count": 27,
   "id": "a7bf3b3a-5003-4606-9deb-231dad4da1ee",
   "metadata": {},
   "outputs": [],
   "source": [
    "# template = \"\"\"Answer the question based only on the following context:\n",
    "# {context}\n",
    "\n",
    "# Question: {question}\n",
    "# \"\"\"\n",
    "# prompt = ChatPromptTemplate.from_template(template)\n",
    "# model = ChatOpenAI()\n",
    "# output_parser = StrOutputParser()\n",
    "\n",
    "# setup_and_retrieval = RunnableParallel(\n",
    "#     {\"context\": retriever, \"question\": RunnablePassthrough()}\n",
    "# )\n",
    "# chain = setup_and_retrieval | prompt | model | output_parser\n",
    "\n",
    "# chain.invoke(\"where did harrison work?\")"
   ]
  },
  {
   "cell_type": "code",
   "execution_count": null,
   "id": "adeea229-46ad-4d2c-9d34-ae8d374bb9b9",
   "metadata": {},
   "outputs": [],
   "source": []
  }
 ],
 "metadata": {
  "kernelspec": {
   "display_name": "conda_python3",
   "language": "python",
   "name": "conda_python3"
  },
  "language_info": {
   "codemirror_mode": {
    "name": "ipython",
    "version": 3
   },
   "file_extension": ".py",
   "mimetype": "text/x-python",
   "name": "python",
   "nbconvert_exporter": "python",
   "pygments_lexer": "ipython3",
   "version": "3.10.13"
  }
 },
 "nbformat": 4,
 "nbformat_minor": 5
}
