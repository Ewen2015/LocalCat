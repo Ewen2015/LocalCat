{
 "cells": [
  {
   "cell_type": "markdown",
   "id": "ff786306-107d-46ce-96b2-0a3084f13680",
   "metadata": {},
   "source": [
    "# Fine Tune\n",
    "\n",
    "**Reference:** https://neptune.ai/blog/hugging-face-pre-trained-models-find-the-best"
   ]
  },
  {
   "cell_type": "code",
   "execution_count": 1,
   "id": "19593727-16be-4674-aa2a-f7f6351dd9ad",
   "metadata": {
    "tags": []
   },
   "outputs": [],
   "source": [
    "# pip install -r requirements.txt"
   ]
  },
  {
   "cell_type": "code",
   "execution_count": 2,
   "id": "19f96178-c280-42ba-9e5f-c77725f96319",
   "metadata": {},
   "outputs": [],
   "source": [
    "import warnings\n",
    "warnings.filterwarnings(\"ignore\")"
   ]
  },
  {
   "cell_type": "code",
   "execution_count": 3,
   "id": "877d5655",
   "metadata": {},
   "outputs": [
    {
     "name": "stdout",
     "output_type": "stream",
     "text": [
      "cuda\n"
     ]
    }
   ],
   "source": [
    "import torch\n",
    "\n",
    "if torch.cuda.is_available():\n",
    "    device = \"cuda\"\n",
    "elif torch.backends.mps.is_available():\n",
    "    device = torch.device(\"mps\")\n",
    "else:\n",
    "    device = \"cpu\"\n",
    "\n",
    "print(device)"
   ]
  },
  {
   "cell_type": "markdown",
   "id": "5fcd9ced-02ba-425d-860e-4086872d8cf0",
   "metadata": {},
   "source": [
    "## Load Model"
   ]
  },
  {
   "cell_type": "code",
   "execution_count": 4,
   "id": "b4f6addd",
   "metadata": {},
   "outputs": [],
   "source": [
    "model_mbart = \"facebook/mbart-large-50-many-to-one-mmt\"\n",
    "\n",
    "model_name = f\"mbart-finetuned-cn-to-en-auto\"\n",
    "model_path = f\"../models/{model_name}\"\n",
    "\n",
    "model_path = model_mbart"
   ]
  },
  {
   "cell_type": "code",
   "execution_count": 5,
   "id": "72045b36-4a9c-42e6-80ba-8b4aa5db435a",
   "metadata": {},
   "outputs": [],
   "source": [
    "from transformers import AutoTokenizer, AutoModelForSeq2SeqLM\n",
    "\n",
    "tokenizer = AutoTokenizer.from_pretrained(model_path)\n",
    "model = AutoModelForSeq2SeqLM.from_pretrained(model_path)"
   ]
  },
  {
   "cell_type": "code",
   "execution_count": 6,
   "id": "d47eda7c-ef5e-49c7-8e78-9e66ea3450e4",
   "metadata": {},
   "outputs": [
    {
     "name": "stdout",
     "output_type": "stream",
     "text": [
      "If the air conditioner is on, the flight resumes too quickly, especially in winter when the weather is cold. If the air conditioner is not on, the flight resumes faster as soon as the weather is cold\n"
     ]
    }
   ],
   "source": [
    "sentence = \"开空调的情况下，续航掉的太快了，特别是冬天天气冷的时候，不开空调不行，天气一冻，续航就掉的更快\"\n",
    "\n",
    "tokenizer.src_lang = 'zh_CN'\n",
    "tokenizer.tgt_lang = 'en_XX'\n",
    "\n",
    "encoded = tokenizer(sentence, return_tensors=\"pt\").to(device)\n",
    "model = model.to(device)\n",
    "generated_tokens = model.generate(**encoded)\n",
    "decoded = tokenizer.batch_decode(generated_tokens, skip_special_tokens=True)[0]\n",
    "\n",
    "print(decoded)"
   ]
  },
  {
   "cell_type": "markdown",
   "id": "fdfad005-4e9c-41a9-9036-4295a82ba842",
   "metadata": {},
   "source": [
    "## Preprocess Data\n",
    "\n",
    "### Load Data"
   ]
  },
  {
   "cell_type": "code",
   "execution_count": 7,
   "id": "2100a9c2-b0dd-4c25-8d3e-0272215f0a8a",
   "metadata": {},
   "outputs": [],
   "source": [
    "import pandas as pd\n",
    "from datasets import Dataset\n",
    "\n",
    "pd.set_option('display.max_colwidth', None)"
   ]
  },
  {
   "cell_type": "code",
   "execution_count": 8,
   "id": "7de586ef-b93a-4bab-936c-2ca28f11a6df",
   "metadata": {},
   "outputs": [],
   "source": [
    "df_1 = pd.read_excel('../data/trans/2023_NCVQS_text.xlsx', sheet_name=0)\n",
    "df_1.rename(columns = {'Detail complains breakdown  (Chinese)': 'Chinese', 'Translation': 'English'}, inplace=True)\n",
    "\n",
    "df_2 = pd.read_excel('../data/trans/2023_NCVQS_text.xlsx', sheet_name=1)\n",
    "\n",
    "zh_columns = df_2.columns[:4]\n",
    "en_columns = df_2.columns[4:]\n",
    "\n",
    "df_2['Chinese'] = df_2[zh_columns].apply(lambda row: ' '.join(row.dropna().astype(str)), axis=1)\n",
    "df_2['English'] = df_2[en_columns].apply(lambda row: ' '.join(row.dropna().astype(str)), axis=1)\n",
    "\n",
    "df_2.drop(columns=en_columns, inplace=True)\n",
    "df_2.drop(columns=zh_columns, inplace=True)\n",
    "\n",
    "df = pd.concat([df_1, df_2], axis = 0)\n",
    "df = df.dropna()\n",
    "df.drop_duplicates(keep='first', subset='Chinese', inplace=True)"
   ]
  },
  {
   "cell_type": "code",
   "execution_count": 9,
   "id": "da8114be-8bb4-4603-b35b-376206209ad2",
   "metadata": {},
   "outputs": [
    {
     "name": "stdout",
     "output_type": "stream",
     "text": [
      "Length:  447 \n",
      " Num of NaN:  0\n"
     ]
    }
   ],
   "source": [
    "print(\"Length: \", len(df), \"\\n Num of NaN: \", df.isna().sum().sum())"
   ]
  },
  {
   "cell_type": "code",
   "execution_count": 10,
   "id": "182a6a93-b2a5-463f-b65c-9ea3b78a881f",
   "metadata": {},
   "outputs": [
    {
     "data": {
      "text/html": [
       "<div>\n",
       "<style scoped>\n",
       "    .dataframe tbody tr th:only-of-type {\n",
       "        vertical-align: middle;\n",
       "    }\n",
       "\n",
       "    .dataframe tbody tr th {\n",
       "        vertical-align: top;\n",
       "    }\n",
       "\n",
       "    .dataframe thead th {\n",
       "        text-align: right;\n",
       "    }\n",
       "</style>\n",
       "<table border=\"1\" class=\"dataframe\">\n",
       "  <thead>\n",
       "    <tr style=\"text-align: right;\">\n",
       "      <th></th>\n",
       "      <th>Chinese</th>\n",
       "      <th>English</th>\n",
       "    </tr>\n",
       "  </thead>\n",
       "  <tbody>\n",
       "    <tr>\n",
       "      <th>0</th>\n",
       "      <td>开空调的情况下，续航掉的太快了，特别是冬天天气冷的时候，不开空调不行，天气一冻，续航就掉的更快</td>\n",
       "      <td>In the case of turning on the air conditioner, the electric range drops too fast, especially when the weather is cold in winter, if you don't turn on the air conditioner, the weather freezes, the battery life will fall faster.</td>\n",
       "    </tr>\n",
       "    <tr>\n",
       "      <th>1</th>\n",
       "      <td>车机流畅度差，容易卡死机，车机系统，启动载入很慢，换挡杆前的车机，使用任何功能都有概率死机，发生过3-4次</td>\n",
       "      <td>The smoothness of the IHU is poor, easy to jam, the car machine system, the start loading is very slow, the car machine before the gear lever, using any function has a probability of crashing, which has occurred 3-4 times.</td>\n",
       "    </tr>\n",
       "    <tr>\n",
       "      <th>2</th>\n",
       "      <td>整车的悬架系统，在过减速带时，速度在20码以下，但是车身的抖动还是很厉害，舒适性为第一的，美系车相比，差距还是比较大的</td>\n",
       "      <td>The suspension system of the whole car, when crossing the speed bump, the speed is below 20km/h, but the shaking of the body is still very strong, the comfort is the first, compared with the American car, the gap is still relatively large.</td>\n",
       "    </tr>\n",
       "    <tr>\n",
       "      <th>3</th>\n",
       "      <td>大众车的通病，车子的隔音效果不太理想，车速在90码以上，车内的胎噪声就很明显了，必须把音量调大，才能缓解一点（是原厂轮胎，车窗关闭）</td>\n",
       "      <td>The common problem of Volkswagen, the sound insulation of the car is not ideal, the speed is above 90km/h, the tire noise in the car is obvious, the volume must be turned up, in order to alleviate a little (is the original tires, the windows are closed.</td>\n",
       "    </tr>\n",
       "    <tr>\n",
       "      <th>4</th>\n",
       "      <td>车辆外观很不错，但是车标在晚上不能发亮，要是可以发亮的话会更拉风一点</td>\n",
       "      <td>The appearance of the vehicle is very good, but the logo cannot be shiny at night, if it can be bright, it will be more stunning.</td>\n",
       "    </tr>\n",
       "  </tbody>\n",
       "</table>\n",
       "</div>"
      ],
      "text/plain": [
       "                                                              Chinese  \\\n",
       "0                     开空调的情况下，续航掉的太快了，特别是冬天天气冷的时候，不开空调不行，天气一冻，续航就掉的更快   \n",
       "1               车机流畅度差，容易卡死机，车机系统，启动载入很慢，换挡杆前的车机，使用任何功能都有概率死机，发生过3-4次   \n",
       "2         整车的悬架系统，在过减速带时，速度在20码以下，但是车身的抖动还是很厉害，舒适性为第一的，美系车相比，差距还是比较大的   \n",
       "3  大众车的通病，车子的隔音效果不太理想，车速在90码以上，车内的胎噪声就很明显了，必须把音量调大，才能缓解一点（是原厂轮胎，车窗关闭）   \n",
       "4                                  车辆外观很不错，但是车标在晚上不能发亮，要是可以发亮的话会更拉风一点   \n",
       "\n",
       "                                                                                                                                                                                                                                                         English  \n",
       "0                             In the case of turning on the air conditioner, the electric range drops too fast, especially when the weather is cold in winter, if you don't turn on the air conditioner, the weather freezes, the battery life will fall faster.  \n",
       "1                                 The smoothness of the IHU is poor, easy to jam, the car machine system, the start loading is very slow, the car machine before the gear lever, using any function has a probability of crashing, which has occurred 3-4 times.  \n",
       "2                The suspension system of the whole car, when crossing the speed bump, the speed is below 20km/h, but the shaking of the body is still very strong, the comfort is the first, compared with the American car, the gap is still relatively large.  \n",
       "3  The common problem of Volkswagen, the sound insulation of the car is not ideal, the speed is above 90km/h, the tire noise in the car is obvious, the volume must be turned up, in order to alleviate a little (is the original tires, the windows are closed.  \n",
       "4                                                                                                                              The appearance of the vehicle is very good, but the logo cannot be shiny at night, if it can be bright, it will be more stunning.  "
      ]
     },
     "execution_count": 10,
     "metadata": {},
     "output_type": "execute_result"
    }
   ],
   "source": [
    "df.head()"
   ]
  },
  {
   "cell_type": "code",
   "execution_count": 11,
   "id": "bd2cf31a-7794-4b69-af41-c72a6a7ebbb0",
   "metadata": {},
   "outputs": [],
   "source": [
    "df.to_csv(\"../data/trans/PROC-NCVQS-2023.csv\", index=False)\n",
    "df.head(5).to_csv(\"../data/trans/PROC-SAMPLE.csv\", index=False)\n",
    "df.head(5)[[\"Chinese\"]].to_csv(\"../data/trans/PROC-SAMPLE-INFERENCE.csv\", index=False)"
   ]
  },
  {
   "cell_type": "markdown",
   "id": "b654cf7f-1640-45be-a84d-4cecf37118a7",
   "metadata": {},
   "source": [
    "### Transform Data"
   ]
  },
  {
   "cell_type": "code",
   "execution_count": 12,
   "id": "dcb91519-cb27-458e-a87d-da28f854514e",
   "metadata": {},
   "outputs": [],
   "source": [
    "df = df.assign(translation=df.apply(lambda row:{'zh': row['Chinese'], 'en': row['English']}, axis=1))\n",
    "df.reset_index(inplace=True)\n",
    "df.drop(['index', 'Chinese', 'English'], axis=1, inplace=True)"
   ]
  },
  {
   "cell_type": "code",
   "execution_count": 13,
   "id": "bd86fcd1-ab07-4d9e-bc2b-af113cb1b236",
   "metadata": {},
   "outputs": [
    {
     "data": {
      "text/html": [
       "<div>\n",
       "<style scoped>\n",
       "    .dataframe tbody tr th:only-of-type {\n",
       "        vertical-align: middle;\n",
       "    }\n",
       "\n",
       "    .dataframe tbody tr th {\n",
       "        vertical-align: top;\n",
       "    }\n",
       "\n",
       "    .dataframe thead th {\n",
       "        text-align: right;\n",
       "    }\n",
       "</style>\n",
       "<table border=\"1\" class=\"dataframe\">\n",
       "  <thead>\n",
       "    <tr style=\"text-align: right;\">\n",
       "      <th></th>\n",
       "      <th>translation</th>\n",
       "    </tr>\n",
       "  </thead>\n",
       "  <tbody>\n",
       "    <tr>\n",
       "      <th>0</th>\n",
       "      <td>{'zh': '开空调的情况下，续航掉的太快了，特别是冬天天气冷的时候，不开空调不行，天气一冻，续航就掉的更快', 'en': 'In the case of turning on the air conditioner, the electric range drops too fast, especially when the weather is cold in winter, if you don't turn on the air conditioner, the weather freezes, the battery life will fall faster.'}</td>\n",
       "    </tr>\n",
       "    <tr>\n",
       "      <th>1</th>\n",
       "      <td>{'zh': '车机流畅度差，容易卡死机，车机系统，启动载入很慢，换挡杆前的车机，使用任何功能都有概率死机，发生过3-4次', 'en': 'The smoothness of the IHU is poor, easy to jam, the car machine system, the start loading is very slow, the car machine before the gear lever, using any function has a probability of crashing, which has occurred 3-4 times.'}</td>\n",
       "    </tr>\n",
       "    <tr>\n",
       "      <th>2</th>\n",
       "      <td>{'zh': '整车的悬架系统，在过减速带时，速度在20码以下，但是车身的抖动还是很厉害，舒适性为第一的，美系车相比，差距还是比较大的', 'en': 'The suspension system of the whole car, when crossing the speed bump, the speed is below 20km/h, but the shaking of the body is still very strong, the comfort is the first, compared with the American car, the gap is still relatively large.'}</td>\n",
       "    </tr>\n",
       "    <tr>\n",
       "      <th>3</th>\n",
       "      <td>{'zh': '大众车的通病，车子的隔音效果不太理想，车速在90码以上，车内的胎噪声就很明显了，必须把音量调大，才能缓解一点（是原厂轮胎，车窗关闭）', 'en': 'The common problem of Volkswagen, the sound insulation of the car is not ideal, the speed is above 90km/h, the tire noise in the car is obvious, the volume must be turned up, in order to alleviate a little (is the original tires, the windows are closed.'}</td>\n",
       "    </tr>\n",
       "    <tr>\n",
       "      <th>4</th>\n",
       "      <td>{'zh': '车辆外观很不错，但是车标在晚上不能发亮，要是可以发亮的话会更拉风一点', 'en': 'The appearance of the vehicle is very good, but the logo cannot be shiny at night, if it can be bright, it will be more stunning.'}</td>\n",
       "    </tr>\n",
       "  </tbody>\n",
       "</table>\n",
       "</div>"
      ],
      "text/plain": [
       "                                                                                                                                                                                                                                                                                                                                           translation\n",
       "0                                                {'zh': '开空调的情况下，续航掉的太快了，特别是冬天天气冷的时候，不开空调不行，天气一冻，续航就掉的更快', 'en': 'In the case of turning on the air conditioner, the electric range drops too fast, especially when the weather is cold in winter, if you don't turn on the air conditioner, the weather freezes, the battery life will fall faster.'}\n",
       "1                                              {'zh': '车机流畅度差，容易卡死机，车机系统，启动载入很慢，换挡杆前的车机，使用任何功能都有概率死机，发生过3-4次', 'en': 'The smoothness of the IHU is poor, easy to jam, the car machine system, the start loading is very slow, the car machine before the gear lever, using any function has a probability of crashing, which has occurred 3-4 times.'}\n",
       "2                       {'zh': '整车的悬架系统，在过减速带时，速度在20码以下，但是车身的抖动还是很厉害，舒适性为第一的，美系车相比，差距还是比较大的', 'en': 'The suspension system of the whole car, when crossing the speed bump, the speed is below 20km/h, but the shaking of the body is still very strong, the comfort is the first, compared with the American car, the gap is still relatively large.'}\n",
       "3  {'zh': '大众车的通病，车子的隔音效果不太理想，车速在90码以上，车内的胎噪声就很明显了，必须把音量调大，才能缓解一点（是原厂轮胎，车窗关闭）', 'en': 'The common problem of Volkswagen, the sound insulation of the car is not ideal, the speed is above 90km/h, the tire noise in the car is obvious, the volume must be turned up, in order to alleviate a little (is the original tires, the windows are closed.'}\n",
       "4                                                                                                                                                              {'zh': '车辆外观很不错，但是车标在晚上不能发亮，要是可以发亮的话会更拉风一点', 'en': 'The appearance of the vehicle is very good, but the logo cannot be shiny at night, if it can be bright, it will be more stunning.'}"
      ]
     },
     "execution_count": 13,
     "metadata": {},
     "output_type": "execute_result"
    }
   ],
   "source": [
    "df.head()"
   ]
  },
  {
   "cell_type": "code",
   "execution_count": 14,
   "id": "f872281d-cc37-4244-b34d-5a6e274cacd3",
   "metadata": {},
   "outputs": [
    {
     "data": {
      "text/plain": [
       "{'zh': '开空调的情况下，续航掉的太快了，特别是冬天天气冷的时候，不开空调不行，天气一冻，续航就掉的更快',\n",
       " 'en': \"In the case of turning on the air conditioner, the electric range drops too fast, especially when the weather is cold in winter, if you don't turn on the air conditioner, the weather freezes, the battery life will fall faster.\"}"
      ]
     },
     "execution_count": 14,
     "metadata": {},
     "output_type": "execute_result"
    }
   ],
   "source": [
    "df.iloc[0][0]"
   ]
  },
  {
   "cell_type": "code",
   "execution_count": 15,
   "id": "b7c8914f-4b06-4490-a7b1-832ad34f5b77",
   "metadata": {},
   "outputs": [
    {
     "name": "stdout",
     "output_type": "stream",
     "text": [
      "Dimension:  (447, 1)\n"
     ]
    }
   ],
   "source": [
    "print(\"Dimension: \", df.shape)"
   ]
  },
  {
   "cell_type": "code",
   "execution_count": 16,
   "id": "9829a676-4cbd-4573-9e6c-c62a86fb6410",
   "metadata": {},
   "outputs": [],
   "source": [
    "dataset = Dataset.from_pandas(df, split='train')\n",
    "dataset = dataset.train_test_split(test_size=0.01)"
   ]
  },
  {
   "cell_type": "code",
   "execution_count": 17,
   "id": "a7ee2489-abd4-431b-8188-903da8d8ce2a",
   "metadata": {},
   "outputs": [
    {
     "name": "stdout",
     "output_type": "stream",
     "text": [
      "<class 'datasets.arrow_dataset.Dataset'>\n",
      "{'translation': [{'en': 'The overall feeling is good. The front hood thundered. Model, brand, color, exterior, interior. Engine sound (abnormal noise, increase head-up display.', 'zh': '整体感觉挺好的 前面车盖轰轰的响 车型，品牌，颜色，外观，内饰 发动机声音（异响），增加抬头显示'}]}\n"
     ]
    }
   ],
   "source": [
    "print(type(dataset['train']))\n",
    "print(dataset['train'][:1])"
   ]
  },
  {
   "cell_type": "code",
   "execution_count": 18,
   "id": "27685fef-7d91-4f47-8058-471698221e81",
   "metadata": {},
   "outputs": [
    {
     "data": {
      "text/plain": [
       "DatasetDict({\n",
       "    train: Dataset({\n",
       "        features: ['translation'],\n",
       "        num_rows: 442\n",
       "    })\n",
       "    test: Dataset({\n",
       "        features: ['translation'],\n",
       "        num_rows: 5\n",
       "    })\n",
       "})"
      ]
     },
     "execution_count": 18,
     "metadata": {},
     "output_type": "execute_result"
    }
   ],
   "source": [
    "dataset"
   ]
  },
  {
   "cell_type": "markdown",
   "id": "ded8ca35-a367-498b-92c3-cb8dcb75c62f",
   "metadata": {},
   "source": [
    "### Tokenize Datasets"
   ]
  },
  {
   "cell_type": "code",
   "execution_count": 19,
   "id": "aae45c12-2b36-4c95-86b4-4e81ba3a2834",
   "metadata": {},
   "outputs": [
    {
     "data": {
      "application/vnd.jupyter.widget-view+json": {
       "model_id": "130b2099cc5848a7a87f4ffff2d1d6a2",
       "version_major": 2,
       "version_minor": 0
      },
      "text/plain": [
       "Map:   0%|          | 0/442 [00:00<?, ? examples/s]"
      ]
     },
     "metadata": {},
     "output_type": "display_data"
    },
    {
     "data": {
      "application/vnd.jupyter.widget-view+json": {
       "model_id": "da348424755e42f7a215edd94d975ac3",
       "version_major": 2,
       "version_minor": 0
      },
      "text/plain": [
       "Map:   0%|          | 0/5 [00:00<?, ? examples/s]"
      ]
     },
     "metadata": {},
     "output_type": "display_data"
    }
   ],
   "source": [
    "prefix = \"\" #for mBART and MarianMT\n",
    "max_input_length = 512\n",
    "max_target_length = 512\n",
    "\n",
    "source_lang = \"zh\"\n",
    "target_lang = \"en\"\n",
    "\n",
    "def preprocess_function(examples):\n",
    "    inputs = [prefix + ex[source_lang] for ex in examples[\"translation\"]]\n",
    "    targets = [ex[target_lang] for ex in examples[\"translation\"]]\n",
    "    model_inputs = tokenizer(inputs, max_length=max_input_length, truncation=True)\n",
    "   \n",
    "    # Setup the tokenizer for targets\n",
    "    with tokenizer.as_target_tokenizer():\n",
    "        labels = tokenizer(targets, max_length=max_target_length, truncation=True)\n",
    "\n",
    "    model_inputs[\"labels\"] = labels[\"input_ids\"]\n",
    "    return model_inputs\n",
    "\n",
    "tokenized_datasets = dataset.map(preprocess_function, batched=True)"
   ]
  },
  {
   "cell_type": "markdown",
   "id": "875f5bd5-0a65-4b8b-ba94-559bdde3e0bc",
   "metadata": {},
   "source": [
    "## Train and Fine-tune the Model\n",
    "\n",
    "### Model Setup"
   ]
  },
  {
   "cell_type": "code",
   "execution_count": 20,
   "id": "be0f2f1d-e398-48e7-a3f2-b355b4163fd4",
   "metadata": {},
   "outputs": [],
   "source": [
    "from transformers import Seq2SeqTrainingArguments\n",
    "from transformers import DataCollatorForSeq2Seq\n",
    "from transformers import Seq2SeqTrainer\n",
    "import evaluate"
   ]
  },
  {
   "cell_type": "code",
   "execution_count": 21,
   "id": "1e3f3091-ec4b-4136-87cb-e73293356e93",
   "metadata": {},
   "outputs": [
    {
     "name": "stdout",
     "output_type": "stream",
     "text": [
      "06032024\n"
     ]
    }
   ],
   "source": [
    "from datetime import datetime\n",
    "\n",
    "# Get the current date\n",
    "today = datetime.now()\n",
    "\n",
    "# Format the date as \"DDMMYYYY\"\n",
    "formatted_date = today.strftime(\"%d%m%Y\")\n",
    "\n",
    "print(formatted_date)"
   ]
  },
  {
   "cell_type": "code",
   "execution_count": 22,
   "id": "caa560d6-c87f-4f58-b08b-dc684747ea9d",
   "metadata": {},
   "outputs": [],
   "source": [
    "model_name = f\"mbart-finetuned-cn-to-en-auto-2023\"\n",
    "model_path = f\"../models/{model_name}\"\n",
    "\n",
    "batch_size = 4\n",
    "\n",
    "args = Seq2SeqTrainingArguments(\n",
    "   output_dir=model_path,\n",
    "   evaluation_strategy=\"epoch\",\n",
    "   learning_rate=2e-5,\n",
    "   per_device_train_batch_size=batch_size,\n",
    "   per_device_eval_batch_size=batch_size,\n",
    "   weight_decay=0.01,\n",
    "   save_total_limit=3,\n",
    "   num_train_epochs=2,\n",
    "   predict_with_generate=True,\n",
    ")"
   ]
  },
  {
   "cell_type": "code",
   "execution_count": 23,
   "id": "899b6757-3c1b-49ca-8c97-7482310b59eb",
   "metadata": {},
   "outputs": [],
   "source": [
    "data_collator = DataCollatorForSeq2Seq(tokenizer, model=model) # default setting"
   ]
  },
  {
   "cell_type": "code",
   "execution_count": 24,
   "id": "3d3df329-c8eb-42eb-b5e2-770c6fc7b9b9",
   "metadata": {},
   "outputs": [
    {
     "name": "stderr",
     "output_type": "stream",
     "text": [
      "[nltk_data] Downloading package wordnet to /home/jovyan/nltk_data...\n",
      "[nltk_data]   Package wordnet is already up-to-date!\n",
      "[nltk_data] Downloading package punkt to /home/jovyan/nltk_data...\n",
      "[nltk_data]   Package punkt is already up-to-date!\n",
      "[nltk_data] Downloading package omw-1.4 to /home/jovyan/nltk_data...\n",
      "[nltk_data]   Package omw-1.4 is already up-to-date!\n"
     ]
    }
   ],
   "source": [
    "import numpy as np\n",
    "import evaluate\n",
    "\n",
    "metric = evaluate.load(\"sacrebleu\")\n",
    "meteor = evaluate.load('meteor')\n",
    "\n",
    "def postprocess_text(preds, labels):\n",
    "    preds = [pred.strip() for pred in preds]\n",
    "    labels = [[label.strip()] for label in labels]\n",
    "    return preds, labels\n",
    "\n",
    "def compute_metrics(eval_preds):\n",
    "    preds, labels = eval_preds\n",
    "    if isinstance(preds, tuple):\n",
    "        preds = preds[0]\n",
    "    decoded_preds = tokenizer.batch_decode(preds, skip_special_tokens=True)\n",
    "    \n",
    "    # Replace -100 in the labels as we can't decode them.\n",
    "    labels = np.where(labels != -100, labels, tokenizer.pad_token_id)\n",
    "    decoded_labels = tokenizer.batch_decode(labels, skip_special_tokens=True)\n",
    "    \n",
    "    # Some simple post-processing\n",
    "    decoded_preds, decoded_labels = postprocess_text(decoded_preds, decoded_labels)\n",
    "    result = metric.compute(predictions=decoded_preds, references=decoded_labels)\n",
    "    meteor_result = meteor.compute(predictions=decoded_preds, references=decoded_labels)\n",
    "    prediction_lens = [np.count_nonzero(pred != tokenizer.pad_token_id) for pred in preds]\n",
    "    result = {'bleu' : result['score']}\n",
    "    result[\"gen_len\"] = np.mean(prediction_lens)\n",
    "    result[\"meteor\"] = meteor_result[\"meteor\"]\n",
    "    result = {k: round(v, 4) for k, v in result.items()}\n",
    "    return result"
   ]
  },
  {
   "cell_type": "code",
   "execution_count": 25,
   "id": "65e2d2be-dd2d-4745-acb8-dccc4fc6e0c2",
   "metadata": {},
   "outputs": [],
   "source": [
    "trainer = Seq2SeqTrainer(\n",
    "    model,\n",
    "    args,\n",
    "    train_dataset=tokenized_datasets['train'],\n",
    "    eval_dataset=tokenized_datasets['test'],\n",
    "    data_collator=data_collator,\n",
    "    tokenizer=tokenizer,\n",
    "    compute_metrics=compute_metrics,\n",
    ")"
   ]
  },
  {
   "cell_type": "markdown",
   "id": "6e884133-9948-432d-aa21-f4b2e3b39dfc",
   "metadata": {},
   "source": [
    "### Train and Save the Model"
   ]
  },
  {
   "cell_type": "code",
   "execution_count": 26,
   "id": "ae60c32c-46da-4e91-963b-6cb9dc5766ba",
   "metadata": {},
   "outputs": [
    {
     "name": "stderr",
     "output_type": "stream",
     "text": [
      "You're using a MBart50TokenizerFast tokenizer. Please note that with a fast tokenizer, using the `__call__` method is faster than using a method to encode the text followed by a call to the `pad` method to get a padded encoding.\n"
     ]
    },
    {
     "data": {
      "text/html": [
       "\n",
       "    <div>\n",
       "      \n",
       "      <progress value='222' max='222' style='width:300px; height:20px; vertical-align: middle;'></progress>\n",
       "      [222/222 02:22, Epoch 2/2]\n",
       "    </div>\n",
       "    <table border=\"1\" class=\"dataframe\">\n",
       "  <thead>\n",
       " <tr style=\"text-align: left;\">\n",
       "      <th>Epoch</th>\n",
       "      <th>Training Loss</th>\n",
       "      <th>Validation Loss</th>\n",
       "      <th>Bleu</th>\n",
       "      <th>Gen Len</th>\n",
       "      <th>Meteor</th>\n",
       "    </tr>\n",
       "  </thead>\n",
       "  <tbody>\n",
       "    <tr>\n",
       "      <td>1</td>\n",
       "      <td>No log</td>\n",
       "      <td>0.804610</td>\n",
       "      <td>47.104900</td>\n",
       "      <td>55.400000</td>\n",
       "      <td>0.741700</td>\n",
       "    </tr>\n",
       "    <tr>\n",
       "      <td>2</td>\n",
       "      <td>No log</td>\n",
       "      <td>0.801608</td>\n",
       "      <td>47.105700</td>\n",
       "      <td>53.400000</td>\n",
       "      <td>0.739500</td>\n",
       "    </tr>\n",
       "  </tbody>\n",
       "</table><p>"
      ],
      "text/plain": [
       "<IPython.core.display.HTML object>"
      ]
     },
     "metadata": {},
     "output_type": "display_data"
    },
    {
     "data": {
      "text/plain": [
       "TrainOutput(global_step=222, training_loss=0.5791223886850718, metrics={'train_runtime': 142.6421, 'train_samples_per_second': 6.197, 'train_steps_per_second': 1.556, 'total_flos': 113549981024256.0, 'train_loss': 0.5791223886850718, 'epoch': 2.0})"
      ]
     },
     "execution_count": 26,
     "metadata": {},
     "output_type": "execute_result"
    }
   ],
   "source": [
    "trainer.train()"
   ]
  },
  {
   "cell_type": "code",
   "execution_count": 27,
   "id": "6d49761f-797d-4053-8887-d020e6d7c583",
   "metadata": {},
   "outputs": [
    {
     "data": {
      "text/html": [
       "\n",
       "    <div>\n",
       "      \n",
       "      <progress value='2' max='2' style='width:300px; height:20px; vertical-align: middle;'></progress>\n",
       "      [2/2 00:01]\n",
       "    </div>\n",
       "    "
      ],
      "text/plain": [
       "<IPython.core.display.HTML object>"
      ]
     },
     "metadata": {},
     "output_type": "display_data"
    }
   ],
   "source": [
    "eval_result = trainer.evaluate(tokenized_datasets['test'])"
   ]
  },
  {
   "cell_type": "code",
   "execution_count": 28,
   "id": "31523bd7-e548-494d-b163-9711bbc072f5",
   "metadata": {},
   "outputs": [
    {
     "data": {
      "text/plain": [
       "{'eval_loss': 0.8016082644462585,\n",
       " 'eval_bleu': 47.1057,\n",
       " 'eval_gen_len': 53.4,\n",
       " 'eval_meteor': 0.7395,\n",
       " 'eval_runtime': 3.8774,\n",
       " 'eval_samples_per_second': 1.29,\n",
       " 'eval_steps_per_second': 0.516,\n",
       " 'epoch': 2.0}"
      ]
     },
     "execution_count": 28,
     "metadata": {},
     "output_type": "execute_result"
    }
   ],
   "source": [
    "eval_result"
   ]
  },
  {
   "cell_type": "code",
   "execution_count": 29,
   "id": "4c361087-290a-4194-86a9-102c40f3683d",
   "metadata": {},
   "outputs": [],
   "source": [
    "trainer.save_model()"
   ]
  },
  {
   "cell_type": "code",
   "execution_count": 30,
   "id": "2c8129f2-bd08-401d-8e33-2289c1af506b",
   "metadata": {},
   "outputs": [],
   "source": [
    "# trainer.push_to_hub()"
   ]
  },
  {
   "cell_type": "markdown",
   "id": "b008df14-dc52-423d-a7ee-f0d0c90d1f9e",
   "metadata": {},
   "source": [
    "### Test"
   ]
  },
  {
   "cell_type": "code",
   "execution_count": 31,
   "id": "85daf29f-7894-4030-8140-a800a4b9bafd",
   "metadata": {},
   "outputs": [],
   "source": [
    "from transformers import AutoTokenizer, AutoModelForSeq2SeqLM\n",
    "\n",
    "model_name = f\"mbart-finetuned-cn-to-en-auto-2023\"\n",
    "model_path = f\"../models/{model_name}\"\n",
    "\n",
    "tokenizer = AutoTokenizer.from_pretrained(model_path)\n",
    "model = AutoModelForSeq2SeqLM.from_pretrained(model_path)"
   ]
  },
  {
   "cell_type": "code",
   "execution_count": 32,
   "id": "a5736aaf-fecc-4bb0-bb2e-7029c6029208",
   "metadata": {},
   "outputs": [
    {
     "name": "stdout",
     "output_type": "stream",
     "text": [
      "In the case of turning on the air conditioner, the electric range drops too fast, especially when the weather is cold in winter, it is not good to turn off the air conditioner, as soon as the weather freezes, the electric range drops faster.\n"
     ]
    }
   ],
   "source": [
    "sentence = \"开空调的情况下，续航掉的太快了，特别是冬天天气冷的时候，不开空调不行，天气一冻，续航就掉的更快\"\n",
    "\n",
    "tokenizer.src_lang = 'zh_CN'\n",
    "tokenizer.tgt_lang = 'en_XX'\n",
    "\n",
    "encoded = tokenizer(sentence, return_tensors=\"pt\").to(device)\n",
    "model = model.to(device)\n",
    "generated_tokens = model.generate(**encoded)\n",
    "decoded = tokenizer.batch_decode(generated_tokens, skip_special_tokens=True)[0]\n",
    "\n",
    "print(decoded)"
   ]
  },
  {
   "cell_type": "markdown",
   "id": "67bf7399-0978-49eb-b8ac-7413f0f4605a",
   "metadata": {},
   "source": [
    "> \"开空调的情况下，续航掉的太快了，特别是冬天天气冷的时候，不开空调不行，天气一冻，续航就掉的更快\"\n",
    "\n",
    "> 'If the air conditioner is on, the flight resumes too quickly, especially in winter when the weather is cold. If the air conditioner is not on, the flight resumes faster as soon as the weather is cold'"
   ]
  },
  {
   "cell_type": "code",
   "execution_count": 33,
   "id": "0b085e48-e3b1-477a-a9c2-369d1da4673e",
   "metadata": {},
   "outputs": [],
   "source": [
    "def translate(sentence):\n",
    "    encoded = tokenizer(sentence, return_tensors=\"pt\").to(device)\n",
    "    generated_tokens = model.generate(**encoded)\n",
    "    return tokenizer.batch_decode(generated_tokens, skip_special_tokens=True)[0]"
   ]
  },
  {
   "cell_type": "code",
   "execution_count": 34,
   "id": "c728828b-00b7-4492-a34b-3c5f509acf38",
   "metadata": {},
   "outputs": [
    {
     "name": "stdout",
     "output_type": "stream",
     "text": [
      "==============================\n",
      "充电速度快，电机加速性能很好 车辆行驶的质感很好，终身质保 车顶的全景大天幕很上档次，动力强，加速非常快 没有仪表板很不方便；动力回馈力度没办法调节\n",
      "The charging speed is fast and the motor acceleration performance is very good. The driving feeling is very good, and the lifetime warranty. The panoramic canopy on the roof is very high-grade, strong power, and acceleration is very fast. It's inconvenient not to have a dashboard; The strength of power feedback cannot be adjusted.\n",
      "==========\n",
      "The charging speed is fast, and the motor acceleration performance is very good. The texture of the vehicle driving is very good, lifetime warranty. The panoramic sunroof on the roof is very high-grade, the power is strong, and the acceleration is very fast. It is inconvenient to have no dashboard; The power feedback cannot be adjusted.\n",
      "==============================\n",
      "整车线条流畅，现代感十足； 内饰科技感强，座椅功能齐全； 内饰科技感强，座椅舒适； 无\n",
      "The whole car has smooth lines and a modern feeling. The interior has a strong sense of technology and the seats are fully functional; . The interior is highly technologically advanced and the seats are comfortable; . No\n",
      "==========\n",
      "The whole car is smooth and modern;. The interior has a strong sense of technology and seat functions is complete;. The interior has a strong sense of technology and seat comfort;. No\n",
      "==============================\n",
      "刹车后再给油时有顿挫，一直存在这个问题，就更新后有点改观；\n",
      "There was a pause when speeding up after braking, and there has always been this problem, and it has improved a little after the update; .\n",
      "==========\n",
      "There is a setback when refueling after braking, there has always been this problem, it is a little different after the update;.\n",
      "==============================\n",
      "都挺好 时间不长，没有出来 操控灵活 空间稍小\n",
      "All good. It wasn't long and didn't come out. Flexible handling. Slightly less space.\n",
      "==========\n",
      "It's all good. It didn't take long to get out. Flexible handling. Slightly less space.\n",
      "==============================\n",
      "安全性，环保性能； 安全性可以，车气味小； 车比较安全，驾驶起来舒服； 要有插U盘读的音乐；大灯雨雾模式要开起；胎压要有测试；模式各种希望开起；\n",
      "Safety, environmental performance; . Fairly safe, car odor is small; . The car is relatively safe and comfortable to drive; . There should be music inserted into the USB flash drive; The headlight rain and fog mode should be turned on; Tire pressure should be tested; Patterns of various hopes to open up; .\n",
      "==========\n",
      "Safety, environmental performance;. Safety is ok, the smell of the car is small;. The car is relatively safe and the driving is comfortable;. There should be music that can be read on the U disk; The headlight fog mode should be started; Tire pressure should be tested; Modes of various desires to start;.\n"
     ]
    }
   ],
   "source": [
    "for i in dataset['test']['translation'][:5]:\n",
    "    print(\"=\"*30)\n",
    "    print(i['zh'])\n",
    "    print(i['en'])\n",
    "    print(\"=\"*10)\n",
    "    result = translate(i['zh'])\n",
    "    print(result)"
   ]
  },
  {
   "cell_type": "code",
   "execution_count": null,
   "id": "e7fb71d1-caee-48a3-aa34-3c4f2d71e13f",
   "metadata": {},
   "outputs": [],
   "source": []
  }
 ],
 "metadata": {
  "kernelspec": {
   "display_name": "Python 3 (ipykernel)",
   "language": "python",
   "name": "python3"
  },
  "language_info": {
   "codemirror_mode": {
    "name": "ipython",
    "version": 3
   },
   "file_extension": ".py",
   "mimetype": "text/x-python",
   "name": "python",
   "nbconvert_exporter": "python",
   "pygments_lexer": "ipython3",
   "version": "3.8.8"
  }
 },
 "nbformat": 4,
 "nbformat_minor": 5
}
